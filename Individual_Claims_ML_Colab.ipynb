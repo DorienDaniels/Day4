{
  "cells": [
    {
      "cell_type": "markdown",
      "metadata": {
        "ExecuteTime": {
          "end_time": "2019-10-08T11:36:32.756950Z",
          "start_time": "2019-10-08T11:36:32.754908Z"
        },
        "id": "7gU9KQxoJUa-"
      },
      "source": [
        "## Business Case: \n",
        "\n",
        "# Individual Claim Reserving using Machine Learning"
      ]
    },
    {
      "cell_type": "markdown",
      "metadata": {
        "ExecuteTime": {
          "end_time": "2019-10-08T11:36:21.884434Z",
          "start_time": "2019-10-08T11:36:21.878435Z"
        },
        "id": "GpJZitizJUa_"
      },
      "source": [
        "### **Abstract:**"
      ]
    },
    {
      "cell_type": "markdown",
      "metadata": {
        "id": "AItqZXYOJUbA"
      },
      "source": [
        "Modern solvency regulations for the insurance industry, such as Solvency II, require insurance undertakings to predict and measure their future claims. In order to fulfil their future liabilities, insurance companies have to set up claim reserves. As these reserves represent the largest part of the liability balance sheet, their estimation and reliability is of the upmost importance. <br>"
      ]
    },
    {
      "cell_type": "markdown",
      "metadata": {
        "id": "TY8G7t8gJUbA"
      },
      "source": [
        "For more than several decades, the Chain Ladder methodology is the most widely used actuarial method for estimating the ultimate losses. Its simplicity lies in the fact that no assumption is made on the underlying distribution and that it can be applied on an aggregated set of data. Nowadays, the aggregation of the individual claims data into accident and development year can be seen as a loss of information. With the increasing computing power of computers today, modern machine learning techniques (ML) may offer better estimates of provisions. These methods can be used on individual claims data such that no information is lost. <br>"
      ]
    },
    {
      "cell_type": "markdown",
      "metadata": {
        "id": "GQLTgl8gJUbB"
      },
      "source": [
        "In this business case, we focus on the application of Machine Learning techniques on individual claims reserving and especially the implementation of Neural Networks. We will compare their results with traditional reserving methods on different simulated samples where the correct observations are known. The findings offer a better understanding of possible complexity of the nature of the claims in the sense that Neural Networks are able to differentiate claims with statistically different underlying patterns. <br>"
      ]
    },
    {
      "cell_type": "markdown",
      "metadata": {
        "id": "tajcrWUnJUbB"
      },
      "source": [
        "## **Goals:**"
      ]
    },
    {
      "cell_type": "markdown",
      "metadata": {
        "id": "PDKuoZ4cJUbB"
      },
      "source": [
        "* Focus on the field of reserving\n",
        "* Recap of the traditional reserving methods \n",
        "* Application of Machine Learning techniques on individual claims data\n",
        "* Analyse the comparison of methods\n",
        "* Point out weaknesses of traditional methods which can be solved by ML."
      ]
    },
    {
      "cell_type": "markdown",
      "metadata": {
        "id": "fP_2su9cJUbC"
      },
      "source": [
        "## **Disclaimer:**"
      ]
    },
    {
      "cell_type": "markdown",
      "metadata": {
        "id": "9z4-5FGOJUbC"
      },
      "source": [
        "This training has been developed for the purpose of Reacfin training material only. Any reproduction and any use of copies carried out to other ends is strictly prohibited."
      ]
    },
    {
      "cell_type": "markdown",
      "metadata": {
        "id": "ZdgfNPxUJUbC"
      },
      "source": [
        "## **Material:**"
      ]
    },
    {
      "cell_type": "markdown",
      "metadata": {
        "id": "ci_zSXpsJUbC"
      },
      "source": [
        "This Jupyter Notebook will be used throughout the business case as part of the teaching material, especially to support the implementation part. It will be sent to the participants after the course such that the user can rerun the command lines afterwards."
      ]
    },
    {
      "cell_type": "markdown",
      "metadata": {
        "id": "Ow3X2JaDJUbD"
      },
      "source": [
        "# Agenda"
      ]
    },
    {
      "cell_type": "markdown",
      "metadata": {
        "id": "urNH2a02JUbD"
      },
      "source": [
        "* [Chapter 1 - Materials and Import](#one)\n",
        "    + [1.1 Required materials](#one-one)\n",
        "        + [1.1.1 Python 3.7](#one-one-one)\n",
        "        + [1.1.2 Libraries](#one-one-two)\n",
        "    + [1.2 The data](#one-two)\n",
        "        + [1.2.1 Data simulations](#one-two-one)\n",
        "        + [1.2.2 Importing data samples](#one-two-two)\n",
        "        + [1.2.3 Importing the data samples](#one-two-three)\n",
        "        + [1.2.4 Transforming the data into triangles](#one-two-four)\n",
        "        + [1.2.5 Importing the full samples: computing the aimed provisions](#one-two-five)"
      ]
    },
    {
      "cell_type": "markdown",
      "metadata": {
        "id": "rkl4tjtGJUbD"
      },
      "source": [
        "* [Chapter 2 - Chain Ladder Algorithm](#two)\n",
        "    + [2.1 Introduction](#two-one)\n",
        "    + [2.2 Development factors](#two-two)\n",
        "    + [2.3 Completion of the triangle](#two-three)\n",
        "    + [2.4 Total reserves](#two-four)"
      ]
    },
    {
      "cell_type": "markdown",
      "metadata": {
        "id": "DBBzTwscJUbD"
      },
      "source": [
        "* [Chapter 3 - Generalized Linear Models](#three)\n",
        "    + [3.1 Introduction](#three-one)\n",
        "    + [3.2 Methodology](#three-two)\n",
        "    + [3.3 GLM on Aggregated Data](#three-three)\n",
        "    + [3.4 GLM on Individual Data](#three-four)"
      ]
    },
    {
      "cell_type": "markdown",
      "metadata": {
        "id": "xAWinUb8JUbD"
      },
      "source": [
        "* [Chapter 4 - Machine Learning on Individual Claims Data](#four)\n",
        "    + [4.1 Method](#four-one)\n",
        "    + [4.2 Introduction to neural networks](#four-two)\n",
        "        + [4.2.1 Neural Networks brick: the neuron](#four-two-one)\n",
        "        + [4.2.2 Activation function](#four-two-two)\n",
        "        + [4.2.3 The global neural network structure](#four-two-three)\n",
        "        + [4.2.4 Other hyper parameters](#four-two-four)\n",
        "    + [4.3 Machine learning practices reminder](#four-three)\n",
        "        + [4.3.1 Cross validation](#four-three-one)\n",
        "        + [4.3.2 MSE - Assess the performances](#four-three-two)\n",
        "        + [4.3.3 Tuning grids](#four-three-three)\n",
        "        + [4.3.4 Building the final models](#four-three-four)\n",
        "    + [4.4 Applying neural networks](#four-four)"
      ]
    },
    {
      "cell_type": "markdown",
      "metadata": {
        "id": "Kb4Na4CMJUbD"
      },
      "source": [
        "* [Chapter 5 - Projection analysis](#five)\n",
        "    + [5.1 Sample 1](#five-one)\n",
        "    + [5.2 Sample 2](#five-two)\n",
        "    + [5.3 Sample 3](#five-three)\n",
        "    + [5.4 Sample 4](#five-four)\n",
        "    + [5.5 Sample 5](#five-five)"
      ]
    },
    {
      "cell_type": "markdown",
      "metadata": {
        "id": "qJtlJsVAJUbE"
      },
      "source": [
        "* [Chapter 6 - Conclusion](#six)"
      ]
    },
    {
      "cell_type": "markdown",
      "metadata": {
        "id": "vAO7zxUDJUbE"
      },
      "source": [
        "**Training roadmap:**\n",
        "\n",
        "<center><img src=\"https://raw.githubusercontent.com/Reacfin/Training_Databases/main/NL_reserving_ANN/images/roadmap.png\" width=\"1200\"/></center>"
      ]
    },
    {
      "cell_type": "markdown",
      "metadata": {
        "id": "roN_UvfdJUbE"
      },
      "source": [
        "\n",
        "<br> <br>\n",
        "<br> <br>\n"
      ]
    },
    {
      "cell_type": "markdown",
      "metadata": {
        "id": "xBKILvqmJUbE"
      },
      "source": [
        "# Chapter 1 - Materials and Import <a name=\"one\"></a>"
      ]
    },
    {
      "cell_type": "markdown",
      "metadata": {
        "id": "ZBvdwOapJUbE"
      },
      "source": [
        "In this chapter, we will give details about the **IT framework required** for this training. After a quick reminder on **how to install Python**, which version is requested and how to use  **pip installer**, we will give you the **list of all the libraries** we will need to install. Then, we will define the **data of the study**.\n",
        "<br>"
      ]
    },
    {
      "cell_type": "markdown",
      "metadata": {
        "id": "zk5QTu_TJUbE"
      },
      "source": [
        "<br>"
      ]
    },
    {
      "cell_type": "markdown",
      "metadata": {
        "id": "fdFTMegcJUbF"
      },
      "source": [
        "## 1.1 Required materials<a name=\"one-one\"></a>"
      ]
    },
    {
      "cell_type": "markdown",
      "metadata": {
        "id": "OFDp9ZfDJUbF"
      },
      "source": [
        "In this section we will list the different **materials required for the study**.\n",
        "<br>"
      ]
    },
    {
      "cell_type": "markdown",
      "metadata": {
        "id": "lv3M7RfbJUbF"
      },
      "source": [
        "<br>"
      ]
    },
    {
      "cell_type": "markdown",
      "metadata": {
        "id": "B4x9TJplJUbF"
      },
      "source": [
        "### 1.1.1 Python 3.7<a name=\"one-one-one\"></a>"
      ]
    },
    {
      "cell_type": "markdown",
      "metadata": {
        "id": "Aj6GiC8XJUbF"
      },
      "source": [
        "For this tutorial, we will use **Python 3.7**. We recommend a *Python* library installer called *pip*.\n",
        "\n",
        "\n",
        "* Please find the *Python 3.7* Installer [here](https://www.python.org/downloads/). **Take the 64 bit version**. Once *Python* is installed, *pip* can be installed;\n",
        "* Please find the *pip* installer [here](https://pip.pypa.io/en/stable/installing/);\n",
        "* For Windows users, a **setting-up** is available [here](https://projects.raspberrypi.org/en/projects/using-pip-on-windows).\n",
        "<br>"
      ]
    },
    {
      "cell_type": "markdown",
      "metadata": {
        "id": "6X9LiPo6JUbF"
      },
      "source": [
        "<br>"
      ]
    },
    {
      "cell_type": "markdown",
      "metadata": {
        "id": "Bxn-vWUIJUbF"
      },
      "source": [
        "### 1.1.2 Libraries<a name=\"one-one-two\"></a>"
      ]
    },
    {
      "cell_type": "markdown",
      "metadata": {
        "id": "jhC6uBzZJUbF"
      },
      "source": [
        "In this training, we will use the **following libraries**: \n",
        "\n",
        "|Library | Definition                                                                             |  Url      | pip command | Installed version |\n",
        "|----|---------------------------------------------------------------------------------|-----------|--------|-------|\n",
        "| os | Miscellaneous operating system interfaces. Provides a portable way of using operating system dependent functionality | https://docs.python.org/3/library/os.html |   _   |   3.7  |\n",
        "| numpy | Fundamental package for scientific computing. Numpy allows the user to integrate C/C++ and Fortran code to Python projects | http://www.numpy.org/ |   _    |   1.17.2 |\n",
        "| matplotlib | Python 2D plotting library that contains many submodules like pyplot, a matlab-like interface\t|   https://matplotlib.org/index.html |   pip install matplotlib   |    3.1.1 |\n",
        "| pickle | Allows to export and import data | https://docs.python.org/3.7/library/pickle.html | _ | 3.7 |\n",
        "| math | Mathematical functions such as exponential, sine, etc. | https://docs.python.org/3.7/library/math.html#module-math | _ | 3.7 |\n",
        "| collections | Allows operations on list, dict, set and tuple such as element counters and gives subclasses on those items | https://docs.python.org/3.7/library/collections.html |  _  | 3.7  |\n",
        "| statsmodels | Statistics tools such as GLM | https://www.statsmodels.org/stable/index.html | _ | 0.10.1 |\n",
        "| sklearn | Widely used machine learning library with classification, regression, clustering, model selection, preprocessing etc. | http://scikit-learn.org/stable/ | pip install sklearn | 0.22.3  |\n",
        "| pandas | Provides high-performance, easy-to-use data structures and data analysis tools | https://pandas.pydata.org/ | pip install pandas |  0.25.1 |"
      ]
    },
    {
      "cell_type": "markdown",
      "metadata": {
        "id": "6qQ29ILiJUbG"
      },
      "source": [
        "As a reminder, the **\"pip command\" is what you will have to write in the command prompt** in order to install the library. If there is no \"pip command\" in the table above, it means that the library is already included in the Python basic environment. Below, a screenshot that represents a command prompt and the **syntax to install the library \"sklean\" using pip**:\n",
        "\n",
        "<br>\n",
        "\n",
        "<center><img src=\"https://raw.githubusercontent.com/Reacfin/Training_Databases/main/NL_reserving_ANN/images/pip_command_prompt.png\" width=\"1200\"/></center>\n",
        "\n",
        "<br>\n",
        "\n",
        "A way to **access the command prompt** on Windows is to use the following shortcut: **Win + R keys $\\rightarrow$ \"cmd\" $\\rightarrow$ enter key**"
      ]
    },
    {
      "cell_type": "code",
      "execution_count": 3,
      "metadata": {
        "ExecuteTime": {
          "end_time": "2019-10-08T14:30:55.205170Z",
          "start_time": "2019-10-08T14:30:55.203074Z"
        },
        "id": "hiQ2QqvbJUbG"
      },
      "outputs": [],
      "source": [
        "import os, pickle, math"
      ]
    },
    {
      "cell_type": "markdown",
      "metadata": {
        "id": "zr-j7NhQJUbG"
      },
      "source": [
        "The following syntax will **disable warning messages**: some packages we use have deprecated functions that produce too much warning messages."
      ]
    },
    {
      "cell_type": "code",
      "execution_count": 4,
      "metadata": {
        "ExecuteTime": {
          "end_time": "2019-10-08T14:30:55.216070Z",
          "start_time": "2019-10-08T14:30:55.212070Z"
        },
        "id": "XmctvMp5JUbG"
      },
      "outputs": [],
      "source": [
        "import warnings; warnings.filterwarnings(\"ignore\") # delete warnings"
      ]
    },
    {
      "cell_type": "markdown",
      "metadata": {
        "id": "rC1mLA62JUbH"
      },
      "source": [
        "Basically, we know that we will have to use *pandas* library many times. To **improve the code readability**, we will also use `import pandas as pd`. Thus, we will be able to use a pandas function using `pd.name_of_a_function`. We will apply the same manipulation for *pyplot*, a *matplotlib* module."
      ]
    },
    {
      "cell_type": "code",
      "execution_count": 5,
      "metadata": {
        "ExecuteTime": {
          "end_time": "2019-10-08T14:30:57.087811Z",
          "start_time": "2019-10-08T14:30:55.221071Z"
        },
        "id": "d5MLxhdfJUbH"
      },
      "outputs": [],
      "source": [
        "import pandas as pd\n",
        "import matplotlib.pyplot as plt\n",
        "import statsmodels.api as sm\n",
        "import numpy as np"
      ]
    },
    {
      "cell_type": "markdown",
      "metadata": {
        "id": "JGYzYM-kJUbH"
      },
      "source": [
        "The approach has **several benefits**:\n",
        "\n",
        "* Few functions (and their dependences) are loaded;\n",
        "* We can just call the function by its name."
      ]
    },
    {
      "cell_type": "markdown",
      "metadata": {
        "id": "C9Awx7SQJUbH"
      },
      "source": [
        "Some libraries, such as *sklearn*, are **too big for the use we will have**. Therefore, we prefer to import only *GridSearchCV* from *sklearn*. The same logic is used for some other libraries:"
      ]
    },
    {
      "cell_type": "code",
      "execution_count": 6,
      "metadata": {
        "ExecuteTime": {
          "end_time": "2019-10-08T14:30:57.183716Z",
          "start_time": "2019-10-08T14:30:57.088730Z"
        },
        "id": "GE13P9ayJUbH"
      },
      "outputs": [],
      "source": [
        "from sklearn.neural_network import MLPRegressor\n",
        "from sklearn.preprocessing import MinMaxScaler\n",
        "from sklearn.model_selection import train_test_split, GridSearchCV, PredefinedSplit\n",
        "\n",
        "from collections import Counter\n",
        "from matplotlib.ticker import MaxNLocator"
      ]
    },
    {
      "cell_type": "markdown",
      "metadata": {
        "id": "CgMnCq49JUbH"
      },
      "source": [
        "<br>"
      ]
    },
    {
      "cell_type": "markdown",
      "metadata": {
        "id": "sZlAH4UrJUbH"
      },
      "source": [
        "## 1.2 The data <a name=\"one-two\"></a>"
      ]
    },
    {
      "cell_type": "markdown",
      "metadata": {
        "id": "gbXXH3L7JUbH"
      },
      "source": [
        "- As always, finding the right data to investigate a new methodology is one the most crucial steps in the process. <br> <br>\n",
        "\n",
        "- In this business case, we followed the same idea as the ASTIN Report on Machine Learning techniques on Individual Claims Data by simulating a synthetic dataset. (Reference: ASTIN Working Party (2017). *Individual Claim Development with Machine Learning*. ASTIN Report). <br> <br>\n",
        "\n",
        "- Because we want to tackle the traditional reserving methods, we created samples with different individual patterns. For each claim, we simulate the paid and outstanding amounts for a fixed period of development."
      ]
    },
    {
      "cell_type": "markdown",
      "metadata": {
        "id": "mhaBBz77JUbI"
      },
      "source": [
        "All the data will be located in the following folder:"
      ]
    },
    {
      "cell_type": "code",
      "execution_count": 1,
      "metadata": {
        "ExecuteTime": {
          "end_time": "2019-10-08T14:30:57.187696Z",
          "start_time": "2019-10-08T14:30:57.185736Z"
        },
        "id": "_8P7K5oZJUbI"
      },
      "outputs": [],
      "source": [
        "data_folder_path = \"https://raw.githubusercontent.com/Reacfin/Training_Databases/main/NL_reserving_ANN/data/\""
      ]
    },
    {
      "cell_type": "markdown",
      "metadata": {
        "id": "lgOKMkDVJUbI"
      },
      "source": [
        "<br>"
      ]
    },
    {
      "cell_type": "markdown",
      "metadata": {
        "id": "jr6iJ5VfJUbI"
      },
      "source": [
        "### 1.2.1 Data simulations <a name=\"one-two-one\"></a>"
      ]
    },
    {
      "cell_type": "markdown",
      "metadata": {
        "id": "08lGe9OWJUbI"
      },
      "source": [
        "* In order to obtain a database which can be used for individual as well as aggregated reserving techniques, we start with simulating the development of individual claims. Therefore, we generate amounts of paid ($P(t)$), outstandings ($O(t)$) and incurred claims ($I(t)$). We assume that the individual claims obey the following distribution laws: <br> <br>\n",
        "\n",
        "    * Paid claim: $P(t) = U \\cdot F_P(t)$\n",
        "    * Outstanding claim: $O(t) = U \\cdot F_O(t)$\n",
        "    * Incurred claim: $I(t) = P(t) + O(t)$\n",
        "\n",
        "\n",
        "\n",
        "    "
      ]
    },
    {
      "cell_type": "markdown",
      "metadata": {
        "id": "2oaWCHotJUbI"
      },
      "source": [
        "* The variables $U$ and $F(t)$ describe, respectively, the severity and the development pattern of the claim: <br> <br>\n",
        " \n",
        "    * The severity, at ultimate, follows a lognormal distribution $U \\sim LN(\\mu,\\sigma)$\n",
        "    * The development patterns, age-to-ultimate, follow, at each time $t$, a lognormal distribution $F(t) \\sim LN(\\mu t, \\sigma t)$\n",
        "    * As you can observe, the variable $U$ does not depend on time $t$, which means the ultimate claim amount is simulated at the beginning for each claim but does not change over time."
      ]
    },
    {
      "cell_type": "markdown",
      "metadata": {
        "id": "JQC0zdy7JUbI"
      },
      "source": [
        "* In order to take into account the specifics of paid and outstandings development patterns, we define the mean of the lognormal distribution in both cases ($F_P(t)$ & $F_O(t)$): <br> <br>\n",
        "\n",
        "    * $ F_P(t) \\sim LN \\biggl( \\bigl[ 1-e^{\\frac{-t-\\tau}{\\lambda}} \\bigr]^{\\alpha},\\sigma_t \\biggr) $, for paid claims\n",
        "    * $ F_O(t) \\sim LN \\biggl( \\alpha e^{−\\bigl(\\frac{t-\\tau}{\\lambda}\\bigr)^2},\\sigma_t \\biggr) $, for outstanding claims "
      ]
    },
    {
      "cell_type": "markdown",
      "metadata": {
        "id": "kBzgMk5nJUbJ"
      },
      "source": [
        "* These distributions will strongly influence the behaviour of an individual claim. To properly see the different effects of the methods under analysis, we choose to simulate two different patterns, a so-called short tail pattern and a long tail pattern depending on how long it takes for the claim to reach its ultimate amount. As an example, material damage in a motor insurance is usually known as short tailed while non-material claims under a motor third party liability are considered long tailed."
      ]
    },
    {
      "cell_type": "markdown",
      "metadata": {
        "ExecuteTime": {
          "end_time": "2019-10-08T11:43:43.465283Z",
          "start_time": "2019-10-08T11:43:43.458282Z"
        },
        "id": "uCMss3iHJUbJ"
      },
      "source": [
        "* In the following Python code, we plot the development of an average claim with a short tail as well as a long tail. In fact, we look at the mean $\\mu$ of the previous lognormal distributions that will be used for the simulation. We leave the user to change the different parameters of the distributions and observe the effect on the pattern. (Tip: comment the original values with the symbol `#` such that you do not lose those values.) In the end, the distributions are chosen such that: <br> <br>\n",
        "\n",
        "    * The development of payments reaches 1, which means that the claim will tend to move to its ultimate view.\n",
        "    * The development of the outstanding amounts reaches 0 which is a logical step as the amount of outstanding reserves reduces if the claim develops further.\n",
        "    * The development of the incurred claims equals 1 on a long term because the outstanding claims tend to move to 0.\n",
        "    <br> <br>"
      ]
    },
    {
      "cell_type": "markdown",
      "metadata": {
        "ExecuteTime": {
          "end_time": "2019-10-08T11:44:05.240141Z",
          "start_time": "2019-10-08T11:44:05.235138Z"
        },
        "id": "h_7BT5MCJUbJ"
      },
      "source": [
        "* Apart from the mean of the lognormal distribution described below, we choose a standard deviation $\\sigma_t$ of 2%.\n",
        "\n",
        "\n",
        "|**Inputs**|**Claim**  |Tau |Lambda|Alpha|\n",
        "|:---------|:----------|:---|:-----|:----|\n",
        "|Short Tail|Paid       |0.0 |1.5   |6.0  |\n",
        "|Short Tail|Outstanding|1.6 |5.0   |0.6  |\n",
        "|Long Tail |Paid       |-1.5|4.0   |6.0  |\n",
        "|Long Tail |Outstanding|3.0 |6.0   |1.1  |"
      ]
    },
    {
      "cell_type": "markdown",
      "metadata": {
        "id": "zlIRDdpgJUbJ"
      },
      "source": [
        "<center><img src=\"https://raw.githubusercontent.com/Reacfin/Training_Databases/main/NL_reserving_ANN/images/simulated_data.png\" width=\"1200\"/></center>"
      ]
    },
    {
      "cell_type": "markdown",
      "metadata": {
        "id": "tLZvMRwwJUbJ"
      },
      "source": [
        "* Finally, in order to induce a dependency between the paid and the outstanding claims, we link these amounts by a Frank copula $F_P(t)$ ⋈ $F_O(t)$ for each $t$. The data model assumes higher dependency in the tail. <br> <br>\n",
        "\n",
        "* The obtained data set thus contains 20 accident and development years. Each claim has separate paid and outstanding amounts and each claim develops with its own distribution law, while maintaining a dependency through Frank's Copula."
      ]
    },
    {
      "cell_type": "markdown",
      "metadata": {
        "id": "qbby3r9PJUbJ"
      },
      "source": [
        "<br>"
      ]
    },
    {
      "cell_type": "markdown",
      "metadata": {
        "id": "INyEzPxKJUbK"
      },
      "source": [
        "### 1.2.2 Creating the data samples <a name=\"one-two-two\"></a>"
      ]
    },
    {
      "cell_type": "markdown",
      "metadata": {
        "id": "MchyFQGBJUbK"
      },
      "source": [
        "* For the short-tailed sample, we start with a simulation of 6000 individual claims which we will call Sample 1. The parameters of the lognormal distribution that we chose, are depicted above with the index (_ST). Claim simulations are evenly allocated over the 20 accident years, which means we have 300 claims per year. The mean ultimate amount of paid claims is set to 1 million."
      ]
    },
    {
      "cell_type": "markdown",
      "metadata": {
        "id": "0RqLLFCMJUbK"
      },
      "source": [
        "* The long-tail sample, denoted Sample 2, consists of 4000 individual claims. Again the claims are evenly spread, such that we have 200 claims per year. The underlying claim pattern of this sample is of course different from Sample 1, because we now use other parameters for the lognormal distribution. Again, the mean ultimate amount of paid claims is set to 1 million.\n",
        "\n",
        "\n",
        "* Based on the first 2 samples which have a different underlying development pattern, we produce three more samples each with a total number of simulated claims equal to 10.000. Each of these three samples is a simple combination of the two samples above, only their respective allocations of claims to the 20 accident years is different. By applying such a technique, we will obtain samples where the reserving methods perform similarly. But once we have a change in the development trend throughout the accident years, some reserving methods will outperform the others. In the next table, we present a table consisting of the allocations by accident year for Samples 3, 4 and 5. For the accident years, we choose a range from 1998 to 2017."
      ]
    },
    {
      "cell_type": "markdown",
      "metadata": {
        "id": "Zens6UiIJUbK"
      },
      "source": [
        "<center><img src=\"https://raw.githubusercontent.com/Reacfin/Training_Databases/main/NL_reserving_ANN/images/table_allocation.png\" width=\"1200\"/></center>"
      ]
    },
    {
      "cell_type": "markdown",
      "metadata": {
        "id": "dNz9LohkJUbK"
      },
      "source": [
        "* Observing the table, we can see that the first mixed sample (Sample 3) has a stable ratio between claims of different development. However, in Sample 4, there is a change in the pattern because we move from a high ratio of long tail claims towards a high ratio of short tail claims. This will obviously have a result on the total predicted provisions. While the Chain Ladder algorithm is only able to estimate an average development pattern, it will never capture the changing trend. We will see later on if Machine Learning techniques on individual data can tackle this phenomenon. The last sample (Sample 5) presents a sudden change in the ratio at the last two accident years."
      ]
    },
    {
      "cell_type": "markdown",
      "metadata": {
        "id": "c3Cz8tuWJUbK"
      },
      "source": [
        "* Up to this point, the samples are created in such a way that their development is simulated for 20 years independent of the accident year. This means that for a claim of accident year 2000, we know the yearly amount of payments that are made for this claim up to the year 2020. However, in real life, we only observe part of the development depending on the accident year. Because we have a range of accident years up to 2017, we will only observe the development until that year. This concept is illustrated in the 2 figures below.\n",
        "\n",
        "<center><img src=\"https://raw.githubusercontent.com/Reacfin/Training_Databases/main/NL_reserving_ANN/images/synthetic_vs_real.png\" width=\"1200\"/></center>"
      ]
    },
    {
      "cell_type": "markdown",
      "metadata": {
        "id": "VJX5RcQ5JUbK"
      },
      "source": [
        "* We will thus create for each of the samples, an *observed* part which only contains information up to the year 2017. As an example, for claims in accident year 2017, we will only have 1 amount of payments, i.e. the first development year. Later on in the notebook, we will refer to a sample and its corresponding **full** sample. <br> <br>\n",
        "\n",
        "* In the graphs below, we end this section with the average claim by accident year for each of the 5 different samples. Remember that those samples are now the **real** observations in the sense that we only observe the payments up untill 2017. The different effects that we wanted to capture in those samples, are clearly observable."
      ]
    },
    {
      "cell_type": "markdown",
      "metadata": {
        "id": "GpGHXK_aJUbK"
      },
      "source": [
        "<center><img src=\"https://raw.githubusercontent.com/Reacfin/Training_Databases/main/NL_reserving_ANN/images/sample1_2.png\" height=\"800\"/></center>"
      ]
    },
    {
      "cell_type": "markdown",
      "metadata": {
        "id": "j-yMh5ukJUbL"
      },
      "source": [
        "<center><img src=\"https://raw.githubusercontent.com/Reacfin/Training_Databases/main/NL_reserving_ANN/images/sample3_4.png\" height=\"800\"/></center>"
      ]
    },
    {
      "cell_type": "markdown",
      "metadata": {
        "id": "eKbQ4M-uJUbL"
      },
      "source": [
        "<center><img src=\"https://raw.githubusercontent.com/Reacfin/Training_Databases/main/NL_reserving_ANN/images/sample5.png\" height=\"800\"/></center>"
      ]
    },
    {
      "cell_type": "markdown",
      "metadata": {
        "id": "2Pgnl98CJUbL"
      },
      "source": [
        "<br>"
      ]
    },
    {
      "cell_type": "markdown",
      "metadata": {
        "id": "e_VTtOqhJUbL"
      },
      "source": [
        "### 1.2.3 Importing the data samples <a name=\"one-two-three\"></a>"
      ]
    },
    {
      "cell_type": "markdown",
      "metadata": {
        "id": "TxiGKHgnJUbL"
      },
      "source": [
        "* By the method outlined in the previous subsection, we created several synthetic data sets containing claims in 20 accident years developed over maximally 20 years. Depending on the sample, the development pattern and the number of claims are different. In a first step of the analysis, we import the different samples.\n"
      ]
    },
    {
      "cell_type": "code",
      "execution_count": 103,
      "metadata": {
        "ExecuteTime": {
          "end_time": "2019-10-08T14:30:57.247691Z",
          "start_time": "2019-10-08T14:30:57.189696Z"
        },
        "colab": {
          "base_uri": "https://localhost:8080/"
        },
        "id": "Ug-gi7H-JUbL",
        "outputId": "6fbd71e0-7680-438f-fb2d-5638200e12d6"
      },
      "outputs": [
        {
          "output_type": "stream",
          "name": "stdout",
          "text": [
            "   ID   Acc  Dev   Cal    Paid  Outstanding  Incurred  PaidIncr\n",
            "0   1  1998    1  1998   19813       561091    580905     19813\n",
            "1   1  1998    2  1999   77470       287270    364740     57657\n",
            "2   1  1998    3  2000  398261       336041    734303    320791\n",
            "3   1  1998    4  2001  398261       225731    623992         0\n",
            "4   1  1998    5  2002  706425       737326   1443751    308164\n"
          ]
        }
      ],
      "source": [
        "# Create the file paths by using os\n",
        "filename = os.path.join(data_folder_path, 'sample1.csv')\n",
        "Sample1 = pd.read_csv(filename\n",
        "                      , header = 0\n",
        "                      , sep = ','\n",
        "                      , comment ='#'\n",
        "                      , na_values=[\"\"])\n",
        "\n",
        "# Output the total database or the first lines of the database\n",
        "print(Sample1.head())"
      ]
    },
    {
      "cell_type": "markdown",
      "metadata": {
        "id": "ccLSGSS8JUbM"
      },
      "source": [
        "<br>"
      ]
    },
    {
      "cell_type": "markdown",
      "metadata": {
        "id": "87DIqq1RJUbM"
      },
      "source": [
        "* We observe the following variables: <br> <br>\n",
        "\n",
        "    * `ID`: the policy number that we created in order to sample the different individual claims.\n",
        "    * `Acc`: the accident year of the claim (which will be the same for a given `ID` number).\n",
        "    * `Dev`: the development year of a given claim (with a maximum of 20 years).\n",
        "    * `Paid`: the simulated **cumulative** paid claim amounts for a claim in a specific accident year and development year.\n",
        "    * `Outstanding`: the simulated outstanding claim amounts for a claim in a specific accident year and development year.\n",
        "    * `Incurred`: the incurred amounts for a claim in a specific accident year and development year (which equals the sum of the paid and outstanding claim amounts).\n",
        "    * `PaidIncr`: the **incremental** paid claim amounts, i.e. the amount that is paid **only** in that development year.<br><br>"
      ]
    },
    {
      "cell_type": "code",
      "execution_count": null,
      "metadata": {
        "ExecuteTime": {
          "end_time": "2019-10-08T14:30:57.258699Z",
          "start_time": "2019-10-08T14:30:57.249691Z"
        },
        "scrolled": true,
        "id": "qzLm-Sw-JUbM",
        "outputId": "58591cf5-f14b-44a2-98ad-a15c6a64444a"
      },
      "outputs": [
        {
          "data": {
            "text/plain": [
              "ID             False\n",
              "Acc            False\n",
              "Dev            False\n",
              "Cal            False\n",
              "Paid           False\n",
              "Outstanding    False\n",
              "Incurred       False\n",
              "PaidIncr       False\n",
              "dtype: bool"
            ]
          },
          "execution_count": 10,
          "metadata": {},
          "output_type": "execute_result"
        }
      ],
      "source": [
        "# It is good practice to check if there are any missing data as well.\n",
        "Sample1.isnull().any()"
      ]
    },
    {
      "cell_type": "markdown",
      "metadata": {
        "id": "qwyFkOndJUbM"
      },
      "source": [
        "<br>"
      ]
    },
    {
      "cell_type": "markdown",
      "metadata": {
        "id": "mZBeS9PHJUbM"
      },
      "source": [
        "* We can do this step for the other samples as well and create a list to check if all datasets are loaded correctly."
      ]
    },
    {
      "cell_type": "code",
      "execution_count": 8,
      "metadata": {
        "ExecuteTime": {
          "end_time": "2019-10-08T14:30:57.533726Z",
          "start_time": "2019-10-08T14:30:57.260689Z"
        },
        "id": "UJwoKfwoJUbM"
      },
      "outputs": [],
      "source": [
        "Sample2 = pd.read_csv(os.path.join(data_folder_path, 'sample2.csv'), header=0, sep=',', comment='#', na_values=[\"\"])\n",
        "Sample3 = pd.read_csv(os.path.join(data_folder_path, 'sample3.csv'), header=0, sep=',', comment='#', na_values=[\"\"])\n",
        "Sample4 = pd.read_csv(os.path.join(data_folder_path, 'sample4.csv'), header=0, sep=',', comment='#', na_values=[\"\"])\n",
        "Sample5 = pd.read_csv(os.path.join(data_folder_path, 'sample5.csv'), header=0, sep=',', comment='#', na_values=[\"\"])"
      ]
    },
    {
      "cell_type": "markdown",
      "metadata": {
        "id": "AVw9lzbeJUbN"
      },
      "source": [
        "* A quick overview on Sample2 values:"
      ]
    },
    {
      "cell_type": "code",
      "execution_count": 9,
      "metadata": {
        "ExecuteTime": {
          "end_time": "2019-10-08T14:31:01.249353Z",
          "start_time": "2019-10-08T14:31:01.238350Z"
        },
        "colab": {
          "base_uri": "https://localhost:8080/",
          "height": 206
        },
        "id": "_sy5kql2JUbN",
        "outputId": "7cb28cb4-c953-4da4-ef1f-149f7ae4b5b6"
      },
      "outputs": [
        {
          "output_type": "execute_result",
          "data": {
            "text/plain": [
              "     ID   Acc  Dev   Cal    Paid  Outstanding   Incurred  PaidIncr\n",
              "0  6001  1998    1  1998      40      1108072  1108111.0      40.0\n",
              "1  6001  1998    2  1999  312066      1361235  1673301.0  312026.0\n",
              "2  6001  1998    3  2000  312066       819863  1131928.0       0.0\n",
              "3  6001  1998    4  2001  312066       794227  1106293.0       0.0\n",
              "4  6001  1998    5  2002  312066       968678  1280743.0       0.0"
            ],
            "text/html": [
              "\n",
              "  <div id=\"df-b0b93c00-6672-4c53-bf93-4c4d21369dc6\">\n",
              "    <div class=\"colab-df-container\">\n",
              "      <div>\n",
              "<style scoped>\n",
              "    .dataframe tbody tr th:only-of-type {\n",
              "        vertical-align: middle;\n",
              "    }\n",
              "\n",
              "    .dataframe tbody tr th {\n",
              "        vertical-align: top;\n",
              "    }\n",
              "\n",
              "    .dataframe thead th {\n",
              "        text-align: right;\n",
              "    }\n",
              "</style>\n",
              "<table border=\"1\" class=\"dataframe\">\n",
              "  <thead>\n",
              "    <tr style=\"text-align: right;\">\n",
              "      <th></th>\n",
              "      <th>ID</th>\n",
              "      <th>Acc</th>\n",
              "      <th>Dev</th>\n",
              "      <th>Cal</th>\n",
              "      <th>Paid</th>\n",
              "      <th>Outstanding</th>\n",
              "      <th>Incurred</th>\n",
              "      <th>PaidIncr</th>\n",
              "    </tr>\n",
              "  </thead>\n",
              "  <tbody>\n",
              "    <tr>\n",
              "      <th>0</th>\n",
              "      <td>6001</td>\n",
              "      <td>1998</td>\n",
              "      <td>1</td>\n",
              "      <td>1998</td>\n",
              "      <td>40</td>\n",
              "      <td>1108072</td>\n",
              "      <td>1108111.0</td>\n",
              "      <td>40.0</td>\n",
              "    </tr>\n",
              "    <tr>\n",
              "      <th>1</th>\n",
              "      <td>6001</td>\n",
              "      <td>1998</td>\n",
              "      <td>2</td>\n",
              "      <td>1999</td>\n",
              "      <td>312066</td>\n",
              "      <td>1361235</td>\n",
              "      <td>1673301.0</td>\n",
              "      <td>312026.0</td>\n",
              "    </tr>\n",
              "    <tr>\n",
              "      <th>2</th>\n",
              "      <td>6001</td>\n",
              "      <td>1998</td>\n",
              "      <td>3</td>\n",
              "      <td>2000</td>\n",
              "      <td>312066</td>\n",
              "      <td>819863</td>\n",
              "      <td>1131928.0</td>\n",
              "      <td>0.0</td>\n",
              "    </tr>\n",
              "    <tr>\n",
              "      <th>3</th>\n",
              "      <td>6001</td>\n",
              "      <td>1998</td>\n",
              "      <td>4</td>\n",
              "      <td>2001</td>\n",
              "      <td>312066</td>\n",
              "      <td>794227</td>\n",
              "      <td>1106293.0</td>\n",
              "      <td>0.0</td>\n",
              "    </tr>\n",
              "    <tr>\n",
              "      <th>4</th>\n",
              "      <td>6001</td>\n",
              "      <td>1998</td>\n",
              "      <td>5</td>\n",
              "      <td>2002</td>\n",
              "      <td>312066</td>\n",
              "      <td>968678</td>\n",
              "      <td>1280743.0</td>\n",
              "      <td>0.0</td>\n",
              "    </tr>\n",
              "  </tbody>\n",
              "</table>\n",
              "</div>\n",
              "      <button class=\"colab-df-convert\" onclick=\"convertToInteractive('df-b0b93c00-6672-4c53-bf93-4c4d21369dc6')\"\n",
              "              title=\"Convert this dataframe to an interactive table.\"\n",
              "              style=\"display:none;\">\n",
              "        \n",
              "  <svg xmlns=\"http://www.w3.org/2000/svg\" height=\"24px\"viewBox=\"0 0 24 24\"\n",
              "       width=\"24px\">\n",
              "    <path d=\"M0 0h24v24H0V0z\" fill=\"none\"/>\n",
              "    <path d=\"M18.56 5.44l.94 2.06.94-2.06 2.06-.94-2.06-.94-.94-2.06-.94 2.06-2.06.94zm-11 1L8.5 8.5l.94-2.06 2.06-.94-2.06-.94L8.5 2.5l-.94 2.06-2.06.94zm10 10l.94 2.06.94-2.06 2.06-.94-2.06-.94-.94-2.06-.94 2.06-2.06.94z\"/><path d=\"M17.41 7.96l-1.37-1.37c-.4-.4-.92-.59-1.43-.59-.52 0-1.04.2-1.43.59L10.3 9.45l-7.72 7.72c-.78.78-.78 2.05 0 2.83L4 21.41c.39.39.9.59 1.41.59.51 0 1.02-.2 1.41-.59l7.78-7.78 2.81-2.81c.8-.78.8-2.07 0-2.86zM5.41 20L4 18.59l7.72-7.72 1.47 1.35L5.41 20z\"/>\n",
              "  </svg>\n",
              "      </button>\n",
              "      \n",
              "  <style>\n",
              "    .colab-df-container {\n",
              "      display:flex;\n",
              "      flex-wrap:wrap;\n",
              "      gap: 12px;\n",
              "    }\n",
              "\n",
              "    .colab-df-convert {\n",
              "      background-color: #E8F0FE;\n",
              "      border: none;\n",
              "      border-radius: 50%;\n",
              "      cursor: pointer;\n",
              "      display: none;\n",
              "      fill: #1967D2;\n",
              "      height: 32px;\n",
              "      padding: 0 0 0 0;\n",
              "      width: 32px;\n",
              "    }\n",
              "\n",
              "    .colab-df-convert:hover {\n",
              "      background-color: #E2EBFA;\n",
              "      box-shadow: 0px 1px 2px rgba(60, 64, 67, 0.3), 0px 1px 3px 1px rgba(60, 64, 67, 0.15);\n",
              "      fill: #174EA6;\n",
              "    }\n",
              "\n",
              "    [theme=dark] .colab-df-convert {\n",
              "      background-color: #3B4455;\n",
              "      fill: #D2E3FC;\n",
              "    }\n",
              "\n",
              "    [theme=dark] .colab-df-convert:hover {\n",
              "      background-color: #434B5C;\n",
              "      box-shadow: 0px 1px 3px 1px rgba(0, 0, 0, 0.15);\n",
              "      filter: drop-shadow(0px 1px 2px rgba(0, 0, 0, 0.3));\n",
              "      fill: #FFFFFF;\n",
              "    }\n",
              "  </style>\n",
              "\n",
              "      <script>\n",
              "        const buttonEl =\n",
              "          document.querySelector('#df-b0b93c00-6672-4c53-bf93-4c4d21369dc6 button.colab-df-convert');\n",
              "        buttonEl.style.display =\n",
              "          google.colab.kernel.accessAllowed ? 'block' : 'none';\n",
              "\n",
              "        async function convertToInteractive(key) {\n",
              "          const element = document.querySelector('#df-b0b93c00-6672-4c53-bf93-4c4d21369dc6');\n",
              "          const dataTable =\n",
              "            await google.colab.kernel.invokeFunction('convertToInteractive',\n",
              "                                                     [key], {});\n",
              "          if (!dataTable) return;\n",
              "\n",
              "          const docLinkHtml = 'Like what you see? Visit the ' +\n",
              "            '<a target=\"_blank\" href=https://colab.research.google.com/notebooks/data_table.ipynb>data table notebook</a>'\n",
              "            + ' to learn more about interactive tables.';\n",
              "          element.innerHTML = '';\n",
              "          dataTable['output_type'] = 'display_data';\n",
              "          await google.colab.output.renderOutput(dataTable, element);\n",
              "          const docLink = document.createElement('div');\n",
              "          docLink.innerHTML = docLinkHtml;\n",
              "          element.appendChild(docLink);\n",
              "        }\n",
              "      </script>\n",
              "    </div>\n",
              "  </div>\n",
              "  "
            ]
          },
          "metadata": {},
          "execution_count": 9
        }
      ],
      "source": [
        "Sample2.head()"
      ]
    },
    {
      "cell_type": "markdown",
      "metadata": {
        "id": "zcLs-aA4JUbN"
      },
      "source": [
        "* Using the `describe` function argument, we have descriptive statistics for the asked variables (similar to the `summary` function on R)"
      ]
    },
    {
      "cell_type": "code",
      "execution_count": 10,
      "metadata": {
        "ExecuteTime": {
          "end_time": "2019-10-08T12:17:18.004737Z",
          "start_time": "2019-10-08T12:17:17.972738Z"
        },
        "colab": {
          "base_uri": "https://localhost:8080/",
          "height": 300
        },
        "id": "QPjK8LheJUbN",
        "outputId": "04eaa862-2ccb-4f35-ab80-f2b1aa7a6248"
      },
      "outputs": [
        {
          "output_type": "execute_result",
          "data": {
            "text/plain": [
              "               Paid   Outstanding      Incurred      PaidIncr\n",
              "count  4.200000e+04  4.200000e+04  4.200000e+04  4.200000e+04\n",
              "mean   5.021111e+05  6.395396e+05  1.141651e+06  6.508325e+04\n",
              "std    4.045830e+05  4.765488e+05  3.804493e+05  1.324454e+05\n",
              "min    0.000000e+00  0.000000e+00  2.757430e+05  0.000000e+00\n",
              "25%    8.403225e+04  1.622002e+05  8.777130e+05  0.000000e+00\n",
              "50%    4.892620e+05  6.775055e+05  1.070590e+06  2.420000e+02\n",
              "75%    8.358042e+05  9.884558e+05  1.326291e+06  7.130600e+04\n",
              "max    1.771288e+06  6.477281e+06  7.455802e+06  1.440082e+06"
            ],
            "text/html": [
              "\n",
              "  <div id=\"df-2c1b3849-c70f-4c08-a6f4-2df843cfc453\">\n",
              "    <div class=\"colab-df-container\">\n",
              "      <div>\n",
              "<style scoped>\n",
              "    .dataframe tbody tr th:only-of-type {\n",
              "        vertical-align: middle;\n",
              "    }\n",
              "\n",
              "    .dataframe tbody tr th {\n",
              "        vertical-align: top;\n",
              "    }\n",
              "\n",
              "    .dataframe thead th {\n",
              "        text-align: right;\n",
              "    }\n",
              "</style>\n",
              "<table border=\"1\" class=\"dataframe\">\n",
              "  <thead>\n",
              "    <tr style=\"text-align: right;\">\n",
              "      <th></th>\n",
              "      <th>Paid</th>\n",
              "      <th>Outstanding</th>\n",
              "      <th>Incurred</th>\n",
              "      <th>PaidIncr</th>\n",
              "    </tr>\n",
              "  </thead>\n",
              "  <tbody>\n",
              "    <tr>\n",
              "      <th>count</th>\n",
              "      <td>4.200000e+04</td>\n",
              "      <td>4.200000e+04</td>\n",
              "      <td>4.200000e+04</td>\n",
              "      <td>4.200000e+04</td>\n",
              "    </tr>\n",
              "    <tr>\n",
              "      <th>mean</th>\n",
              "      <td>5.021111e+05</td>\n",
              "      <td>6.395396e+05</td>\n",
              "      <td>1.141651e+06</td>\n",
              "      <td>6.508325e+04</td>\n",
              "    </tr>\n",
              "    <tr>\n",
              "      <th>std</th>\n",
              "      <td>4.045830e+05</td>\n",
              "      <td>4.765488e+05</td>\n",
              "      <td>3.804493e+05</td>\n",
              "      <td>1.324454e+05</td>\n",
              "    </tr>\n",
              "    <tr>\n",
              "      <th>min</th>\n",
              "      <td>0.000000e+00</td>\n",
              "      <td>0.000000e+00</td>\n",
              "      <td>2.757430e+05</td>\n",
              "      <td>0.000000e+00</td>\n",
              "    </tr>\n",
              "    <tr>\n",
              "      <th>25%</th>\n",
              "      <td>8.403225e+04</td>\n",
              "      <td>1.622002e+05</td>\n",
              "      <td>8.777130e+05</td>\n",
              "      <td>0.000000e+00</td>\n",
              "    </tr>\n",
              "    <tr>\n",
              "      <th>50%</th>\n",
              "      <td>4.892620e+05</td>\n",
              "      <td>6.775055e+05</td>\n",
              "      <td>1.070590e+06</td>\n",
              "      <td>2.420000e+02</td>\n",
              "    </tr>\n",
              "    <tr>\n",
              "      <th>75%</th>\n",
              "      <td>8.358042e+05</td>\n",
              "      <td>9.884558e+05</td>\n",
              "      <td>1.326291e+06</td>\n",
              "      <td>7.130600e+04</td>\n",
              "    </tr>\n",
              "    <tr>\n",
              "      <th>max</th>\n",
              "      <td>1.771288e+06</td>\n",
              "      <td>6.477281e+06</td>\n",
              "      <td>7.455802e+06</td>\n",
              "      <td>1.440082e+06</td>\n",
              "    </tr>\n",
              "  </tbody>\n",
              "</table>\n",
              "</div>\n",
              "      <button class=\"colab-df-convert\" onclick=\"convertToInteractive('df-2c1b3849-c70f-4c08-a6f4-2df843cfc453')\"\n",
              "              title=\"Convert this dataframe to an interactive table.\"\n",
              "              style=\"display:none;\">\n",
              "        \n",
              "  <svg xmlns=\"http://www.w3.org/2000/svg\" height=\"24px\"viewBox=\"0 0 24 24\"\n",
              "       width=\"24px\">\n",
              "    <path d=\"M0 0h24v24H0V0z\" fill=\"none\"/>\n",
              "    <path d=\"M18.56 5.44l.94 2.06.94-2.06 2.06-.94-2.06-.94-.94-2.06-.94 2.06-2.06.94zm-11 1L8.5 8.5l.94-2.06 2.06-.94-2.06-.94L8.5 2.5l-.94 2.06-2.06.94zm10 10l.94 2.06.94-2.06 2.06-.94-2.06-.94-.94-2.06-.94 2.06-2.06.94z\"/><path d=\"M17.41 7.96l-1.37-1.37c-.4-.4-.92-.59-1.43-.59-.52 0-1.04.2-1.43.59L10.3 9.45l-7.72 7.72c-.78.78-.78 2.05 0 2.83L4 21.41c.39.39.9.59 1.41.59.51 0 1.02-.2 1.41-.59l7.78-7.78 2.81-2.81c.8-.78.8-2.07 0-2.86zM5.41 20L4 18.59l7.72-7.72 1.47 1.35L5.41 20z\"/>\n",
              "  </svg>\n",
              "      </button>\n",
              "      \n",
              "  <style>\n",
              "    .colab-df-container {\n",
              "      display:flex;\n",
              "      flex-wrap:wrap;\n",
              "      gap: 12px;\n",
              "    }\n",
              "\n",
              "    .colab-df-convert {\n",
              "      background-color: #E8F0FE;\n",
              "      border: none;\n",
              "      border-radius: 50%;\n",
              "      cursor: pointer;\n",
              "      display: none;\n",
              "      fill: #1967D2;\n",
              "      height: 32px;\n",
              "      padding: 0 0 0 0;\n",
              "      width: 32px;\n",
              "    }\n",
              "\n",
              "    .colab-df-convert:hover {\n",
              "      background-color: #E2EBFA;\n",
              "      box-shadow: 0px 1px 2px rgba(60, 64, 67, 0.3), 0px 1px 3px 1px rgba(60, 64, 67, 0.15);\n",
              "      fill: #174EA6;\n",
              "    }\n",
              "\n",
              "    [theme=dark] .colab-df-convert {\n",
              "      background-color: #3B4455;\n",
              "      fill: #D2E3FC;\n",
              "    }\n",
              "\n",
              "    [theme=dark] .colab-df-convert:hover {\n",
              "      background-color: #434B5C;\n",
              "      box-shadow: 0px 1px 3px 1px rgba(0, 0, 0, 0.15);\n",
              "      filter: drop-shadow(0px 1px 2px rgba(0, 0, 0, 0.3));\n",
              "      fill: #FFFFFF;\n",
              "    }\n",
              "  </style>\n",
              "\n",
              "      <script>\n",
              "        const buttonEl =\n",
              "          document.querySelector('#df-2c1b3849-c70f-4c08-a6f4-2df843cfc453 button.colab-df-convert');\n",
              "        buttonEl.style.display =\n",
              "          google.colab.kernel.accessAllowed ? 'block' : 'none';\n",
              "\n",
              "        async function convertToInteractive(key) {\n",
              "          const element = document.querySelector('#df-2c1b3849-c70f-4c08-a6f4-2df843cfc453');\n",
              "          const dataTable =\n",
              "            await google.colab.kernel.invokeFunction('convertToInteractive',\n",
              "                                                     [key], {});\n",
              "          if (!dataTable) return;\n",
              "\n",
              "          const docLinkHtml = 'Like what you see? Visit the ' +\n",
              "            '<a target=\"_blank\" href=https://colab.research.google.com/notebooks/data_table.ipynb>data table notebook</a>'\n",
              "            + ' to learn more about interactive tables.';\n",
              "          element.innerHTML = '';\n",
              "          dataTable['output_type'] = 'display_data';\n",
              "          await google.colab.output.renderOutput(dataTable, element);\n",
              "          const docLink = document.createElement('div');\n",
              "          docLink.innerHTML = docLinkHtml;\n",
              "          element.appendChild(docLink);\n",
              "        }\n",
              "      </script>\n",
              "    </div>\n",
              "  </div>\n",
              "  "
            ]
          },
          "metadata": {},
          "execution_count": 10
        }
      ],
      "source": [
        "Sample2[['Paid','Outstanding','Incurred','PaidIncr']].describe()"
      ]
    },
    {
      "cell_type": "markdown",
      "metadata": {
        "id": "KAohx0faJUbN"
      },
      "source": [
        "<br>"
      ]
    },
    {
      "cell_type": "markdown",
      "metadata": {
        "id": "IIsmWpMPJUbN"
      },
      "source": [
        "### 1.2.4 Transforming the data into triangles <a name=\"one-two-four\"></a>"
      ]
    },
    {
      "cell_type": "markdown",
      "metadata": {
        "id": "MYVt9HLCJUbN"
      },
      "source": [
        "\n",
        "* Historical insurance data is often presented in form of a triangle structure, showing the development of claims over time for each exposure (origin) period. An origin period could be the year the policy was written, or the loss occurrence period. The period can be yearly, quarterly or 6 months depending on the type of data. The development period of an origin period is also called age or lag. Data on the diagonals present payments in the same calendar period. In this business case, we will work on a yearly basis which means we have the claim amounts by accident year as well as development year. <br> <br>\n",
        "\n",
        "* We start our study by the traditional Chain Ladder method, which is based on the aggregated cumulative claim amounts. Therefore, we compute first the claims development triangles of the different samples which are organized by accident and development year."
      ]
    },
    {
      "cell_type": "code",
      "execution_count": 11,
      "metadata": {
        "ExecuteTime": {
          "end_time": "2019-10-08T12:17:18.086761Z",
          "start_time": "2019-10-08T12:17:18.007734Z"
        },
        "colab": {
          "base_uri": "https://localhost:8080/",
          "height": 424
        },
        "id": "gkBcWpobJUbO",
        "outputId": "54c5a242-5455-44c4-e9ac-2344c2fd04c1"
      },
      "outputs": [
        {
          "output_type": "execute_result",
          "data": {
            "text/plain": [
              "      Acc  Dev       Paid  Outstanding     Incurred\n",
              "0    1998    1    3440098    392393146  395833250.0\n",
              "1    1998    2   18110343    416323430  434433765.0\n",
              "2    1998    3   50250456    431034681  481285157.0\n",
              "3    1998    4   93455512    417853198  511308714.0\n",
              "4    1998    5  138870723    379436206  518306919.0\n",
              "..    ...  ...        ...          ...          ...\n",
              "205  2015    2   91002686    367171011  458173689.0\n",
              "206  2015    3  245531307    342305274  587836583.0\n",
              "207  2016    1    4789106    357266093  362055226.0\n",
              "208  2016    2   83840659    360225562  444066227.0\n",
              "209  2017    1    5080380    355557053  360637413.0\n",
              "\n",
              "[210 rows x 5 columns]"
            ],
            "text/html": [
              "\n",
              "  <div id=\"df-a3fabf85-2277-40ce-bc2b-840636ee735a\">\n",
              "    <div class=\"colab-df-container\">\n",
              "      <div>\n",
              "<style scoped>\n",
              "    .dataframe tbody tr th:only-of-type {\n",
              "        vertical-align: middle;\n",
              "    }\n",
              "\n",
              "    .dataframe tbody tr th {\n",
              "        vertical-align: top;\n",
              "    }\n",
              "\n",
              "    .dataframe thead th {\n",
              "        text-align: right;\n",
              "    }\n",
              "</style>\n",
              "<table border=\"1\" class=\"dataframe\">\n",
              "  <thead>\n",
              "    <tr style=\"text-align: right;\">\n",
              "      <th></th>\n",
              "      <th>Acc</th>\n",
              "      <th>Dev</th>\n",
              "      <th>Paid</th>\n",
              "      <th>Outstanding</th>\n",
              "      <th>Incurred</th>\n",
              "    </tr>\n",
              "  </thead>\n",
              "  <tbody>\n",
              "    <tr>\n",
              "      <th>0</th>\n",
              "      <td>1998</td>\n",
              "      <td>1</td>\n",
              "      <td>3440098</td>\n",
              "      <td>392393146</td>\n",
              "      <td>395833250.0</td>\n",
              "    </tr>\n",
              "    <tr>\n",
              "      <th>1</th>\n",
              "      <td>1998</td>\n",
              "      <td>2</td>\n",
              "      <td>18110343</td>\n",
              "      <td>416323430</td>\n",
              "      <td>434433765.0</td>\n",
              "    </tr>\n",
              "    <tr>\n",
              "      <th>2</th>\n",
              "      <td>1998</td>\n",
              "      <td>3</td>\n",
              "      <td>50250456</td>\n",
              "      <td>431034681</td>\n",
              "      <td>481285157.0</td>\n",
              "    </tr>\n",
              "    <tr>\n",
              "      <th>3</th>\n",
              "      <td>1998</td>\n",
              "      <td>4</td>\n",
              "      <td>93455512</td>\n",
              "      <td>417853198</td>\n",
              "      <td>511308714.0</td>\n",
              "    </tr>\n",
              "    <tr>\n",
              "      <th>4</th>\n",
              "      <td>1998</td>\n",
              "      <td>5</td>\n",
              "      <td>138870723</td>\n",
              "      <td>379436206</td>\n",
              "      <td>518306919.0</td>\n",
              "    </tr>\n",
              "    <tr>\n",
              "      <th>...</th>\n",
              "      <td>...</td>\n",
              "      <td>...</td>\n",
              "      <td>...</td>\n",
              "      <td>...</td>\n",
              "      <td>...</td>\n",
              "    </tr>\n",
              "    <tr>\n",
              "      <th>205</th>\n",
              "      <td>2015</td>\n",
              "      <td>2</td>\n",
              "      <td>91002686</td>\n",
              "      <td>367171011</td>\n",
              "      <td>458173689.0</td>\n",
              "    </tr>\n",
              "    <tr>\n",
              "      <th>206</th>\n",
              "      <td>2015</td>\n",
              "      <td>3</td>\n",
              "      <td>245531307</td>\n",
              "      <td>342305274</td>\n",
              "      <td>587836583.0</td>\n",
              "    </tr>\n",
              "    <tr>\n",
              "      <th>207</th>\n",
              "      <td>2016</td>\n",
              "      <td>1</td>\n",
              "      <td>4789106</td>\n",
              "      <td>357266093</td>\n",
              "      <td>362055226.0</td>\n",
              "    </tr>\n",
              "    <tr>\n",
              "      <th>208</th>\n",
              "      <td>2016</td>\n",
              "      <td>2</td>\n",
              "      <td>83840659</td>\n",
              "      <td>360225562</td>\n",
              "      <td>444066227.0</td>\n",
              "    </tr>\n",
              "    <tr>\n",
              "      <th>209</th>\n",
              "      <td>2017</td>\n",
              "      <td>1</td>\n",
              "      <td>5080380</td>\n",
              "      <td>355557053</td>\n",
              "      <td>360637413.0</td>\n",
              "    </tr>\n",
              "  </tbody>\n",
              "</table>\n",
              "<p>210 rows × 5 columns</p>\n",
              "</div>\n",
              "      <button class=\"colab-df-convert\" onclick=\"convertToInteractive('df-a3fabf85-2277-40ce-bc2b-840636ee735a')\"\n",
              "              title=\"Convert this dataframe to an interactive table.\"\n",
              "              style=\"display:none;\">\n",
              "        \n",
              "  <svg xmlns=\"http://www.w3.org/2000/svg\" height=\"24px\"viewBox=\"0 0 24 24\"\n",
              "       width=\"24px\">\n",
              "    <path d=\"M0 0h24v24H0V0z\" fill=\"none\"/>\n",
              "    <path d=\"M18.56 5.44l.94 2.06.94-2.06 2.06-.94-2.06-.94-.94-2.06-.94 2.06-2.06.94zm-11 1L8.5 8.5l.94-2.06 2.06-.94-2.06-.94L8.5 2.5l-.94 2.06-2.06.94zm10 10l.94 2.06.94-2.06 2.06-.94-2.06-.94-.94-2.06-.94 2.06-2.06.94z\"/><path d=\"M17.41 7.96l-1.37-1.37c-.4-.4-.92-.59-1.43-.59-.52 0-1.04.2-1.43.59L10.3 9.45l-7.72 7.72c-.78.78-.78 2.05 0 2.83L4 21.41c.39.39.9.59 1.41.59.51 0 1.02-.2 1.41-.59l7.78-7.78 2.81-2.81c.8-.78.8-2.07 0-2.86zM5.41 20L4 18.59l7.72-7.72 1.47 1.35L5.41 20z\"/>\n",
              "  </svg>\n",
              "      </button>\n",
              "      \n",
              "  <style>\n",
              "    .colab-df-container {\n",
              "      display:flex;\n",
              "      flex-wrap:wrap;\n",
              "      gap: 12px;\n",
              "    }\n",
              "\n",
              "    .colab-df-convert {\n",
              "      background-color: #E8F0FE;\n",
              "      border: none;\n",
              "      border-radius: 50%;\n",
              "      cursor: pointer;\n",
              "      display: none;\n",
              "      fill: #1967D2;\n",
              "      height: 32px;\n",
              "      padding: 0 0 0 0;\n",
              "      width: 32px;\n",
              "    }\n",
              "\n",
              "    .colab-df-convert:hover {\n",
              "      background-color: #E2EBFA;\n",
              "      box-shadow: 0px 1px 2px rgba(60, 64, 67, 0.3), 0px 1px 3px 1px rgba(60, 64, 67, 0.15);\n",
              "      fill: #174EA6;\n",
              "    }\n",
              "\n",
              "    [theme=dark] .colab-df-convert {\n",
              "      background-color: #3B4455;\n",
              "      fill: #D2E3FC;\n",
              "    }\n",
              "\n",
              "    [theme=dark] .colab-df-convert:hover {\n",
              "      background-color: #434B5C;\n",
              "      box-shadow: 0px 1px 3px 1px rgba(0, 0, 0, 0.15);\n",
              "      filter: drop-shadow(0px 1px 2px rgba(0, 0, 0, 0.3));\n",
              "      fill: #FFFFFF;\n",
              "    }\n",
              "  </style>\n",
              "\n",
              "      <script>\n",
              "        const buttonEl =\n",
              "          document.querySelector('#df-a3fabf85-2277-40ce-bc2b-840636ee735a button.colab-df-convert');\n",
              "        buttonEl.style.display =\n",
              "          google.colab.kernel.accessAllowed ? 'block' : 'none';\n",
              "\n",
              "        async function convertToInteractive(key) {\n",
              "          const element = document.querySelector('#df-a3fabf85-2277-40ce-bc2b-840636ee735a');\n",
              "          const dataTable =\n",
              "            await google.colab.kernel.invokeFunction('convertToInteractive',\n",
              "                                                     [key], {});\n",
              "          if (!dataTable) return;\n",
              "\n",
              "          const docLinkHtml = 'Like what you see? Visit the ' +\n",
              "            '<a target=\"_blank\" href=https://colab.research.google.com/notebooks/data_table.ipynb>data table notebook</a>'\n",
              "            + ' to learn more about interactive tables.';\n",
              "          element.innerHTML = '';\n",
              "          dataTable['output_type'] = 'display_data';\n",
              "          await google.colab.output.renderOutput(dataTable, element);\n",
              "          const docLink = document.createElement('div');\n",
              "          docLink.innerHTML = docLinkHtml;\n",
              "          element.appendChild(docLink);\n",
              "        }\n",
              "      </script>\n",
              "    </div>\n",
              "  </div>\n",
              "  "
            ]
          },
          "metadata": {},
          "execution_count": 11
        }
      ],
      "source": [
        "def aggregate(df, var_to_aggregate = [\"Paid\", \"Outstanding\", \"Incurred\"]):\n",
        "    return(df[var_to_aggregate].groupby([df['Acc'],df['Dev']]).sum().reset_index())\n",
        "\n",
        "Sample1_Aggr = aggregate(Sample1)\n",
        "Sample2_Aggr = aggregate(Sample2)\n",
        "Sample3_Aggr = aggregate(Sample3)\n",
        "Sample4_Aggr = aggregate(Sample4)\n",
        "Sample5_Aggr = aggregate(Sample5)\n",
        "\n",
        "Sample4_Aggr"
      ]
    },
    {
      "cell_type": "markdown",
      "metadata": {
        "id": "z-rruyRVJUbO"
      },
      "source": [
        "* This may seem complicated, but we can break this line of code down into several steps: <br> <br>\n",
        " \n",
        " * Sample1['Paid'] : We choose the column we want to aggregate. If there are several columns, we have to use double brackets. <br> <br>\n",
        " \n",
        " * groupby([claims['Acc'],claims['Dev']]) : We want to perform  a step (here the calculation of the aggregate column) for each combination of accident year `Acc` and development year `Dev`. <br> <br>\n",
        " \n",
        " * sum() : We are choosing sum as our function to aggregate. <br> <br>\n",
        " \n",
        " * reset_index() : This command forces the DataFrame to reset the “index” for each line so that the accident year and the development year are forced into their own columns. This may be easier to explain by looking at the result without the reset_index function. Try it out yourself! <br> <br>\n",
        " "
      ]
    },
    {
      "cell_type": "markdown",
      "metadata": {
        "id": "Hz-C0ye4JUbO"
      },
      "source": [
        "* We are now ready to create a triangle. The Pandas function “pivot_table” works very similar to Pivot Tables in Excel, which you might be more familiar with. We first need to calculate the cumulative sum at each development lag for our accident years. This is done using a similar technique as above. When transforming a table into a triangle, note that we have to specify the location (= column name) of the index variable, the columns and the values in each cell of the triangle."
      ]
    },
    {
      "cell_type": "code",
      "execution_count": 12,
      "metadata": {
        "ExecuteTime": {
          "end_time": "2019-10-08T12:17:18.156778Z",
          "start_time": "2019-10-08T12:17:18.088777Z"
        },
        "colab": {
          "base_uri": "https://localhost:8080/",
          "height": 803
        },
        "id": "8rn7QopHJUbO",
        "outputId": "a5888d50-ed2e-4e51-e9a0-3aa43cc51d49"
      },
      "outputs": [
        {
          "output_type": "execute_result",
          "data": {
            "text/plain": [
              "           Paid                                                     \\\n",
              "Dev          1           2            3            4            5    \n",
              "Acc                                                                  \n",
              "1998  3119574.0  47184563.0  129571818.0  205210185.0  250488154.0   \n",
              "1999  2611938.0  48712676.0  128109553.0  199696111.0  251226483.0   \n",
              "2000  3660623.0  48578158.0  131138360.0  203536066.0  248153147.0   \n",
              "2001  1969019.0  46814727.0  129874801.0  200157921.0  249622859.0   \n",
              "2002  4136072.0  51272019.0  133205433.0  207331606.0  250449602.0   \n",
              "2003  3592737.0  49380700.0  135461144.0  203766029.0  249377437.0   \n",
              "2004  1617625.0  52367903.0  127123345.0  197583449.0  243772955.0   \n",
              "2005  1617463.0  54874170.0  127918577.0  199922166.0  247481150.0   \n",
              "2006  4056397.0  46620968.0  128762059.0  199871502.0  246708416.0   \n",
              "2007  2094358.0  46397031.0  132602794.0  199503974.0  250744434.0   \n",
              "2008  3204310.0  39314302.0  127133116.0  195618362.0  242022989.0   \n",
              "2009  2281020.0  48134704.0  129443792.0  207226593.0  253528126.0   \n",
              "2010  3247383.0  45355418.0  130948545.0  197259488.0  245848248.0   \n",
              "2011  4023190.0  52422934.0  135085441.0  213929806.0  262775639.0   \n",
              "2012  4058287.0  50069534.0  142260025.0  206867581.0  257968282.0   \n",
              "2013  3335156.0  52570292.0  133763178.0  206994774.0  254275027.0   \n",
              "2014  1727421.0  48142658.0  129925423.0  202030672.0          NaN   \n",
              "2015  2707623.0  44076323.0  130639869.0          NaN          NaN   \n",
              "2016  3057485.0  41569188.0          NaN          NaN          NaN   \n",
              "2017  2458100.0         NaN          NaN          NaN          NaN   \n",
              "\n",
              "                                                                       \\\n",
              "Dev            6            7            8            9            10   \n",
              "Acc                                                                     \n",
              "1998  276516578.0  289448982.0  294634712.0  296987563.0  298408518.0   \n",
              "1999  278089709.0  289787024.0  296221318.0  298266730.0  300175319.0   \n",
              "2000  275513570.0  290183175.0  294503166.0  297416709.0  298048416.0   \n",
              "2001  277553530.0  291323882.0  296885103.0  299858417.0  300647979.0   \n",
              "2002  278628322.0  291498846.0  297631758.0  299684467.0  300737201.0   \n",
              "2003  279661188.0  292897321.0  298935320.0  301306174.0  302478780.0   \n",
              "2004  270937790.0  284027624.0  288476178.0  291655828.0  292905426.0   \n",
              "2005  271736199.0  284764683.0  290172197.0  293216102.0  294050119.0   \n",
              "2006  274025670.0  288207447.0  292632220.0  295478977.0  296856077.0   \n",
              "2007  276357306.0  288067869.0  293180137.0  296397535.0  297531722.0   \n",
              "2008  271386829.0  285957669.0  290641213.0  292650676.0  293443420.0   \n",
              "2009  275339116.0  289163444.0  294661052.0  298098369.0          NaN   \n",
              "2010  277067336.0  288809927.0  294575540.0          NaN          NaN   \n",
              "2011  289531575.0  302093905.0          NaN          NaN          NaN   \n",
              "2012  283492730.0          NaN          NaN          NaN          NaN   \n",
              "2013          NaN          NaN          NaN          NaN          NaN   \n",
              "2014          NaN          NaN          NaN          NaN          NaN   \n",
              "2015          NaN          NaN          NaN          NaN          NaN   \n",
              "2016          NaN          NaN          NaN          NaN          NaN   \n",
              "2017          NaN          NaN          NaN          NaN          NaN   \n",
              "\n",
              "                                                                       \\\n",
              "Dev            11           12           13           14           15   \n",
              "Acc                                                                     \n",
              "1998  298969208.0  299128356.0  299192093.0  299201869.0  299251875.0   \n",
              "1999  300640482.0  301104421.0  301215670.0  301215670.0  301215670.0   \n",
              "2000  298624624.0  298742396.0  298842383.0  298842383.0  298867680.0   \n",
              "2001  300887259.0  301125373.0  301141469.0  301141469.0  301174692.0   \n",
              "2002  301370591.0  301559103.0  301564603.0  301599364.0  301741001.0   \n",
              "2003  303047244.0  303430365.0  303465828.0  303502076.0  303505693.0   \n",
              "2004  293363320.0  293685400.0  293845884.0  293894154.0          NaN   \n",
              "2005  294484365.0  294601142.0  294967350.0          NaN          NaN   \n",
              "2006  297484700.0  297760715.0          NaN          NaN          NaN   \n",
              "2007  298185366.0          NaN          NaN          NaN          NaN   \n",
              "2008          NaN          NaN          NaN          NaN          NaN   \n",
              "2009          NaN          NaN          NaN          NaN          NaN   \n",
              "2010          NaN          NaN          NaN          NaN          NaN   \n",
              "2011          NaN          NaN          NaN          NaN          NaN   \n",
              "2012          NaN          NaN          NaN          NaN          NaN   \n",
              "2013          NaN          NaN          NaN          NaN          NaN   \n",
              "2014          NaN          NaN          NaN          NaN          NaN   \n",
              "2015          NaN          NaN          NaN          NaN          NaN   \n",
              "2016          NaN          NaN          NaN          NaN          NaN   \n",
              "2017          NaN          NaN          NaN          NaN          NaN   \n",
              "\n",
              "                                                                       \n",
              "Dev            16           17           18           19           20  \n",
              "Acc                                                                    \n",
              "1998  299251875.0  299268955.0  299268955.0  299268955.0  299268955.0  \n",
              "1999  301215670.0  301215670.0  301215670.0  301215670.0          NaN  \n",
              "2000  298870240.0  298919155.0  298922412.0          NaN          NaN  \n",
              "2001  301174692.0  301174692.0          NaN          NaN          NaN  \n",
              "2002  301741001.0          NaN          NaN          NaN          NaN  \n",
              "2003          NaN          NaN          NaN          NaN          NaN  \n",
              "2004          NaN          NaN          NaN          NaN          NaN  \n",
              "2005          NaN          NaN          NaN          NaN          NaN  \n",
              "2006          NaN          NaN          NaN          NaN          NaN  \n",
              "2007          NaN          NaN          NaN          NaN          NaN  \n",
              "2008          NaN          NaN          NaN          NaN          NaN  \n",
              "2009          NaN          NaN          NaN          NaN          NaN  \n",
              "2010          NaN          NaN          NaN          NaN          NaN  \n",
              "2011          NaN          NaN          NaN          NaN          NaN  \n",
              "2012          NaN          NaN          NaN          NaN          NaN  \n",
              "2013          NaN          NaN          NaN          NaN          NaN  \n",
              "2014          NaN          NaN          NaN          NaN          NaN  \n",
              "2015          NaN          NaN          NaN          NaN          NaN  \n",
              "2016          NaN          NaN          NaN          NaN          NaN  \n",
              "2017          NaN          NaN          NaN          NaN          NaN  "
            ],
            "text/html": [
              "\n",
              "  <div id=\"df-bf8583a6-bbc6-4712-9972-bf87e3a52d8c\">\n",
              "    <div class=\"colab-df-container\">\n",
              "      <div>\n",
              "<style scoped>\n",
              "    .dataframe tbody tr th:only-of-type {\n",
              "        vertical-align: middle;\n",
              "    }\n",
              "\n",
              "    .dataframe tbody tr th {\n",
              "        vertical-align: top;\n",
              "    }\n",
              "\n",
              "    .dataframe thead tr th {\n",
              "        text-align: left;\n",
              "    }\n",
              "\n",
              "    .dataframe thead tr:last-of-type th {\n",
              "        text-align: right;\n",
              "    }\n",
              "</style>\n",
              "<table border=\"1\" class=\"dataframe\">\n",
              "  <thead>\n",
              "    <tr>\n",
              "      <th></th>\n",
              "      <th colspan=\"20\" halign=\"left\">Paid</th>\n",
              "    </tr>\n",
              "    <tr>\n",
              "      <th>Dev</th>\n",
              "      <th>1</th>\n",
              "      <th>2</th>\n",
              "      <th>3</th>\n",
              "      <th>4</th>\n",
              "      <th>5</th>\n",
              "      <th>6</th>\n",
              "      <th>7</th>\n",
              "      <th>8</th>\n",
              "      <th>9</th>\n",
              "      <th>10</th>\n",
              "      <th>11</th>\n",
              "      <th>12</th>\n",
              "      <th>13</th>\n",
              "      <th>14</th>\n",
              "      <th>15</th>\n",
              "      <th>16</th>\n",
              "      <th>17</th>\n",
              "      <th>18</th>\n",
              "      <th>19</th>\n",
              "      <th>20</th>\n",
              "    </tr>\n",
              "    <tr>\n",
              "      <th>Acc</th>\n",
              "      <th></th>\n",
              "      <th></th>\n",
              "      <th></th>\n",
              "      <th></th>\n",
              "      <th></th>\n",
              "      <th></th>\n",
              "      <th></th>\n",
              "      <th></th>\n",
              "      <th></th>\n",
              "      <th></th>\n",
              "      <th></th>\n",
              "      <th></th>\n",
              "      <th></th>\n",
              "      <th></th>\n",
              "      <th></th>\n",
              "      <th></th>\n",
              "      <th></th>\n",
              "      <th></th>\n",
              "      <th></th>\n",
              "      <th></th>\n",
              "    </tr>\n",
              "  </thead>\n",
              "  <tbody>\n",
              "    <tr>\n",
              "      <th>1998</th>\n",
              "      <td>3119574.0</td>\n",
              "      <td>47184563.0</td>\n",
              "      <td>129571818.0</td>\n",
              "      <td>205210185.0</td>\n",
              "      <td>250488154.0</td>\n",
              "      <td>276516578.0</td>\n",
              "      <td>289448982.0</td>\n",
              "      <td>294634712.0</td>\n",
              "      <td>296987563.0</td>\n",
              "      <td>298408518.0</td>\n",
              "      <td>298969208.0</td>\n",
              "      <td>299128356.0</td>\n",
              "      <td>299192093.0</td>\n",
              "      <td>299201869.0</td>\n",
              "      <td>299251875.0</td>\n",
              "      <td>299251875.0</td>\n",
              "      <td>299268955.0</td>\n",
              "      <td>299268955.0</td>\n",
              "      <td>299268955.0</td>\n",
              "      <td>299268955.0</td>\n",
              "    </tr>\n",
              "    <tr>\n",
              "      <th>1999</th>\n",
              "      <td>2611938.0</td>\n",
              "      <td>48712676.0</td>\n",
              "      <td>128109553.0</td>\n",
              "      <td>199696111.0</td>\n",
              "      <td>251226483.0</td>\n",
              "      <td>278089709.0</td>\n",
              "      <td>289787024.0</td>\n",
              "      <td>296221318.0</td>\n",
              "      <td>298266730.0</td>\n",
              "      <td>300175319.0</td>\n",
              "      <td>300640482.0</td>\n",
              "      <td>301104421.0</td>\n",
              "      <td>301215670.0</td>\n",
              "      <td>301215670.0</td>\n",
              "      <td>301215670.0</td>\n",
              "      <td>301215670.0</td>\n",
              "      <td>301215670.0</td>\n",
              "      <td>301215670.0</td>\n",
              "      <td>301215670.0</td>\n",
              "      <td>NaN</td>\n",
              "    </tr>\n",
              "    <tr>\n",
              "      <th>2000</th>\n",
              "      <td>3660623.0</td>\n",
              "      <td>48578158.0</td>\n",
              "      <td>131138360.0</td>\n",
              "      <td>203536066.0</td>\n",
              "      <td>248153147.0</td>\n",
              "      <td>275513570.0</td>\n",
              "      <td>290183175.0</td>\n",
              "      <td>294503166.0</td>\n",
              "      <td>297416709.0</td>\n",
              "      <td>298048416.0</td>\n",
              "      <td>298624624.0</td>\n",
              "      <td>298742396.0</td>\n",
              "      <td>298842383.0</td>\n",
              "      <td>298842383.0</td>\n",
              "      <td>298867680.0</td>\n",
              "      <td>298870240.0</td>\n",
              "      <td>298919155.0</td>\n",
              "      <td>298922412.0</td>\n",
              "      <td>NaN</td>\n",
              "      <td>NaN</td>\n",
              "    </tr>\n",
              "    <tr>\n",
              "      <th>2001</th>\n",
              "      <td>1969019.0</td>\n",
              "      <td>46814727.0</td>\n",
              "      <td>129874801.0</td>\n",
              "      <td>200157921.0</td>\n",
              "      <td>249622859.0</td>\n",
              "      <td>277553530.0</td>\n",
              "      <td>291323882.0</td>\n",
              "      <td>296885103.0</td>\n",
              "      <td>299858417.0</td>\n",
              "      <td>300647979.0</td>\n",
              "      <td>300887259.0</td>\n",
              "      <td>301125373.0</td>\n",
              "      <td>301141469.0</td>\n",
              "      <td>301141469.0</td>\n",
              "      <td>301174692.0</td>\n",
              "      <td>301174692.0</td>\n",
              "      <td>301174692.0</td>\n",
              "      <td>NaN</td>\n",
              "      <td>NaN</td>\n",
              "      <td>NaN</td>\n",
              "    </tr>\n",
              "    <tr>\n",
              "      <th>2002</th>\n",
              "      <td>4136072.0</td>\n",
              "      <td>51272019.0</td>\n",
              "      <td>133205433.0</td>\n",
              "      <td>207331606.0</td>\n",
              "      <td>250449602.0</td>\n",
              "      <td>278628322.0</td>\n",
              "      <td>291498846.0</td>\n",
              "      <td>297631758.0</td>\n",
              "      <td>299684467.0</td>\n",
              "      <td>300737201.0</td>\n",
              "      <td>301370591.0</td>\n",
              "      <td>301559103.0</td>\n",
              "      <td>301564603.0</td>\n",
              "      <td>301599364.0</td>\n",
              "      <td>301741001.0</td>\n",
              "      <td>301741001.0</td>\n",
              "      <td>NaN</td>\n",
              "      <td>NaN</td>\n",
              "      <td>NaN</td>\n",
              "      <td>NaN</td>\n",
              "    </tr>\n",
              "    <tr>\n",
              "      <th>2003</th>\n",
              "      <td>3592737.0</td>\n",
              "      <td>49380700.0</td>\n",
              "      <td>135461144.0</td>\n",
              "      <td>203766029.0</td>\n",
              "      <td>249377437.0</td>\n",
              "      <td>279661188.0</td>\n",
              "      <td>292897321.0</td>\n",
              "      <td>298935320.0</td>\n",
              "      <td>301306174.0</td>\n",
              "      <td>302478780.0</td>\n",
              "      <td>303047244.0</td>\n",
              "      <td>303430365.0</td>\n",
              "      <td>303465828.0</td>\n",
              "      <td>303502076.0</td>\n",
              "      <td>303505693.0</td>\n",
              "      <td>NaN</td>\n",
              "      <td>NaN</td>\n",
              "      <td>NaN</td>\n",
              "      <td>NaN</td>\n",
              "      <td>NaN</td>\n",
              "    </tr>\n",
              "    <tr>\n",
              "      <th>2004</th>\n",
              "      <td>1617625.0</td>\n",
              "      <td>52367903.0</td>\n",
              "      <td>127123345.0</td>\n",
              "      <td>197583449.0</td>\n",
              "      <td>243772955.0</td>\n",
              "      <td>270937790.0</td>\n",
              "      <td>284027624.0</td>\n",
              "      <td>288476178.0</td>\n",
              "      <td>291655828.0</td>\n",
              "      <td>292905426.0</td>\n",
              "      <td>293363320.0</td>\n",
              "      <td>293685400.0</td>\n",
              "      <td>293845884.0</td>\n",
              "      <td>293894154.0</td>\n",
              "      <td>NaN</td>\n",
              "      <td>NaN</td>\n",
              "      <td>NaN</td>\n",
              "      <td>NaN</td>\n",
              "      <td>NaN</td>\n",
              "      <td>NaN</td>\n",
              "    </tr>\n",
              "    <tr>\n",
              "      <th>2005</th>\n",
              "      <td>1617463.0</td>\n",
              "      <td>54874170.0</td>\n",
              "      <td>127918577.0</td>\n",
              "      <td>199922166.0</td>\n",
              "      <td>247481150.0</td>\n",
              "      <td>271736199.0</td>\n",
              "      <td>284764683.0</td>\n",
              "      <td>290172197.0</td>\n",
              "      <td>293216102.0</td>\n",
              "      <td>294050119.0</td>\n",
              "      <td>294484365.0</td>\n",
              "      <td>294601142.0</td>\n",
              "      <td>294967350.0</td>\n",
              "      <td>NaN</td>\n",
              "      <td>NaN</td>\n",
              "      <td>NaN</td>\n",
              "      <td>NaN</td>\n",
              "      <td>NaN</td>\n",
              "      <td>NaN</td>\n",
              "      <td>NaN</td>\n",
              "    </tr>\n",
              "    <tr>\n",
              "      <th>2006</th>\n",
              "      <td>4056397.0</td>\n",
              "      <td>46620968.0</td>\n",
              "      <td>128762059.0</td>\n",
              "      <td>199871502.0</td>\n",
              "      <td>246708416.0</td>\n",
              "      <td>274025670.0</td>\n",
              "      <td>288207447.0</td>\n",
              "      <td>292632220.0</td>\n",
              "      <td>295478977.0</td>\n",
              "      <td>296856077.0</td>\n",
              "      <td>297484700.0</td>\n",
              "      <td>297760715.0</td>\n",
              "      <td>NaN</td>\n",
              "      <td>NaN</td>\n",
              "      <td>NaN</td>\n",
              "      <td>NaN</td>\n",
              "      <td>NaN</td>\n",
              "      <td>NaN</td>\n",
              "      <td>NaN</td>\n",
              "      <td>NaN</td>\n",
              "    </tr>\n",
              "    <tr>\n",
              "      <th>2007</th>\n",
              "      <td>2094358.0</td>\n",
              "      <td>46397031.0</td>\n",
              "      <td>132602794.0</td>\n",
              "      <td>199503974.0</td>\n",
              "      <td>250744434.0</td>\n",
              "      <td>276357306.0</td>\n",
              "      <td>288067869.0</td>\n",
              "      <td>293180137.0</td>\n",
              "      <td>296397535.0</td>\n",
              "      <td>297531722.0</td>\n",
              "      <td>298185366.0</td>\n",
              "      <td>NaN</td>\n",
              "      <td>NaN</td>\n",
              "      <td>NaN</td>\n",
              "      <td>NaN</td>\n",
              "      <td>NaN</td>\n",
              "      <td>NaN</td>\n",
              "      <td>NaN</td>\n",
              "      <td>NaN</td>\n",
              "      <td>NaN</td>\n",
              "    </tr>\n",
              "    <tr>\n",
              "      <th>2008</th>\n",
              "      <td>3204310.0</td>\n",
              "      <td>39314302.0</td>\n",
              "      <td>127133116.0</td>\n",
              "      <td>195618362.0</td>\n",
              "      <td>242022989.0</td>\n",
              "      <td>271386829.0</td>\n",
              "      <td>285957669.0</td>\n",
              "      <td>290641213.0</td>\n",
              "      <td>292650676.0</td>\n",
              "      <td>293443420.0</td>\n",
              "      <td>NaN</td>\n",
              "      <td>NaN</td>\n",
              "      <td>NaN</td>\n",
              "      <td>NaN</td>\n",
              "      <td>NaN</td>\n",
              "      <td>NaN</td>\n",
              "      <td>NaN</td>\n",
              "      <td>NaN</td>\n",
              "      <td>NaN</td>\n",
              "      <td>NaN</td>\n",
              "    </tr>\n",
              "    <tr>\n",
              "      <th>2009</th>\n",
              "      <td>2281020.0</td>\n",
              "      <td>48134704.0</td>\n",
              "      <td>129443792.0</td>\n",
              "      <td>207226593.0</td>\n",
              "      <td>253528126.0</td>\n",
              "      <td>275339116.0</td>\n",
              "      <td>289163444.0</td>\n",
              "      <td>294661052.0</td>\n",
              "      <td>298098369.0</td>\n",
              "      <td>NaN</td>\n",
              "      <td>NaN</td>\n",
              "      <td>NaN</td>\n",
              "      <td>NaN</td>\n",
              "      <td>NaN</td>\n",
              "      <td>NaN</td>\n",
              "      <td>NaN</td>\n",
              "      <td>NaN</td>\n",
              "      <td>NaN</td>\n",
              "      <td>NaN</td>\n",
              "      <td>NaN</td>\n",
              "    </tr>\n",
              "    <tr>\n",
              "      <th>2010</th>\n",
              "      <td>3247383.0</td>\n",
              "      <td>45355418.0</td>\n",
              "      <td>130948545.0</td>\n",
              "      <td>197259488.0</td>\n",
              "      <td>245848248.0</td>\n",
              "      <td>277067336.0</td>\n",
              "      <td>288809927.0</td>\n",
              "      <td>294575540.0</td>\n",
              "      <td>NaN</td>\n",
              "      <td>NaN</td>\n",
              "      <td>NaN</td>\n",
              "      <td>NaN</td>\n",
              "      <td>NaN</td>\n",
              "      <td>NaN</td>\n",
              "      <td>NaN</td>\n",
              "      <td>NaN</td>\n",
              "      <td>NaN</td>\n",
              "      <td>NaN</td>\n",
              "      <td>NaN</td>\n",
              "      <td>NaN</td>\n",
              "    </tr>\n",
              "    <tr>\n",
              "      <th>2011</th>\n",
              "      <td>4023190.0</td>\n",
              "      <td>52422934.0</td>\n",
              "      <td>135085441.0</td>\n",
              "      <td>213929806.0</td>\n",
              "      <td>262775639.0</td>\n",
              "      <td>289531575.0</td>\n",
              "      <td>302093905.0</td>\n",
              "      <td>NaN</td>\n",
              "      <td>NaN</td>\n",
              "      <td>NaN</td>\n",
              "      <td>NaN</td>\n",
              "      <td>NaN</td>\n",
              "      <td>NaN</td>\n",
              "      <td>NaN</td>\n",
              "      <td>NaN</td>\n",
              "      <td>NaN</td>\n",
              "      <td>NaN</td>\n",
              "      <td>NaN</td>\n",
              "      <td>NaN</td>\n",
              "      <td>NaN</td>\n",
              "    </tr>\n",
              "    <tr>\n",
              "      <th>2012</th>\n",
              "      <td>4058287.0</td>\n",
              "      <td>50069534.0</td>\n",
              "      <td>142260025.0</td>\n",
              "      <td>206867581.0</td>\n",
              "      <td>257968282.0</td>\n",
              "      <td>283492730.0</td>\n",
              "      <td>NaN</td>\n",
              "      <td>NaN</td>\n",
              "      <td>NaN</td>\n",
              "      <td>NaN</td>\n",
              "      <td>NaN</td>\n",
              "      <td>NaN</td>\n",
              "      <td>NaN</td>\n",
              "      <td>NaN</td>\n",
              "      <td>NaN</td>\n",
              "      <td>NaN</td>\n",
              "      <td>NaN</td>\n",
              "      <td>NaN</td>\n",
              "      <td>NaN</td>\n",
              "      <td>NaN</td>\n",
              "    </tr>\n",
              "    <tr>\n",
              "      <th>2013</th>\n",
              "      <td>3335156.0</td>\n",
              "      <td>52570292.0</td>\n",
              "      <td>133763178.0</td>\n",
              "      <td>206994774.0</td>\n",
              "      <td>254275027.0</td>\n",
              "      <td>NaN</td>\n",
              "      <td>NaN</td>\n",
              "      <td>NaN</td>\n",
              "      <td>NaN</td>\n",
              "      <td>NaN</td>\n",
              "      <td>NaN</td>\n",
              "      <td>NaN</td>\n",
              "      <td>NaN</td>\n",
              "      <td>NaN</td>\n",
              "      <td>NaN</td>\n",
              "      <td>NaN</td>\n",
              "      <td>NaN</td>\n",
              "      <td>NaN</td>\n",
              "      <td>NaN</td>\n",
              "      <td>NaN</td>\n",
              "    </tr>\n",
              "    <tr>\n",
              "      <th>2014</th>\n",
              "      <td>1727421.0</td>\n",
              "      <td>48142658.0</td>\n",
              "      <td>129925423.0</td>\n",
              "      <td>202030672.0</td>\n",
              "      <td>NaN</td>\n",
              "      <td>NaN</td>\n",
              "      <td>NaN</td>\n",
              "      <td>NaN</td>\n",
              "      <td>NaN</td>\n",
              "      <td>NaN</td>\n",
              "      <td>NaN</td>\n",
              "      <td>NaN</td>\n",
              "      <td>NaN</td>\n",
              "      <td>NaN</td>\n",
              "      <td>NaN</td>\n",
              "      <td>NaN</td>\n",
              "      <td>NaN</td>\n",
              "      <td>NaN</td>\n",
              "      <td>NaN</td>\n",
              "      <td>NaN</td>\n",
              "    </tr>\n",
              "    <tr>\n",
              "      <th>2015</th>\n",
              "      <td>2707623.0</td>\n",
              "      <td>44076323.0</td>\n",
              "      <td>130639869.0</td>\n",
              "      <td>NaN</td>\n",
              "      <td>NaN</td>\n",
              "      <td>NaN</td>\n",
              "      <td>NaN</td>\n",
              "      <td>NaN</td>\n",
              "      <td>NaN</td>\n",
              "      <td>NaN</td>\n",
              "      <td>NaN</td>\n",
              "      <td>NaN</td>\n",
              "      <td>NaN</td>\n",
              "      <td>NaN</td>\n",
              "      <td>NaN</td>\n",
              "      <td>NaN</td>\n",
              "      <td>NaN</td>\n",
              "      <td>NaN</td>\n",
              "      <td>NaN</td>\n",
              "      <td>NaN</td>\n",
              "    </tr>\n",
              "    <tr>\n",
              "      <th>2016</th>\n",
              "      <td>3057485.0</td>\n",
              "      <td>41569188.0</td>\n",
              "      <td>NaN</td>\n",
              "      <td>NaN</td>\n",
              "      <td>NaN</td>\n",
              "      <td>NaN</td>\n",
              "      <td>NaN</td>\n",
              "      <td>NaN</td>\n",
              "      <td>NaN</td>\n",
              "      <td>NaN</td>\n",
              "      <td>NaN</td>\n",
              "      <td>NaN</td>\n",
              "      <td>NaN</td>\n",
              "      <td>NaN</td>\n",
              "      <td>NaN</td>\n",
              "      <td>NaN</td>\n",
              "      <td>NaN</td>\n",
              "      <td>NaN</td>\n",
              "      <td>NaN</td>\n",
              "      <td>NaN</td>\n",
              "    </tr>\n",
              "    <tr>\n",
              "      <th>2017</th>\n",
              "      <td>2458100.0</td>\n",
              "      <td>NaN</td>\n",
              "      <td>NaN</td>\n",
              "      <td>NaN</td>\n",
              "      <td>NaN</td>\n",
              "      <td>NaN</td>\n",
              "      <td>NaN</td>\n",
              "      <td>NaN</td>\n",
              "      <td>NaN</td>\n",
              "      <td>NaN</td>\n",
              "      <td>NaN</td>\n",
              "      <td>NaN</td>\n",
              "      <td>NaN</td>\n",
              "      <td>NaN</td>\n",
              "      <td>NaN</td>\n",
              "      <td>NaN</td>\n",
              "      <td>NaN</td>\n",
              "      <td>NaN</td>\n",
              "      <td>NaN</td>\n",
              "      <td>NaN</td>\n",
              "    </tr>\n",
              "  </tbody>\n",
              "</table>\n",
              "</div>\n",
              "      <button class=\"colab-df-convert\" onclick=\"convertToInteractive('df-bf8583a6-bbc6-4712-9972-bf87e3a52d8c')\"\n",
              "              title=\"Convert this dataframe to an interactive table.\"\n",
              "              style=\"display:none;\">\n",
              "        \n",
              "  <svg xmlns=\"http://www.w3.org/2000/svg\" height=\"24px\"viewBox=\"0 0 24 24\"\n",
              "       width=\"24px\">\n",
              "    <path d=\"M0 0h24v24H0V0z\" fill=\"none\"/>\n",
              "    <path d=\"M18.56 5.44l.94 2.06.94-2.06 2.06-.94-2.06-.94-.94-2.06-.94 2.06-2.06.94zm-11 1L8.5 8.5l.94-2.06 2.06-.94-2.06-.94L8.5 2.5l-.94 2.06-2.06.94zm10 10l.94 2.06.94-2.06 2.06-.94-2.06-.94-.94-2.06-.94 2.06-2.06.94z\"/><path d=\"M17.41 7.96l-1.37-1.37c-.4-.4-.92-.59-1.43-.59-.52 0-1.04.2-1.43.59L10.3 9.45l-7.72 7.72c-.78.78-.78 2.05 0 2.83L4 21.41c.39.39.9.59 1.41.59.51 0 1.02-.2 1.41-.59l7.78-7.78 2.81-2.81c.8-.78.8-2.07 0-2.86zM5.41 20L4 18.59l7.72-7.72 1.47 1.35L5.41 20z\"/>\n",
              "  </svg>\n",
              "      </button>\n",
              "      \n",
              "  <style>\n",
              "    .colab-df-container {\n",
              "      display:flex;\n",
              "      flex-wrap:wrap;\n",
              "      gap: 12px;\n",
              "    }\n",
              "\n",
              "    .colab-df-convert {\n",
              "      background-color: #E8F0FE;\n",
              "      border: none;\n",
              "      border-radius: 50%;\n",
              "      cursor: pointer;\n",
              "      display: none;\n",
              "      fill: #1967D2;\n",
              "      height: 32px;\n",
              "      padding: 0 0 0 0;\n",
              "      width: 32px;\n",
              "    }\n",
              "\n",
              "    .colab-df-convert:hover {\n",
              "      background-color: #E2EBFA;\n",
              "      box-shadow: 0px 1px 2px rgba(60, 64, 67, 0.3), 0px 1px 3px 1px rgba(60, 64, 67, 0.15);\n",
              "      fill: #174EA6;\n",
              "    }\n",
              "\n",
              "    [theme=dark] .colab-df-convert {\n",
              "      background-color: #3B4455;\n",
              "      fill: #D2E3FC;\n",
              "    }\n",
              "\n",
              "    [theme=dark] .colab-df-convert:hover {\n",
              "      background-color: #434B5C;\n",
              "      box-shadow: 0px 1px 3px 1px rgba(0, 0, 0, 0.15);\n",
              "      filter: drop-shadow(0px 1px 2px rgba(0, 0, 0, 0.3));\n",
              "      fill: #FFFFFF;\n",
              "    }\n",
              "  </style>\n",
              "\n",
              "      <script>\n",
              "        const buttonEl =\n",
              "          document.querySelector('#df-bf8583a6-bbc6-4712-9972-bf87e3a52d8c button.colab-df-convert');\n",
              "        buttonEl.style.display =\n",
              "          google.colab.kernel.accessAllowed ? 'block' : 'none';\n",
              "\n",
              "        async function convertToInteractive(key) {\n",
              "          const element = document.querySelector('#df-bf8583a6-bbc6-4712-9972-bf87e3a52d8c');\n",
              "          const dataTable =\n",
              "            await google.colab.kernel.invokeFunction('convertToInteractive',\n",
              "                                                     [key], {});\n",
              "          if (!dataTable) return;\n",
              "\n",
              "          const docLinkHtml = 'Like what you see? Visit the ' +\n",
              "            '<a target=\"_blank\" href=https://colab.research.google.com/notebooks/data_table.ipynb>data table notebook</a>'\n",
              "            + ' to learn more about interactive tables.';\n",
              "          element.innerHTML = '';\n",
              "          dataTable['output_type'] = 'display_data';\n",
              "          await google.colab.output.renderOutput(dataTable, element);\n",
              "          const docLink = document.createElement('div');\n",
              "          docLink.innerHTML = docLinkHtml;\n",
              "          element.appendChild(docLink);\n",
              "        }\n",
              "      </script>\n",
              "    </div>\n",
              "  </div>\n",
              "  "
            ]
          },
          "metadata": {},
          "execution_count": 12
        }
      ],
      "source": [
        "def aggregated_to_triangle(aggr_df, var_to_aggregate = \"Paid\"):\n",
        "    return(pd.pivot_table(aggr_df, index = [\"Acc\"], columns = [\"Dev\"], values = [var_to_aggregate]))\n",
        "\n",
        "S1Paid_triangle = aggregated_to_triangle(Sample1_Aggr)\n",
        "S2Paid_triangle = aggregated_to_triangle(Sample2_Aggr)\n",
        "S3Paid_triangle = aggregated_to_triangle(Sample3_Aggr)\n",
        "S4Paid_triangle = aggregated_to_triangle(Sample4_Aggr)\n",
        "S5Paid_triangle = aggregated_to_triangle(Sample5_Aggr)\n",
        "\n",
        "S1Paid_triangle"
      ]
    },
    {
      "cell_type": "markdown",
      "metadata": {
        "id": "EKrJI1QaJUbO"
      },
      "source": [
        "<br>"
      ]
    },
    {
      "cell_type": "markdown",
      "metadata": {
        "id": "gnCD1p8lJUbO"
      },
      "source": [
        "### 1.2.5 Importing the full samples: computing the aimed provisions <a name=\"one-two-five\"></a>"
      ]
    },
    {
      "cell_type": "markdown",
      "metadata": {
        "id": "QlOOXirJJUbO"
      },
      "source": [
        "As the aim of this workshop is to compare the provisions using different methods with the \"observed\" provisions, we also import the 5 full sets:"
      ]
    },
    {
      "cell_type": "code",
      "execution_count": 13,
      "metadata": {
        "ExecuteTime": {
          "end_time": "2019-10-08T12:17:18.619783Z",
          "start_time": "2019-10-08T12:17:18.157736Z"
        },
        "id": "71D8SlJSJUbO"
      },
      "outputs": [],
      "source": [
        "Sample1_full = pd.read_csv(os.path.join(data_folder_path, 'sample1_full.csv'), header=0,sep=',', comment='#', na_values=[\"\"])\n",
        "Sample2_full = pd.read_csv(os.path.join(data_folder_path, 'sample2_full.csv'), header=0,sep=',', comment='#', na_values=[\"\"])\n",
        "Sample3_full = pd.read_csv(os.path.join(data_folder_path, 'sample3_full.csv'), header=0,sep=',', comment='#', na_values=[\"\"])\n",
        "Sample4_full = pd.read_csv(os.path.join(data_folder_path, 'sample4_full.csv'), header=0,sep=',', comment='#', na_values=[\"\"])\n",
        "Sample5_full = pd.read_csv(os.path.join(data_folder_path, 'sample5_full.csv'), header=0,sep=',', comment='#', na_values=[\"\"])"
      ]
    },
    {
      "cell_type": "markdown",
      "metadata": {
        "id": "_WACAekWJUbP"
      },
      "source": [
        "<br>"
      ]
    },
    {
      "cell_type": "markdown",
      "metadata": {
        "id": "cky_cba-JUbP"
      },
      "source": [
        "We define a `compute_provisions` function that takes as input an aggregated dataset (as a triangle) of claims and that returns the provisions for each accident year."
      ]
    },
    {
      "cell_type": "code",
      "execution_count": 14,
      "metadata": {
        "ExecuteTime": {
          "end_time": "2019-10-08T12:17:18.625735Z",
          "start_time": "2019-10-08T12:17:18.620764Z"
        },
        "id": "1Hs7ylejJUbP"
      },
      "outputs": [],
      "source": [
        "def compute_provisions(aggregated_claims_db):\n",
        "    \n",
        "    as_array = np.array(aggregated_claims_db)\n",
        "    ultimates = as_array[:, as_array.shape[1] - 1]\n",
        "    provisions = ultimates - np.diag(np.fliplr(as_array))\n",
        "\n",
        "    return(np.int64(provisions))"
      ]
    },
    {
      "cell_type": "markdown",
      "metadata": {
        "id": "4pR9aQCPJUbP"
      },
      "source": [
        "<br>"
      ]
    },
    {
      "cell_type": "markdown",
      "metadata": {
        "id": "4WOLcgs4JUbP"
      },
      "source": [
        "As an example, we obtain for Sample1:"
      ]
    },
    {
      "cell_type": "code",
      "execution_count": 15,
      "metadata": {
        "ExecuteTime": {
          "end_time": "2019-10-08T12:17:18.670808Z",
          "start_time": "2019-10-08T12:17:18.626739Z"
        },
        "scrolled": true,
        "colab": {
          "base_uri": "https://localhost:8080/"
        },
        "id": "nW_P0sZ0JUbP",
        "outputId": "cec9c5c8-1626-43aa-a118-475f8e3eb85f"
      },
      "outputs": [
        {
          "output_type": "execute_result",
          "data": {
            "text/plain": [
              "array([        0,         0,         0,       292,         0,      9091,\n",
              "               0,     67298,     57172,    799402,    943117,   3131975,\n",
              "         4304431,   9273835,  23643443,  49418940,  93445524, 166616459,\n",
              "       257642798, 295689634])"
            ]
          },
          "metadata": {},
          "execution_count": 15
        }
      ],
      "source": [
        "compute_provisions(aggregated_to_triangle(aggregate(Sample1_full)))"
      ]
    },
    {
      "cell_type": "markdown",
      "metadata": {
        "id": "cbN969ZuJUbP"
      },
      "source": [
        "Obviously, the provisions are very low in the first years because the claims have developed a longer period there. Many claims will be already at their ultimate view. For later accident years, the provisions increase more and more."
      ]
    },
    {
      "cell_type": "markdown",
      "metadata": {
        "id": "Yb-yk3siJUbP"
      },
      "source": [
        "<br>"
      ]
    },
    {
      "cell_type": "markdown",
      "metadata": {
        "id": "EGWxZrRaJUbQ"
      },
      "source": [
        "We declare a table of results which will contain the provisions for each of the different methods:"
      ]
    },
    {
      "cell_type": "code",
      "execution_count": 16,
      "metadata": {
        "ExecuteTime": {
          "end_time": "2019-10-08T12:17:18.678746Z",
          "start_time": "2019-10-08T12:17:18.672781Z"
        },
        "id": "QbP_htfVJUbQ"
      },
      "outputs": [],
      "source": [
        "results = pd.DataFrame(columns= [\"Observed\", \"CL\", \"GLM\", \"NN\"], index= [\"Sample1\", \"Sample2\", \"Sample3\", \"Sample4\", \"Sample5\"])"
      ]
    },
    {
      "cell_type": "markdown",
      "metadata": {
        "id": "Y_w1G1PEJUbQ"
      },
      "source": [
        "<br>"
      ]
    },
    {
      "cell_type": "markdown",
      "metadata": {
        "id": "1Qxoys5rJUbQ"
      },
      "source": [
        "As we created samples which are fully observed, we can already fill the table with the \"observed\" provisions."
      ]
    },
    {
      "cell_type": "code",
      "execution_count": 17,
      "metadata": {
        "ExecuteTime": {
          "end_time": "2019-10-08T12:17:18.836740Z",
          "start_time": "2019-10-08T12:17:18.679744Z"
        },
        "scrolled": true,
        "colab": {
          "base_uri": "https://localhost:8080/",
          "height": 206
        },
        "id": "lehhISk-JUbQ",
        "outputId": "69f6cb69-1cca-481f-a0d9-c6548571ac29"
      },
      "outputs": [
        {
          "output_type": "execute_result",
          "data": {
            "text/plain": [
              "           Observed   CL  GLM   NN\n",
              "Sample1   905043411  NaN  NaN  NaN\n",
              "Sample2  1231419704  NaN  NaN  NaN\n",
              "Sample3  2136463115  NaN  NaN  NaN\n",
              "Sample4  2132886166  NaN  NaN  NaN\n",
              "Sample5  2178800120  NaN  NaN  NaN"
            ],
            "text/html": [
              "\n",
              "  <div id=\"df-ff28b36b-04fb-4cd5-b959-41032c3a9347\">\n",
              "    <div class=\"colab-df-container\">\n",
              "      <div>\n",
              "<style scoped>\n",
              "    .dataframe tbody tr th:only-of-type {\n",
              "        vertical-align: middle;\n",
              "    }\n",
              "\n",
              "    .dataframe tbody tr th {\n",
              "        vertical-align: top;\n",
              "    }\n",
              "\n",
              "    .dataframe thead th {\n",
              "        text-align: right;\n",
              "    }\n",
              "</style>\n",
              "<table border=\"1\" class=\"dataframe\">\n",
              "  <thead>\n",
              "    <tr style=\"text-align: right;\">\n",
              "      <th></th>\n",
              "      <th>Observed</th>\n",
              "      <th>CL</th>\n",
              "      <th>GLM</th>\n",
              "      <th>NN</th>\n",
              "    </tr>\n",
              "  </thead>\n",
              "  <tbody>\n",
              "    <tr>\n",
              "      <th>Sample1</th>\n",
              "      <td>905043411</td>\n",
              "      <td>NaN</td>\n",
              "      <td>NaN</td>\n",
              "      <td>NaN</td>\n",
              "    </tr>\n",
              "    <tr>\n",
              "      <th>Sample2</th>\n",
              "      <td>1231419704</td>\n",
              "      <td>NaN</td>\n",
              "      <td>NaN</td>\n",
              "      <td>NaN</td>\n",
              "    </tr>\n",
              "    <tr>\n",
              "      <th>Sample3</th>\n",
              "      <td>2136463115</td>\n",
              "      <td>NaN</td>\n",
              "      <td>NaN</td>\n",
              "      <td>NaN</td>\n",
              "    </tr>\n",
              "    <tr>\n",
              "      <th>Sample4</th>\n",
              "      <td>2132886166</td>\n",
              "      <td>NaN</td>\n",
              "      <td>NaN</td>\n",
              "      <td>NaN</td>\n",
              "    </tr>\n",
              "    <tr>\n",
              "      <th>Sample5</th>\n",
              "      <td>2178800120</td>\n",
              "      <td>NaN</td>\n",
              "      <td>NaN</td>\n",
              "      <td>NaN</td>\n",
              "    </tr>\n",
              "  </tbody>\n",
              "</table>\n",
              "</div>\n",
              "      <button class=\"colab-df-convert\" onclick=\"convertToInteractive('df-ff28b36b-04fb-4cd5-b959-41032c3a9347')\"\n",
              "              title=\"Convert this dataframe to an interactive table.\"\n",
              "              style=\"display:none;\">\n",
              "        \n",
              "  <svg xmlns=\"http://www.w3.org/2000/svg\" height=\"24px\"viewBox=\"0 0 24 24\"\n",
              "       width=\"24px\">\n",
              "    <path d=\"M0 0h24v24H0V0z\" fill=\"none\"/>\n",
              "    <path d=\"M18.56 5.44l.94 2.06.94-2.06 2.06-.94-2.06-.94-.94-2.06-.94 2.06-2.06.94zm-11 1L8.5 8.5l.94-2.06 2.06-.94-2.06-.94L8.5 2.5l-.94 2.06-2.06.94zm10 10l.94 2.06.94-2.06 2.06-.94-2.06-.94-.94-2.06-.94 2.06-2.06.94z\"/><path d=\"M17.41 7.96l-1.37-1.37c-.4-.4-.92-.59-1.43-.59-.52 0-1.04.2-1.43.59L10.3 9.45l-7.72 7.72c-.78.78-.78 2.05 0 2.83L4 21.41c.39.39.9.59 1.41.59.51 0 1.02-.2 1.41-.59l7.78-7.78 2.81-2.81c.8-.78.8-2.07 0-2.86zM5.41 20L4 18.59l7.72-7.72 1.47 1.35L5.41 20z\"/>\n",
              "  </svg>\n",
              "      </button>\n",
              "      \n",
              "  <style>\n",
              "    .colab-df-container {\n",
              "      display:flex;\n",
              "      flex-wrap:wrap;\n",
              "      gap: 12px;\n",
              "    }\n",
              "\n",
              "    .colab-df-convert {\n",
              "      background-color: #E8F0FE;\n",
              "      border: none;\n",
              "      border-radius: 50%;\n",
              "      cursor: pointer;\n",
              "      display: none;\n",
              "      fill: #1967D2;\n",
              "      height: 32px;\n",
              "      padding: 0 0 0 0;\n",
              "      width: 32px;\n",
              "    }\n",
              "\n",
              "    .colab-df-convert:hover {\n",
              "      background-color: #E2EBFA;\n",
              "      box-shadow: 0px 1px 2px rgba(60, 64, 67, 0.3), 0px 1px 3px 1px rgba(60, 64, 67, 0.15);\n",
              "      fill: #174EA6;\n",
              "    }\n",
              "\n",
              "    [theme=dark] .colab-df-convert {\n",
              "      background-color: #3B4455;\n",
              "      fill: #D2E3FC;\n",
              "    }\n",
              "\n",
              "    [theme=dark] .colab-df-convert:hover {\n",
              "      background-color: #434B5C;\n",
              "      box-shadow: 0px 1px 3px 1px rgba(0, 0, 0, 0.15);\n",
              "      filter: drop-shadow(0px 1px 2px rgba(0, 0, 0, 0.3));\n",
              "      fill: #FFFFFF;\n",
              "    }\n",
              "  </style>\n",
              "\n",
              "      <script>\n",
              "        const buttonEl =\n",
              "          document.querySelector('#df-ff28b36b-04fb-4cd5-b959-41032c3a9347 button.colab-df-convert');\n",
              "        buttonEl.style.display =\n",
              "          google.colab.kernel.accessAllowed ? 'block' : 'none';\n",
              "\n",
              "        async function convertToInteractive(key) {\n",
              "          const element = document.querySelector('#df-ff28b36b-04fb-4cd5-b959-41032c3a9347');\n",
              "          const dataTable =\n",
              "            await google.colab.kernel.invokeFunction('convertToInteractive',\n",
              "                                                     [key], {});\n",
              "          if (!dataTable) return;\n",
              "\n",
              "          const docLinkHtml = 'Like what you see? Visit the ' +\n",
              "            '<a target=\"_blank\" href=https://colab.research.google.com/notebooks/data_table.ipynb>data table notebook</a>'\n",
              "            + ' to learn more about interactive tables.';\n",
              "          element.innerHTML = '';\n",
              "          dataTable['output_type'] = 'display_data';\n",
              "          await google.colab.output.renderOutput(dataTable, element);\n",
              "          const docLink = document.createElement('div');\n",
              "          docLink.innerHTML = docLinkHtml;\n",
              "          element.appendChild(docLink);\n",
              "        }\n",
              "      </script>\n",
              "    </div>\n",
              "  </div>\n",
              "  "
            ]
          },
          "metadata": {},
          "execution_count": 17
        }
      ],
      "source": [
        "results.at[\"Sample1\", \"Observed\"] = np.sum(compute_provisions(aggregated_to_triangle(aggregate(Sample1_full))))\n",
        "results.at[\"Sample2\", \"Observed\"] = np.sum(compute_provisions(aggregated_to_triangle(aggregate(Sample2_full))))\n",
        "results.at[\"Sample3\", \"Observed\"] = np.sum(compute_provisions(aggregated_to_triangle(aggregate(Sample3_full))))\n",
        "results.at[\"Sample4\", \"Observed\"] = np.sum(compute_provisions(aggregated_to_triangle(aggregate(Sample4_full))))\n",
        "results.at[\"Sample5\", \"Observed\"] = np.sum(compute_provisions(aggregated_to_triangle(aggregate(Sample5_full))))\n",
        "results"
      ]
    },
    {
      "cell_type": "markdown",
      "metadata": {
        "id": "GqaOGymFJUbQ"
      },
      "source": [
        "\n",
        "<br> <br>\n"
      ]
    },
    {
      "cell_type": "markdown",
      "metadata": {
        "id": "geZfbr56JUbQ"
      },
      "source": [
        "# Chapter 2 - Chain Ladder Algorithm <a name=\"two\"></a>"
      ]
    },
    {
      "cell_type": "markdown",
      "metadata": {
        "id": "IihlxMkVJUbQ"
      },
      "source": [
        "<br>"
      ]
    },
    {
      "cell_type": "markdown",
      "metadata": {
        "id": "4Oq_ef3aJUbR"
      },
      "source": [
        "## 2.1 Introduction <a name=\"two-one\"></a>"
      ]
    },
    {
      "cell_type": "markdown",
      "metadata": {
        "id": "MzjyndwOJUbR"
      },
      "source": [
        "\n",
        "- The Chain Ladder methodology is the most widely used actuarial method for the completion of run-off triangles or similarly estimating the ultimate losses.\n",
        "    - It assumes the stability of the delay between the occurrence of the claim and the payments, whatever the occurrence year. \n",
        "    - The model breaks down if the pattern changes because of changes in inflation, procedures, legislation, etc.\n",
        "    - The simplicity of this model lies in the fact that no assumption is made on the distribution underlying the cost of claims or their frequency. This means that the parameters are estimated on the basis of a distribution-free model (see also Mack’s model).\n",
        "\n",
        "\n",
        "- With this run-off triangle, it is then possible to compute the total reserve needed for the future costs of the current contracts.\n",
        "\n",
        "- The chain ladder algorithm itself is deterministic or non-stochastic, but Mack’s model defines a stochastic version for which we can compute a mean squared error of the predicted total loss amount obtained from the model.\n",
        "\n",
        "- We will apply the Chain Ladder algorithm on the cumulative paid claim amounts."
      ]
    },
    {
      "cell_type": "markdown",
      "metadata": {
        "id": "sc-wTqMtJUbR"
      },
      "source": [
        "<br>"
      ]
    },
    {
      "cell_type": "markdown",
      "metadata": {
        "id": "tSvQfV41JUbR"
      },
      "source": [
        "## 2.2 Development factors <a name=\"two-two\"></a>"
      ]
    },
    {
      "cell_type": "markdown",
      "metadata": {
        "id": "DIFH0HOfJUbR"
      },
      "source": [
        "- Implicitly, this technique assumes that the development of claims is equal from one accident year to another. For each development year, the estimated link ratios are a weighted average of the observable development factors $\\lambda_{i,j}$. They are given by\n",
        "\n",
        "$$\\begin{equation*} \\hat{\\lambda}_{j} = \\frac{ \\sum_{i=0}^{n-j-1} C_{i,j+1} }{ \\sum_{i=0}^{n-j-1} C_{i,j} } \\ \\ \\ \\ \\text{      for } \\ \\ j=0, 1,… ,n−1. \\end{equation*}$$\n",
        "  \n",
        "<br>"
      ]
    },
    {
      "cell_type": "code",
      "execution_count": 18,
      "metadata": {
        "ExecuteTime": {
          "end_time": "2019-10-08T12:17:18.854747Z",
          "start_time": "2019-10-08T12:17:18.837740Z"
        },
        "scrolled": true,
        "colab": {
          "base_uri": "https://localhost:8080/"
        },
        "id": "AYvmyCoFJUbR",
        "outputId": "050f611b-a0b0-4c71-a864-79ec0bf2e003"
      },
      "outputs": [
        {
          "output_type": "execute_result",
          "data": {
            "text/plain": [
              "[16.28467626807316,\n",
              " 2.708926807842189,\n",
              " 1.5439071700792506,\n",
              " 1.2342342571338663,\n",
              " 1.1081736966305835,\n",
              " 1.0474872702177647,\n",
              " 1.0183829211837638,\n",
              " 1.0091944138230597,\n",
              " 1.0037891833433576,\n",
              " 1.0017497930053787,\n",
              " 1.0008425384973347,\n",
              " 1.00035879184905,\n",
              " 1.0000614761927984,\n",
              " 1.0001405591814327,\n",
              " 1.0000017041094595,\n",
              " 1.0000549723566097,\n",
              " 1.0000036212878713,\n",
              " 1.0,\n",
              " 1.0]"
            ]
          },
          "metadata": {},
          "execution_count": 18
        }
      ],
      "source": [
        "# We start with creating and initialising some variables.\n",
        "# Remember that we start from 0 in Python (compared to 1 in R).\n",
        "data = S1Paid_triangle\n",
        "[N_acc, N_dev] = data.shape\n",
        "developmentFactors = [0.0]*(N_dev-1)\n",
        "\n",
        "# Calculation of the development factors\n",
        "for j in range(N_dev-1):\n",
        "    developmentFactors[j] = sum(data.iloc[0:min(N_acc,N_dev-j-1),j+1]) / sum(data.iloc[0:min(N_acc,N_dev-j-1),j])\n",
        "\n",
        "developmentFactors"
      ]
    },
    {
      "cell_type": "markdown",
      "metadata": {
        "id": "z3YTdWFgJUbS"
      },
      "source": [
        "Remarks:\n",
        "    \n",
        "- The development factors tend to decrease towards 1 indicating that the cumulative paid amounts reach their ultimate view.\n",
        "\n",
        "- Analysis of those development factors already gives a clear indication of the development pattern and the cadence of the claims settlement.\n",
        "\n",
        "- Try to calculate the development factors for other samples by changing the input dataset."
      ]
    },
    {
      "cell_type": "code",
      "execution_count": 19,
      "metadata": {
        "ExecuteTime": {
          "end_time": "2019-10-08T12:17:19.021741Z",
          "start_time": "2019-10-08T12:17:18.855740Z"
        },
        "colab": {
          "base_uri": "https://localhost:8080/",
          "height": 606
        },
        "id": "dMEfGeP8JUbS",
        "outputId": "8b99326f-1a83-49b9-899b-860f5109a2bb"
      },
      "outputs": [
        {
          "output_type": "display_data",
          "data": {
            "text/plain": [
              "<Figure size 1080x720 with 1 Axes>"
            ],
            "image/png": "[encoded data removed]"
          },
          "metadata": {
            "needs_background": "light"
          }
        }
      ],
      "source": [
        "ax = plt.figure(figsize=[15,10]).gca()\n",
        "plt.plot(range(1,(N_dev)),developmentFactors,'ro',range(1,(N_dev)),developmentFactors,'r-')\n",
        "plt.xlabel('Development Year')\n",
        "plt.ylabel('Development Factor')\n",
        "ax.xaxis.set_major_locator(MaxNLocator(integer=True))\n",
        "plt.show()"
      ]
    },
    {
      "cell_type": "markdown",
      "metadata": {
        "id": "KQCCiNtOJUbS"
      },
      "source": [
        "<br>"
      ]
    },
    {
      "cell_type": "markdown",
      "metadata": {
        "id": "xaAinbyvJUbS"
      },
      "source": [
        "## 2.3 Completion of the triangle <a name=\"two-three\"></a>"
      ]
    },
    {
      "cell_type": "markdown",
      "metadata": {
        "id": "WwgZE8g7JUbS"
      },
      "source": [
        "- By multiplying with the different development factors, we can complete the cumulative payments triangle in our example. <br> <br>\n",
        "\n",
        "- The **unobserved** cumulative payments are now obtained by the use of the link ratios. More generally, we obtain\n",
        "\n",
        "$$\\begin{equation*} \\hat{C}_{i,j} = (\\hat{\\lambda}_{n-i} \\ldots \\hat{\\lambda}_{j-1} ) C_{i,n-i} \\ \\ \\ \\ \\text{      for } \\ \\ i+j>n. \\end{equation*}$$\n",
        "<br>"
      ]
    },
    {
      "cell_type": "code",
      "execution_count": 20,
      "metadata": {
        "ExecuteTime": {
          "end_time": "2019-10-08T12:17:19.110741Z",
          "start_time": "2019-10-08T12:17:19.022742Z"
        },
        "colab": {
          "base_uri": "https://localhost:8080/",
          "height": 803
        },
        "id": "gk3enQ-sJUbS",
        "outputId": "b98d4cf3-699c-4da4-96d6-530164c87234"
      },
      "outputs": [
        {
          "output_type": "execute_result",
          "data": {
            "text/plain": [
              "           Paid                                                     \\\n",
              "Dev          1           2            3            4            5    \n",
              "Acc                                                                  \n",
              "1998  3119574.0  47184563.0  129571818.0  205210185.0  250488154.0   \n",
              "1999  2611938.0  48712676.0  128109553.0  199696111.0  251226483.0   \n",
              "2000  3660623.0  48578158.0  131138360.0  203536066.0  248153147.0   \n",
              "2001  1969019.0  46814727.0  129874801.0  200157921.0  249622859.0   \n",
              "2002  4136072.0  51272019.0  133205433.0  207331606.0  250449602.0   \n",
              "2003  3592737.0  49380700.0  135461144.0  203766029.0  249377437.0   \n",
              "2004  1617625.0  52367903.0  127123345.0  197583449.0  243772955.0   \n",
              "2005  1617463.0  54874170.0  127918577.0  199922166.0  247481150.0   \n",
              "2006  4056397.0  46620968.0  128762059.0  199871502.0  246708416.0   \n",
              "2007  2094358.0  46397031.0  132602794.0  199503974.0  250744434.0   \n",
              "2008  3204310.0  39314302.0  127133116.0  195618362.0  242022989.0   \n",
              "2009  2281020.0  48134704.0  129443792.0  207226593.0  253528126.0   \n",
              "2010  3247383.0  45355418.0  130948545.0  197259488.0  245848248.0   \n",
              "2011  4023190.0  52422934.0  135085441.0  213929806.0  262775639.0   \n",
              "2012  4058287.0  50069534.0  142260025.0  206867581.0  257968282.0   \n",
              "2013  3335156.0  52570292.0  133763178.0  206994774.0  254275027.0   \n",
              "2014  1727421.0  48142658.0  129925423.0  202030672.0  249353176.0   \n",
              "2015  2707623.0  44076323.0  130639869.0  201695830.0  248939903.0   \n",
              "2016  3057485.0  41569188.0  112607888.0  173856125.0  214579186.0   \n",
              "2017  2458100.0  40029363.0  108436614.0  167416066.0  206630643.0   \n",
              "\n",
              "                                                                       \\\n",
              "Dev            6            7            8            9            10   \n",
              "Acc                                                                     \n",
              "1998  276516578.0  289448982.0  294634712.0  296987563.0  298408518.0   \n",
              "1999  278089709.0  289787024.0  296221318.0  298266730.0  300175319.0   \n",
              "2000  275513570.0  290183175.0  294503166.0  297416709.0  298048416.0   \n",
              "2001  277553530.0  291323882.0  296885103.0  299858417.0  300647979.0   \n",
              "2002  278628322.0  291498846.0  297631758.0  299684467.0  300737201.0   \n",
              "2003  279661188.0  292897321.0  298935320.0  301306174.0  302478780.0   \n",
              "2004  270937790.0  284027624.0  288476178.0  291655828.0  292905426.0   \n",
              "2005  271736199.0  284764683.0  290172197.0  293216102.0  294050119.0   \n",
              "2006  274025670.0  288207447.0  292632220.0  295478977.0  296856077.0   \n",
              "2007  276357306.0  288067869.0  293180137.0  296397535.0  297531722.0   \n",
              "2008  271386829.0  285957669.0  290641213.0  292650676.0  293443420.0   \n",
              "2009  275339116.0  289163444.0  294661052.0  298098369.0  299227918.0   \n",
              "2010  277067336.0  288809927.0  294575540.0  297283989.0  298410453.0   \n",
              "2011  289531575.0  302093905.0  307647273.0  310475910.0  311652360.0   \n",
              "2012  283492730.0  296955026.0  302413927.0  305194445.0  306350883.0   \n",
              "2013  281780897.0  295161902.0  300587840.0  303351569.0  304501024.0   \n",
              "2014  276326631.0  289448629.0  294769540.0  297479773.0  298606978.0   \n",
              "2015  275868653.0  288968902.0  294280995.0  296986736.0  298112073.0   \n",
              "2016  237791009.0  249083055.0  253661929.0  255994202.0  256964211.0   \n",
              "2017  228982644.0  239856405.0  244265666.0  246511546.0  247445623.0   \n",
              "\n",
              "                                                                       \\\n",
              "Dev            11           12           13           14           15   \n",
              "Acc                                                                     \n",
              "1998  298969208.0  299128356.0  299192093.0  299201869.0  299251875.0   \n",
              "1999  300640482.0  301104421.0  301215670.0  301215670.0  301215670.0   \n",
              "2000  298624624.0  298742396.0  298842383.0  298842383.0  298867680.0   \n",
              "2001  300887259.0  301125373.0  301141469.0  301141469.0  301174692.0   \n",
              "2002  301370591.0  301559103.0  301564603.0  301599364.0  301741001.0   \n",
              "2003  303047244.0  303430365.0  303465828.0  303502076.0  303505693.0   \n",
              "2004  293363320.0  293685400.0  293845884.0  293894154.0  293935464.0   \n",
              "2005  294484365.0  294601142.0  294967350.0  294985483.0  295026946.0   \n",
              "2006  297484700.0  297760715.0  297867549.0  297885861.0  297927731.0   \n",
              "2007  298185366.0  298436599.0  298543675.0  298562029.0  298603994.0   \n",
              "2008  293956885.0  294204555.0  294310113.0  294328206.0  294369577.0   \n",
              "2009  299751505.0  300004057.0  300111696.0  300130146.0  300172332.0   \n",
              "2010  298932609.0  299184472.0  299291817.0  299310216.0  299352287.0   \n",
              "2011  312197687.0  312460726.0  312572834.0  312592050.0  312635987.0   \n",
              "2012  306886934.0  307145498.0  307255699.0  307274588.0  307317778.0   \n",
              "2013  305033838.0  305290840.0  305400376.0  305419151.0  305462081.0   \n",
              "2014  299129479.0  299381507.0  299488923.0  299507334.0  299549433.0   \n",
              "2015  298633708.0  298885318.0  298992556.0  299010937.0  299052965.0   \n",
              "2016  257413845.0  257630726.0  257723162.0  257739006.0  257775234.0   \n",
              "2017  247878602.0  248087449.0  248176461.0  248191718.0  248226603.0   \n",
              "\n",
              "                                                                       \n",
              "Dev            16           17           18           19           20  \n",
              "Acc                                                                    \n",
              "1998  299251875.0  299268955.0  299268955.0  299268955.0  299268955.0  \n",
              "1999  301215670.0  301215670.0  301215670.0  301215670.0  301215670.0  \n",
              "2000  298870240.0  298919155.0  298922412.0  298922412.0  298922412.0  \n",
              "2001  301174692.0  301174692.0  301175783.0  301175783.0  301175783.0  \n",
              "2002  301741001.0  301757588.0  301758681.0  301758681.0  301758681.0  \n",
              "2003  303506210.0  303522895.0  303523994.0  303523994.0  303523994.0  \n",
              "2004  293935964.0  293952123.0  293953187.0  293953187.0  293953187.0  \n",
              "2005  295027449.0  295043668.0  295044736.0  295044736.0  295044736.0  \n",
              "2006  297928239.0  297944617.0  297945696.0  297945696.0  297945696.0  \n",
              "2007  298604503.0  298620918.0  298621999.0  298621999.0  298621999.0  \n",
              "2008  294370079.0  294386261.0  294387327.0  294387327.0  294387327.0  \n",
              "2009  300172844.0  300189345.0  300190432.0  300190432.0  300190432.0  \n",
              "2010  299352797.0  299369253.0  299370337.0  299370337.0  299370337.0  \n",
              "2011  312636520.0  312653707.0  312654839.0  312654839.0  312654839.0  \n",
              "2012  307318302.0  307335196.0  307336309.0  307336309.0  307336309.0  \n",
              "2013  305462601.0  305479393.0  305480499.0  305480499.0  305480499.0  \n",
              "2014  299549943.0  299566410.0  299567495.0  299567495.0  299567495.0  \n",
              "2015  299053475.0  299069915.0  299070998.0  299070998.0  299070998.0  \n",
              "2016  257775673.0  257789844.0  257790777.0  257790777.0  257790777.0  \n",
              "2017  248227026.0  248240672.0  248241571.0  248241571.0  248241571.0  "
            ],
            "text/html": [
              "\n",
              "  <div id=\"df-187d34d8-908d-4736-8e94-c6347c7700c5\">\n",
              "    <div class=\"colab-df-container\">\n",
              "      <div>\n",
              "<style scoped>\n",
              "    .dataframe tbody tr th:only-of-type {\n",
              "        vertical-align: middle;\n",
              "    }\n",
              "\n",
              "    .dataframe tbody tr th {\n",
              "        vertical-align: top;\n",
              "    }\n",
              "\n",
              "    .dataframe thead tr th {\n",
              "        text-align: left;\n",
              "    }\n",
              "\n",
              "    .dataframe thead tr:last-of-type th {\n",
              "        text-align: right;\n",
              "    }\n",
              "</style>\n",
              "<table border=\"1\" class=\"dataframe\">\n",
              "  <thead>\n",
              "    <tr>\n",
              "      <th></th>\n",
              "      <th colspan=\"20\" halign=\"left\">Paid</th>\n",
              "    </tr>\n",
              "    <tr>\n",
              "      <th>Dev</th>\n",
              "      <th>1</th>\n",
              "      <th>2</th>\n",
              "      <th>3</th>\n",
              "      <th>4</th>\n",
              "      <th>5</th>\n",
              "      <th>6</th>\n",
              "      <th>7</th>\n",
              "      <th>8</th>\n",
              "      <th>9</th>\n",
              "      <th>10</th>\n",
              "      <th>11</th>\n",
              "      <th>12</th>\n",
              "      <th>13</th>\n",
              "      <th>14</th>\n",
              "      <th>15</th>\n",
              "      <th>16</th>\n",
              "      <th>17</th>\n",
              "      <th>18</th>\n",
              "      <th>19</th>\n",
              "      <th>20</th>\n",
              "    </tr>\n",
              "    <tr>\n",
              "      <th>Acc</th>\n",
              "      <th></th>\n",
              "      <th></th>\n",
              "      <th></th>\n",
              "      <th></th>\n",
              "      <th></th>\n",
              "      <th></th>\n",
              "      <th></th>\n",
              "      <th></th>\n",
              "      <th></th>\n",
              "      <th></th>\n",
              "      <th></th>\n",
              "      <th></th>\n",
              "      <th></th>\n",
              "      <th></th>\n",
              "      <th></th>\n",
              "      <th></th>\n",
              "      <th></th>\n",
              "      <th></th>\n",
              "      <th></th>\n",
              "      <th></th>\n",
              "    </tr>\n",
              "  </thead>\n",
              "  <tbody>\n",
              "    <tr>\n",
              "      <th>1998</th>\n",
              "      <td>3119574.0</td>\n",
              "      <td>47184563.0</td>\n",
              "      <td>129571818.0</td>\n",
              "      <td>205210185.0</td>\n",
              "      <td>250488154.0</td>\n",
              "      <td>276516578.0</td>\n",
              "      <td>289448982.0</td>\n",
              "      <td>294634712.0</td>\n",
              "      <td>296987563.0</td>\n",
              "      <td>298408518.0</td>\n",
              "      <td>298969208.0</td>\n",
              "      <td>299128356.0</td>\n",
              "      <td>299192093.0</td>\n",
              "      <td>299201869.0</td>\n",
              "      <td>299251875.0</td>\n",
              "      <td>299251875.0</td>\n",
              "      <td>299268955.0</td>\n",
              "      <td>299268955.0</td>\n",
              "      <td>299268955.0</td>\n",
              "      <td>299268955.0</td>\n",
              "    </tr>\n",
              "    <tr>\n",
              "      <th>1999</th>\n",
              "      <td>2611938.0</td>\n",
              "      <td>48712676.0</td>\n",
              "      <td>128109553.0</td>\n",
              "      <td>199696111.0</td>\n",
              "      <td>251226483.0</td>\n",
              "      <td>278089709.0</td>\n",
              "      <td>289787024.0</td>\n",
              "      <td>296221318.0</td>\n",
              "      <td>298266730.0</td>\n",
              "      <td>300175319.0</td>\n",
              "      <td>300640482.0</td>\n",
              "      <td>301104421.0</td>\n",
              "      <td>301215670.0</td>\n",
              "      <td>301215670.0</td>\n",
              "      <td>301215670.0</td>\n",
              "      <td>301215670.0</td>\n",
              "      <td>301215670.0</td>\n",
              "      <td>301215670.0</td>\n",
              "      <td>301215670.0</td>\n",
              "      <td>301215670.0</td>\n",
              "    </tr>\n",
              "    <tr>\n",
              "      <th>2000</th>\n",
              "      <td>3660623.0</td>\n",
              "      <td>48578158.0</td>\n",
              "      <td>131138360.0</td>\n",
              "      <td>203536066.0</td>\n",
              "      <td>248153147.0</td>\n",
              "      <td>275513570.0</td>\n",
              "      <td>290183175.0</td>\n",
              "      <td>294503166.0</td>\n",
              "      <td>297416709.0</td>\n",
              "      <td>298048416.0</td>\n",
              "      <td>298624624.0</td>\n",
              "      <td>298742396.0</td>\n",
              "      <td>298842383.0</td>\n",
              "      <td>298842383.0</td>\n",
              "      <td>298867680.0</td>\n",
              "      <td>298870240.0</td>\n",
              "      <td>298919155.0</td>\n",
              "      <td>298922412.0</td>\n",
              "      <td>298922412.0</td>\n",
              "      <td>298922412.0</td>\n",
              "    </tr>\n",
              "    <tr>\n",
              "      <th>2001</th>\n",
              "      <td>1969019.0</td>\n",
              "      <td>46814727.0</td>\n",
              "      <td>129874801.0</td>\n",
              "      <td>200157921.0</td>\n",
              "      <td>249622859.0</td>\n",
              "      <td>277553530.0</td>\n",
              "      <td>291323882.0</td>\n",
              "      <td>296885103.0</td>\n",
              "      <td>299858417.0</td>\n",
              "      <td>300647979.0</td>\n",
              "      <td>300887259.0</td>\n",
              "      <td>301125373.0</td>\n",
              "      <td>301141469.0</td>\n",
              "      <td>301141469.0</td>\n",
              "      <td>301174692.0</td>\n",
              "      <td>301174692.0</td>\n",
              "      <td>301174692.0</td>\n",
              "      <td>301175783.0</td>\n",
              "      <td>301175783.0</td>\n",
              "      <td>301175783.0</td>\n",
              "    </tr>\n",
              "    <tr>\n",
              "      <th>2002</th>\n",
              "      <td>4136072.0</td>\n",
              "      <td>51272019.0</td>\n",
              "      <td>133205433.0</td>\n",
              "      <td>207331606.0</td>\n",
              "      <td>250449602.0</td>\n",
              "      <td>278628322.0</td>\n",
              "      <td>291498846.0</td>\n",
              "      <td>297631758.0</td>\n",
              "      <td>299684467.0</td>\n",
              "      <td>300737201.0</td>\n",
              "      <td>301370591.0</td>\n",
              "      <td>301559103.0</td>\n",
              "      <td>301564603.0</td>\n",
              "      <td>301599364.0</td>\n",
              "      <td>301741001.0</td>\n",
              "      <td>301741001.0</td>\n",
              "      <td>301757588.0</td>\n",
              "      <td>301758681.0</td>\n",
              "      <td>301758681.0</td>\n",
              "      <td>301758681.0</td>\n",
              "    </tr>\n",
              "    <tr>\n",
              "      <th>2003</th>\n",
              "      <td>3592737.0</td>\n",
              "      <td>49380700.0</td>\n",
              "      <td>135461144.0</td>\n",
              "      <td>203766029.0</td>\n",
              "      <td>249377437.0</td>\n",
              "      <td>279661188.0</td>\n",
              "      <td>292897321.0</td>\n",
              "      <td>298935320.0</td>\n",
              "      <td>301306174.0</td>\n",
              "      <td>302478780.0</td>\n",
              "      <td>303047244.0</td>\n",
              "      <td>303430365.0</td>\n",
              "      <td>303465828.0</td>\n",
              "      <td>303502076.0</td>\n",
              "      <td>303505693.0</td>\n",
              "      <td>303506210.0</td>\n",
              "      <td>303522895.0</td>\n",
              "      <td>303523994.0</td>\n",
              "      <td>303523994.0</td>\n",
              "      <td>303523994.0</td>\n",
              "    </tr>\n",
              "    <tr>\n",
              "      <th>2004</th>\n",
              "      <td>1617625.0</td>\n",
              "      <td>52367903.0</td>\n",
              "      <td>127123345.0</td>\n",
              "      <td>197583449.0</td>\n",
              "      <td>243772955.0</td>\n",
              "      <td>270937790.0</td>\n",
              "      <td>284027624.0</td>\n",
              "      <td>288476178.0</td>\n",
              "      <td>291655828.0</td>\n",
              "      <td>292905426.0</td>\n",
              "      <td>293363320.0</td>\n",
              "      <td>293685400.0</td>\n",
              "      <td>293845884.0</td>\n",
              "      <td>293894154.0</td>\n",
              "      <td>293935464.0</td>\n",
              "      <td>293935964.0</td>\n",
              "      <td>293952123.0</td>\n",
              "      <td>293953187.0</td>\n",
              "      <td>293953187.0</td>\n",
              "      <td>293953187.0</td>\n",
              "    </tr>\n",
              "    <tr>\n",
              "      <th>2005</th>\n",
              "      <td>1617463.0</td>\n",
              "      <td>54874170.0</td>\n",
              "      <td>127918577.0</td>\n",
              "      <td>199922166.0</td>\n",
              "      <td>247481150.0</td>\n",
              "      <td>271736199.0</td>\n",
              "      <td>284764683.0</td>\n",
              "      <td>290172197.0</td>\n",
              "      <td>293216102.0</td>\n",
              "      <td>294050119.0</td>\n",
              "      <td>294484365.0</td>\n",
              "      <td>294601142.0</td>\n",
              "      <td>294967350.0</td>\n",
              "      <td>294985483.0</td>\n",
              "      <td>295026946.0</td>\n",
              "      <td>295027449.0</td>\n",
              "      <td>295043668.0</td>\n",
              "      <td>295044736.0</td>\n",
              "      <td>295044736.0</td>\n",
              "      <td>295044736.0</td>\n",
              "    </tr>\n",
              "    <tr>\n",
              "      <th>2006</th>\n",
              "      <td>4056397.0</td>\n",
              "      <td>46620968.0</td>\n",
              "      <td>128762059.0</td>\n",
              "      <td>199871502.0</td>\n",
              "      <td>246708416.0</td>\n",
              "      <td>274025670.0</td>\n",
              "      <td>288207447.0</td>\n",
              "      <td>292632220.0</td>\n",
              "      <td>295478977.0</td>\n",
              "      <td>296856077.0</td>\n",
              "      <td>297484700.0</td>\n",
              "      <td>297760715.0</td>\n",
              "      <td>297867549.0</td>\n",
              "      <td>297885861.0</td>\n",
              "      <td>297927731.0</td>\n",
              "      <td>297928239.0</td>\n",
              "      <td>297944617.0</td>\n",
              "      <td>297945696.0</td>\n",
              "      <td>297945696.0</td>\n",
              "      <td>297945696.0</td>\n",
              "    </tr>\n",
              "    <tr>\n",
              "      <th>2007</th>\n",
              "      <td>2094358.0</td>\n",
              "      <td>46397031.0</td>\n",
              "      <td>132602794.0</td>\n",
              "      <td>199503974.0</td>\n",
              "      <td>250744434.0</td>\n",
              "      <td>276357306.0</td>\n",
              "      <td>288067869.0</td>\n",
              "      <td>293180137.0</td>\n",
              "      <td>296397535.0</td>\n",
              "      <td>297531722.0</td>\n",
              "      <td>298185366.0</td>\n",
              "      <td>298436599.0</td>\n",
              "      <td>298543675.0</td>\n",
              "      <td>298562029.0</td>\n",
              "      <td>298603994.0</td>\n",
              "      <td>298604503.0</td>\n",
              "      <td>298620918.0</td>\n",
              "      <td>298621999.0</td>\n",
              "      <td>298621999.0</td>\n",
              "      <td>298621999.0</td>\n",
              "    </tr>\n",
              "    <tr>\n",
              "      <th>2008</th>\n",
              "      <td>3204310.0</td>\n",
              "      <td>39314302.0</td>\n",
              "      <td>127133116.0</td>\n",
              "      <td>195618362.0</td>\n",
              "      <td>242022989.0</td>\n",
              "      <td>271386829.0</td>\n",
              "      <td>285957669.0</td>\n",
              "      <td>290641213.0</td>\n",
              "      <td>292650676.0</td>\n",
              "      <td>293443420.0</td>\n",
              "      <td>293956885.0</td>\n",
              "      <td>294204555.0</td>\n",
              "      <td>294310113.0</td>\n",
              "      <td>294328206.0</td>\n",
              "      <td>294369577.0</td>\n",
              "      <td>294370079.0</td>\n",
              "      <td>294386261.0</td>\n",
              "      <td>294387327.0</td>\n",
              "      <td>294387327.0</td>\n",
              "      <td>294387327.0</td>\n",
              "    </tr>\n",
              "    <tr>\n",
              "      <th>2009</th>\n",
              "      <td>2281020.0</td>\n",
              "      <td>48134704.0</td>\n",
              "      <td>129443792.0</td>\n",
              "      <td>207226593.0</td>\n",
              "      <td>253528126.0</td>\n",
              "      <td>275339116.0</td>\n",
              "      <td>289163444.0</td>\n",
              "      <td>294661052.0</td>\n",
              "      <td>298098369.0</td>\n",
              "      <td>299227918.0</td>\n",
              "      <td>299751505.0</td>\n",
              "      <td>300004057.0</td>\n",
              "      <td>300111696.0</td>\n",
              "      <td>300130146.0</td>\n",
              "      <td>300172332.0</td>\n",
              "      <td>300172844.0</td>\n",
              "      <td>300189345.0</td>\n",
              "      <td>300190432.0</td>\n",
              "      <td>300190432.0</td>\n",
              "      <td>300190432.0</td>\n",
              "    </tr>\n",
              "    <tr>\n",
              "      <th>2010</th>\n",
              "      <td>3247383.0</td>\n",
              "      <td>45355418.0</td>\n",
              "      <td>130948545.0</td>\n",
              "      <td>197259488.0</td>\n",
              "      <td>245848248.0</td>\n",
              "      <td>277067336.0</td>\n",
              "      <td>288809927.0</td>\n",
              "      <td>294575540.0</td>\n",
              "      <td>297283989.0</td>\n",
              "      <td>298410453.0</td>\n",
              "      <td>298932609.0</td>\n",
              "      <td>299184472.0</td>\n",
              "      <td>299291817.0</td>\n",
              "      <td>299310216.0</td>\n",
              "      <td>299352287.0</td>\n",
              "      <td>299352797.0</td>\n",
              "      <td>299369253.0</td>\n",
              "      <td>299370337.0</td>\n",
              "      <td>299370337.0</td>\n",
              "      <td>299370337.0</td>\n",
              "    </tr>\n",
              "    <tr>\n",
              "      <th>2011</th>\n",
              "      <td>4023190.0</td>\n",
              "      <td>52422934.0</td>\n",
              "      <td>135085441.0</td>\n",
              "      <td>213929806.0</td>\n",
              "      <td>262775639.0</td>\n",
              "      <td>289531575.0</td>\n",
              "      <td>302093905.0</td>\n",
              "      <td>307647273.0</td>\n",
              "      <td>310475910.0</td>\n",
              "      <td>311652360.0</td>\n",
              "      <td>312197687.0</td>\n",
              "      <td>312460726.0</td>\n",
              "      <td>312572834.0</td>\n",
              "      <td>312592050.0</td>\n",
              "      <td>312635987.0</td>\n",
              "      <td>312636520.0</td>\n",
              "      <td>312653707.0</td>\n",
              "      <td>312654839.0</td>\n",
              "      <td>312654839.0</td>\n",
              "      <td>312654839.0</td>\n",
              "    </tr>\n",
              "    <tr>\n",
              "      <th>2012</th>\n",
              "      <td>4058287.0</td>\n",
              "      <td>50069534.0</td>\n",
              "      <td>142260025.0</td>\n",
              "      <td>206867581.0</td>\n",
              "      <td>257968282.0</td>\n",
              "      <td>283492730.0</td>\n",
              "      <td>296955026.0</td>\n",
              "      <td>302413927.0</td>\n",
              "      <td>305194445.0</td>\n",
              "      <td>306350883.0</td>\n",
              "      <td>306886934.0</td>\n",
              "      <td>307145498.0</td>\n",
              "      <td>307255699.0</td>\n",
              "      <td>307274588.0</td>\n",
              "      <td>307317778.0</td>\n",
              "      <td>307318302.0</td>\n",
              "      <td>307335196.0</td>\n",
              "      <td>307336309.0</td>\n",
              "      <td>307336309.0</td>\n",
              "      <td>307336309.0</td>\n",
              "    </tr>\n",
              "    <tr>\n",
              "      <th>2013</th>\n",
              "      <td>3335156.0</td>\n",
              "      <td>52570292.0</td>\n",
              "      <td>133763178.0</td>\n",
              "      <td>206994774.0</td>\n",
              "      <td>254275027.0</td>\n",
              "      <td>281780897.0</td>\n",
              "      <td>295161902.0</td>\n",
              "      <td>300587840.0</td>\n",
              "      <td>303351569.0</td>\n",
              "      <td>304501024.0</td>\n",
              "      <td>305033838.0</td>\n",
              "      <td>305290840.0</td>\n",
              "      <td>305400376.0</td>\n",
              "      <td>305419151.0</td>\n",
              "      <td>305462081.0</td>\n",
              "      <td>305462601.0</td>\n",
              "      <td>305479393.0</td>\n",
              "      <td>305480499.0</td>\n",
              "      <td>305480499.0</td>\n",
              "      <td>305480499.0</td>\n",
              "    </tr>\n",
              "    <tr>\n",
              "      <th>2014</th>\n",
              "      <td>1727421.0</td>\n",
              "      <td>48142658.0</td>\n",
              "      <td>129925423.0</td>\n",
              "      <td>202030672.0</td>\n",
              "      <td>249353176.0</td>\n",
              "      <td>276326631.0</td>\n",
              "      <td>289448629.0</td>\n",
              "      <td>294769540.0</td>\n",
              "      <td>297479773.0</td>\n",
              "      <td>298606978.0</td>\n",
              "      <td>299129479.0</td>\n",
              "      <td>299381507.0</td>\n",
              "      <td>299488923.0</td>\n",
              "      <td>299507334.0</td>\n",
              "      <td>299549433.0</td>\n",
              "      <td>299549943.0</td>\n",
              "      <td>299566410.0</td>\n",
              "      <td>299567495.0</td>\n",
              "      <td>299567495.0</td>\n",
              "      <td>299567495.0</td>\n",
              "    </tr>\n",
              "    <tr>\n",
              "      <th>2015</th>\n",
              "      <td>2707623.0</td>\n",
              "      <td>44076323.0</td>\n",
              "      <td>130639869.0</td>\n",
              "      <td>201695830.0</td>\n",
              "      <td>248939903.0</td>\n",
              "      <td>275868653.0</td>\n",
              "      <td>288968902.0</td>\n",
              "      <td>294280995.0</td>\n",
              "      <td>296986736.0</td>\n",
              "      <td>298112073.0</td>\n",
              "      <td>298633708.0</td>\n",
              "      <td>298885318.0</td>\n",
              "      <td>298992556.0</td>\n",
              "      <td>299010937.0</td>\n",
              "      <td>299052965.0</td>\n",
              "      <td>299053475.0</td>\n",
              "      <td>299069915.0</td>\n",
              "      <td>299070998.0</td>\n",
              "      <td>299070998.0</td>\n",
              "      <td>299070998.0</td>\n",
              "    </tr>\n",
              "    <tr>\n",
              "      <th>2016</th>\n",
              "      <td>3057485.0</td>\n",
              "      <td>41569188.0</td>\n",
              "      <td>112607888.0</td>\n",
              "      <td>173856125.0</td>\n",
              "      <td>214579186.0</td>\n",
              "      <td>237791009.0</td>\n",
              "      <td>249083055.0</td>\n",
              "      <td>253661929.0</td>\n",
              "      <td>255994202.0</td>\n",
              "      <td>256964211.0</td>\n",
              "      <td>257413845.0</td>\n",
              "      <td>257630726.0</td>\n",
              "      <td>257723162.0</td>\n",
              "      <td>257739006.0</td>\n",
              "      <td>257775234.0</td>\n",
              "      <td>257775673.0</td>\n",
              "      <td>257789844.0</td>\n",
              "      <td>257790777.0</td>\n",
              "      <td>257790777.0</td>\n",
              "      <td>257790777.0</td>\n",
              "    </tr>\n",
              "    <tr>\n",
              "      <th>2017</th>\n",
              "      <td>2458100.0</td>\n",
              "      <td>40029363.0</td>\n",
              "      <td>108436614.0</td>\n",
              "      <td>167416066.0</td>\n",
              "      <td>206630643.0</td>\n",
              "      <td>228982644.0</td>\n",
              "      <td>239856405.0</td>\n",
              "      <td>244265666.0</td>\n",
              "      <td>246511546.0</td>\n",
              "      <td>247445623.0</td>\n",
              "      <td>247878602.0</td>\n",
              "      <td>248087449.0</td>\n",
              "      <td>248176461.0</td>\n",
              "      <td>248191718.0</td>\n",
              "      <td>248226603.0</td>\n",
              "      <td>248227026.0</td>\n",
              "      <td>248240672.0</td>\n",
              "      <td>248241571.0</td>\n",
              "      <td>248241571.0</td>\n",
              "      <td>248241571.0</td>\n",
              "    </tr>\n",
              "  </tbody>\n",
              "</table>\n",
              "</div>\n",
              "      <button class=\"colab-df-convert\" onclick=\"convertToInteractive('df-187d34d8-908d-4736-8e94-c6347c7700c5')\"\n",
              "              title=\"Convert this dataframe to an interactive table.\"\n",
              "              style=\"display:none;\">\n",
              "        \n",
              "  <svg xmlns=\"http://www.w3.org/2000/svg\" height=\"24px\"viewBox=\"0 0 24 24\"\n",
              "       width=\"24px\">\n",
              "    <path d=\"M0 0h24v24H0V0z\" fill=\"none\"/>\n",
              "    <path d=\"M18.56 5.44l.94 2.06.94-2.06 2.06-.94-2.06-.94-.94-2.06-.94 2.06-2.06.94zm-11 1L8.5 8.5l.94-2.06 2.06-.94-2.06-.94L8.5 2.5l-.94 2.06-2.06.94zm10 10l.94 2.06.94-2.06 2.06-.94-2.06-.94-.94-2.06-.94 2.06-2.06.94z\"/><path d=\"M17.41 7.96l-1.37-1.37c-.4-.4-.92-.59-1.43-.59-.52 0-1.04.2-1.43.59L10.3 9.45l-7.72 7.72c-.78.78-.78 2.05 0 2.83L4 21.41c.39.39.9.59 1.41.59.51 0 1.02-.2 1.41-.59l7.78-7.78 2.81-2.81c.8-.78.8-2.07 0-2.86zM5.41 20L4 18.59l7.72-7.72 1.47 1.35L5.41 20z\"/>\n",
              "  </svg>\n",
              "      </button>\n",
              "      \n",
              "  <style>\n",
              "    .colab-df-container {\n",
              "      display:flex;\n",
              "      flex-wrap:wrap;\n",
              "      gap: 12px;\n",
              "    }\n",
              "\n",
              "    .colab-df-convert {\n",
              "      background-color: #E8F0FE;\n",
              "      border: none;\n",
              "      border-radius: 50%;\n",
              "      cursor: pointer;\n",
              "      display: none;\n",
              "      fill: #1967D2;\n",
              "      height: 32px;\n",
              "      padding: 0 0 0 0;\n",
              "      width: 32px;\n",
              "    }\n",
              "\n",
              "    .colab-df-convert:hover {\n",
              "      background-color: #E2EBFA;\n",
              "      box-shadow: 0px 1px 2px rgba(60, 64, 67, 0.3), 0px 1px 3px 1px rgba(60, 64, 67, 0.15);\n",
              "      fill: #174EA6;\n",
              "    }\n",
              "\n",
              "    [theme=dark] .colab-df-convert {\n",
              "      background-color: #3B4455;\n",
              "      fill: #D2E3FC;\n",
              "    }\n",
              "\n",
              "    [theme=dark] .colab-df-convert:hover {\n",
              "      background-color: #434B5C;\n",
              "      box-shadow: 0px 1px 3px 1px rgba(0, 0, 0, 0.15);\n",
              "      filter: drop-shadow(0px 1px 2px rgba(0, 0, 0, 0.3));\n",
              "      fill: #FFFFFF;\n",
              "    }\n",
              "  </style>\n",
              "\n",
              "      <script>\n",
              "        const buttonEl =\n",
              "          document.querySelector('#df-187d34d8-908d-4736-8e94-c6347c7700c5 button.colab-df-convert');\n",
              "        buttonEl.style.display =\n",
              "          google.colab.kernel.accessAllowed ? 'block' : 'none';\n",
              "\n",
              "        async function convertToInteractive(key) {\n",
              "          const element = document.querySelector('#df-187d34d8-908d-4736-8e94-c6347c7700c5');\n",
              "          const dataTable =\n",
              "            await google.colab.kernel.invokeFunction('convertToInteractive',\n",
              "                                                     [key], {});\n",
              "          if (!dataTable) return;\n",
              "\n",
              "          const docLinkHtml = 'Like what you see? Visit the ' +\n",
              "            '<a target=\"_blank\" href=https://colab.research.google.com/notebooks/data_table.ipynb>data table notebook</a>'\n",
              "            + ' to learn more about interactive tables.';\n",
              "          element.innerHTML = '';\n",
              "          dataTable['output_type'] = 'display_data';\n",
              "          await google.colab.output.renderOutput(dataTable, element);\n",
              "          const docLink = document.createElement('div');\n",
              "          docLink.innerHTML = docLinkHtml;\n",
              "          element.appendChild(docLink);\n",
              "        }\n",
              "      </script>\n",
              "    </div>\n",
              "  </div>\n",
              "  "
            ]
          },
          "metadata": {},
          "execution_count": 20
        }
      ],
      "source": [
        "# Projection of the complete cumulative triangle\n",
        "S1Paid_full = S1Paid_triangle.copy()\n",
        "\n",
        "for i in range(1,N_acc):\n",
        "    for k in range(N_dev-i,N_dev):\n",
        "        S1Paid_full.iloc[i,k] = S1Paid_full.iloc[i,k-1]*developmentFactors[k-1]\n",
        "        \n",
        "round(S1Paid_full,0)"
      ]
    },
    {
      "cell_type": "markdown",
      "metadata": {
        "id": "khO6-eoGJUbT"
      },
      "source": [
        "Remark:\n",
        "\n",
        "* In case we want to start from an existing pandas dataframe, we create by adding the attribute 'copy()'. If we do not perform this step, both dataframes are linked to the same underlying list. Modifications to the data of the copy will not be reflected in the original object."
      ]
    },
    {
      "cell_type": "markdown",
      "metadata": {
        "id": "H32uGddoJUbT"
      },
      "source": [
        "<br>"
      ]
    },
    {
      "cell_type": "markdown",
      "metadata": {
        "id": "VzJW9aBMJUbT"
      },
      "source": [
        "## 2.4 Total reserves <a name=\"two-four\"></a>"
      ]
    },
    {
      "cell_type": "markdown",
      "metadata": {
        "id": "d7x29JXdJUbT"
      },
      "source": [
        "- The ultimate cost is then given by the estimated cumulative payments at the end of the development pattern: <br> \n",
        "\n",
        "$$\\begin{equation*} \\hat{U}_{i} = \\hat{C}_{i,n} = ( \\hat{\\lambda}_{n-i} \\ldots \\hat{\\lambda}_{n-1} ) \\ C_{i,n-i} \\ \\ \\ \\ \\text{      for } \\ \\ i=1,\\ldots,n. \\end{equation*}$$ <br>"
      ]
    },
    {
      "cell_type": "code",
      "execution_count": 21,
      "metadata": {
        "ExecuteTime": {
          "end_time": "2019-10-08T12:17:19.118741Z",
          "start_time": "2019-10-08T12:17:19.112741Z"
        },
        "colab": {
          "base_uri": "https://localhost:8080/"
        },
        "id": "EWBwqEAqJUbT",
        "outputId": "41e078fd-27b8-4513-fbbf-7e104d44b9dc"
      },
      "outputs": [
        {
          "output_type": "execute_result",
          "data": {
            "text/plain": [
              "[0.0,\n",
              " 0.0,\n",
              " 0.0,\n",
              " 1090.6402593255043,\n",
              " 17680.165005743504,\n",
              " 18300.802320361137,\n",
              " 59033.25783145428,\n",
              " 77385.93817776442,\n",
              " 184980.9352543354,\n",
              " 436633.47156590223,\n",
              " 943906.9419074059,\n",
              " 2092063.065777421,\n",
              " 4794797.1429739,\n",
              " 10560933.798085451,\n",
              " 23843579.03610879,\n",
              " 51205472.36797118,\n",
              " 97536822.83610517,\n",
              " 168431128.7244925,\n",
              " 216221589.04116896,\n",
              " 245783470.7471269]"
            ]
          },
          "metadata": {},
          "execution_count": 21
        }
      ],
      "source": [
        "Reserves = [0.0]*(N_acc)\n",
        "\n",
        "for i in range(1,N_acc):\n",
        "    Reserves[i] = S1Paid_full.iloc[i,N_acc-1] - S1Paid_full.iloc[i,N_acc-1-i]\n",
        "    \n",
        "Reserves"
      ]
    },
    {
      "cell_type": "code",
      "execution_count": 22,
      "metadata": {
        "ExecuteTime": {
          "end_time": "2019-10-08T12:17:19.125744Z",
          "start_time": "2019-10-08T12:17:19.120742Z"
        },
        "colab": {
          "base_uri": "https://localhost:8080/"
        },
        "id": "Ql7RqoLHJUbT",
        "outputId": "eeff5cb6-e2bf-4629-84ea-4e123bfb8382"
      },
      "outputs": [
        {
          "output_type": "stream",
          "name": "stdout",
          "text": [
            "The total reserves are equal to 822208868.\n"
          ]
        }
      ],
      "source": [
        "TotalReserves = sum(Reserves)\n",
        "\n",
        "print('The total reserves are equal to ' + str(int(TotalReserves)) + '.')"
      ]
    },
    {
      "cell_type": "markdown",
      "metadata": {
        "id": "RhAiSdueJUbT"
      },
      "source": [
        "<br>"
      ]
    },
    {
      "cell_type": "markdown",
      "metadata": {
        "id": "aZIMXp8_JUbU"
      },
      "source": [
        "* In order to calculate the total reserves on the other samples, we can of course perform the same commands as before by changing the name of the data sample. However, let us define a function with an undefined triangle as input which delivers the ultimate amounts and the total reserves by applying the CL algorithm."
      ]
    },
    {
      "cell_type": "code",
      "execution_count": 23,
      "metadata": {
        "ExecuteTime": {
          "end_time": "2019-10-08T12:17:19.133743Z",
          "start_time": "2019-10-08T12:17:19.126741Z"
        },
        "id": "TE74r_GbJUbU"
      },
      "outputs": [],
      "source": [
        "def CL_triangle(triangle):\n",
        "    \n",
        "    N_acc = triangle.shape[0]\n",
        "    N_dev = triangle.shape[1]\n",
        "    developmentFactors = [0.0]*(N_dev-1)\n",
        "    Reserves = [0.0]*(N_acc)\n",
        "    \n",
        "    # Calculation of the development factors\n",
        "    for j in range(N_dev-1):\n",
        "        developmentFactors[j] = sum(triangle.iloc[0:min(N_acc,N_dev-j-1),j+1]) / sum(triangle.iloc[0:min(N_acc,N_dev-j-1),j])\n",
        "\n",
        "    triangle_full = triangle.copy()\n",
        "\n",
        "    # Projection of the complete cumulative triangle\n",
        "    for i in range(1,N_acc):\n",
        "        for k in range(N_dev-i,N_dev):\n",
        "            triangle_full.iloc[i,k] = triangle_full.iloc[i,k-1]*developmentFactors[k-1]\n",
        "    \n",
        "    # Calculation of the reserves\n",
        "    for i in range(1,N_acc):\n",
        "        Reserves[i] = triangle_full.iloc[i,N_acc-1] - triangle_full.iloc[i,N_acc-1-i]\n",
        "    \n",
        "    TotalReserves=sum(Reserves)\n",
        "    return(int(TotalReserves))"
      ]
    },
    {
      "cell_type": "markdown",
      "metadata": {
        "id": "3szZX-sjJUbU"
      },
      "source": [
        "<br>"
      ]
    },
    {
      "cell_type": "markdown",
      "metadata": {
        "id": "NNz7tOd6JUbU"
      },
      "source": [
        "Now that we can calculate the provisions for each sample by CL, we can add them to our table of results from above."
      ]
    },
    {
      "cell_type": "code",
      "execution_count": 24,
      "metadata": {
        "ExecuteTime": {
          "end_time": "2019-10-08T12:17:19.454794Z",
          "start_time": "2019-10-08T12:17:19.134743Z"
        },
        "colab": {
          "base_uri": "https://localhost:8080/",
          "height": 206
        },
        "id": "xmAqOgqlJUbU",
        "outputId": "3e27404b-b2d8-4035-e893-20a2a2017fe7"
      },
      "outputs": [
        {
          "output_type": "execute_result",
          "data": {
            "text/plain": [
              "           Observed          CL  GLM   NN\n",
              "Sample1   905043411   822208868  NaN  NaN\n",
              "Sample2  1231419704  1307673382  NaN  NaN\n",
              "Sample3  2136463115  2085358862  NaN  NaN\n",
              "Sample4  2132886166  3914420114  NaN  NaN\n",
              "Sample5  2178800120  2335045312  NaN  NaN"
            ],
            "text/html": [
              "\n",
              "  <div id=\"df-9cd56946-e09d-486a-97c8-ed284b6c0403\">\n",
              "    <div class=\"colab-df-container\">\n",
              "      <div>\n",
              "<style scoped>\n",
              "    .dataframe tbody tr th:only-of-type {\n",
              "        vertical-align: middle;\n",
              "    }\n",
              "\n",
              "    .dataframe tbody tr th {\n",
              "        vertical-align: top;\n",
              "    }\n",
              "\n",
              "    .dataframe thead th {\n",
              "        text-align: right;\n",
              "    }\n",
              "</style>\n",
              "<table border=\"1\" class=\"dataframe\">\n",
              "  <thead>\n",
              "    <tr style=\"text-align: right;\">\n",
              "      <th></th>\n",
              "      <th>Observed</th>\n",
              "      <th>CL</th>\n",
              "      <th>GLM</th>\n",
              "      <th>NN</th>\n",
              "    </tr>\n",
              "  </thead>\n",
              "  <tbody>\n",
              "    <tr>\n",
              "      <th>Sample1</th>\n",
              "      <td>905043411</td>\n",
              "      <td>822208868</td>\n",
              "      <td>NaN</td>\n",
              "      <td>NaN</td>\n",
              "    </tr>\n",
              "    <tr>\n",
              "      <th>Sample2</th>\n",
              "      <td>1231419704</td>\n",
              "      <td>1307673382</td>\n",
              "      <td>NaN</td>\n",
              "      <td>NaN</td>\n",
              "    </tr>\n",
              "    <tr>\n",
              "      <th>Sample3</th>\n",
              "      <td>2136463115</td>\n",
              "      <td>2085358862</td>\n",
              "      <td>NaN</td>\n",
              "      <td>NaN</td>\n",
              "    </tr>\n",
              "    <tr>\n",
              "      <th>Sample4</th>\n",
              "      <td>2132886166</td>\n",
              "      <td>3914420114</td>\n",
              "      <td>NaN</td>\n",
              "      <td>NaN</td>\n",
              "    </tr>\n",
              "    <tr>\n",
              "      <th>Sample5</th>\n",
              "      <td>2178800120</td>\n",
              "      <td>2335045312</td>\n",
              "      <td>NaN</td>\n",
              "      <td>NaN</td>\n",
              "    </tr>\n",
              "  </tbody>\n",
              "</table>\n",
              "</div>\n",
              "      <button class=\"colab-df-convert\" onclick=\"convertToInteractive('df-9cd56946-e09d-486a-97c8-ed284b6c0403')\"\n",
              "              title=\"Convert this dataframe to an interactive table.\"\n",
              "              style=\"display:none;\">\n",
              "        \n",
              "  <svg xmlns=\"http://www.w3.org/2000/svg\" height=\"24px\"viewBox=\"0 0 24 24\"\n",
              "       width=\"24px\">\n",
              "    <path d=\"M0 0h24v24H0V0z\" fill=\"none\"/>\n",
              "    <path d=\"M18.56 5.44l.94 2.06.94-2.06 2.06-.94-2.06-.94-.94-2.06-.94 2.06-2.06.94zm-11 1L8.5 8.5l.94-2.06 2.06-.94-2.06-.94L8.5 2.5l-.94 2.06-2.06.94zm10 10l.94 2.06.94-2.06 2.06-.94-2.06-.94-.94-2.06-.94 2.06-2.06.94z\"/><path d=\"M17.41 7.96l-1.37-1.37c-.4-.4-.92-.59-1.43-.59-.52 0-1.04.2-1.43.59L10.3 9.45l-7.72 7.72c-.78.78-.78 2.05 0 2.83L4 21.41c.39.39.9.59 1.41.59.51 0 1.02-.2 1.41-.59l7.78-7.78 2.81-2.81c.8-.78.8-2.07 0-2.86zM5.41 20L4 18.59l7.72-7.72 1.47 1.35L5.41 20z\"/>\n",
              "  </svg>\n",
              "      </button>\n",
              "      \n",
              "  <style>\n",
              "    .colab-df-container {\n",
              "      display:flex;\n",
              "      flex-wrap:wrap;\n",
              "      gap: 12px;\n",
              "    }\n",
              "\n",
              "    .colab-df-convert {\n",
              "      background-color: #E8F0FE;\n",
              "      border: none;\n",
              "      border-radius: 50%;\n",
              "      cursor: pointer;\n",
              "      display: none;\n",
              "      fill: #1967D2;\n",
              "      height: 32px;\n",
              "      padding: 0 0 0 0;\n",
              "      width: 32px;\n",
              "    }\n",
              "\n",
              "    .colab-df-convert:hover {\n",
              "      background-color: #E2EBFA;\n",
              "      box-shadow: 0px 1px 2px rgba(60, 64, 67, 0.3), 0px 1px 3px 1px rgba(60, 64, 67, 0.15);\n",
              "      fill: #174EA6;\n",
              "    }\n",
              "\n",
              "    [theme=dark] .colab-df-convert {\n",
              "      background-color: #3B4455;\n",
              "      fill: #D2E3FC;\n",
              "    }\n",
              "\n",
              "    [theme=dark] .colab-df-convert:hover {\n",
              "      background-color: #434B5C;\n",
              "      box-shadow: 0px 1px 3px 1px rgba(0, 0, 0, 0.15);\n",
              "      filter: drop-shadow(0px 1px 2px rgba(0, 0, 0, 0.3));\n",
              "      fill: #FFFFFF;\n",
              "    }\n",
              "  </style>\n",
              "\n",
              "      <script>\n",
              "        const buttonEl =\n",
              "          document.querySelector('#df-9cd56946-e09d-486a-97c8-ed284b6c0403 button.colab-df-convert');\n",
              "        buttonEl.style.display =\n",
              "          google.colab.kernel.accessAllowed ? 'block' : 'none';\n",
              "\n",
              "        async function convertToInteractive(key) {\n",
              "          const element = document.querySelector('#df-9cd56946-e09d-486a-97c8-ed284b6c0403');\n",
              "          const dataTable =\n",
              "            await google.colab.kernel.invokeFunction('convertToInteractive',\n",
              "                                                     [key], {});\n",
              "          if (!dataTable) return;\n",
              "\n",
              "          const docLinkHtml = 'Like what you see? Visit the ' +\n",
              "            '<a target=\"_blank\" href=https://colab.research.google.com/notebooks/data_table.ipynb>data table notebook</a>'\n",
              "            + ' to learn more about interactive tables.';\n",
              "          element.innerHTML = '';\n",
              "          dataTable['output_type'] = 'display_data';\n",
              "          await google.colab.output.renderOutput(dataTable, element);\n",
              "          const docLink = document.createElement('div');\n",
              "          docLink.innerHTML = docLinkHtml;\n",
              "          element.appendChild(docLink);\n",
              "        }\n",
              "      </script>\n",
              "    </div>\n",
              "  </div>\n",
              "  "
            ]
          },
          "metadata": {},
          "execution_count": 24
        }
      ],
      "source": [
        "results.at[\"Sample1\",\"CL\"] = CL_triangle(S1Paid_triangle)\n",
        "results.at[\"Sample2\",\"CL\"] = CL_triangle(S2Paid_triangle)\n",
        "results.at[\"Sample3\",\"CL\"] = CL_triangle(S3Paid_triangle)\n",
        "results.at[\"Sample4\",\"CL\"] = CL_triangle(S4Paid_triangle)\n",
        "results.at[\"Sample5\",\"CL\"] = CL_triangle(S5Paid_triangle)\n",
        "results"
      ]
    },
    {
      "cell_type": "markdown",
      "metadata": {
        "id": "eaky50IFJUbU"
      },
      "source": [
        "We observe that CL does not perform well in estimating the provisions for Sample 4."
      ]
    },
    {
      "cell_type": "markdown",
      "metadata": {
        "id": "nIsvYCg1JUbU"
      },
      "source": [
        "<br>"
      ]
    },
    {
      "cell_type": "markdown",
      "metadata": {
        "id": "-dinm84jJUbU"
      },
      "source": [
        "For further developments, we will need the extended aggregated set for each methods, including chain ladder. So that, we define the following function - it will simply return the development factors:"
      ]
    },
    {
      "cell_type": "code",
      "execution_count": 25,
      "metadata": {
        "ExecuteTime": {
          "end_time": "2019-10-08T12:17:19.491834Z",
          "start_time": "2019-10-08T12:17:19.456797Z"
        },
        "scrolled": true,
        "colab": {
          "base_uri": "https://localhost:8080/"
        },
        "id": "q9MnvLBJJUbU",
        "outputId": "45e18513-2e33-4900-a769-75296708d083"
      },
      "outputs": [
        {
          "output_type": "execute_result",
          "data": {
            "text/plain": [
              "[16.28467626807316,\n",
              " 2.708926807842189,\n",
              " 1.5439071700792506,\n",
              " 1.2342342571338663,\n",
              " 1.1081736966305835,\n",
              " 1.0474872702177647,\n",
              " 1.0183829211837638,\n",
              " 1.0091944138230597,\n",
              " 1.0037891833433576,\n",
              " 1.0017497930053787,\n",
              " 1.0008425384973347,\n",
              " 1.00035879184905,\n",
              " 1.0000614761927984,\n",
              " 1.0001405591814327,\n",
              " 1.0000017041094595,\n",
              " 1.0000549723566097,\n",
              " 1.0000036212878713,\n",
              " 1.0,\n",
              " 1.0]"
            ]
          },
          "metadata": {},
          "execution_count": 25
        }
      ],
      "source": [
        "def get_dev_factors(dataset):\n",
        "        \n",
        "    triangle = aggregated_to_triangle(aggregate(dataset))\n",
        "    [N_acc, N_dev] = triangle.shape\n",
        "    developmentFactors = [0.0]*(N_dev-1)\n",
        "    for j in range(N_dev-1):\n",
        "        developmentFactors[j] = sum(triangle.iloc[0:min(N_acc,N_dev-j-1),j+1]) / sum(triangle.iloc[0:min(N_acc,N_dev-j-1),j])\n",
        "\n",
        "    return(developmentFactors)\n",
        "\n",
        "dev_factors = get_dev_factors(Sample1)\n",
        "dev_factors"
      ]
    },
    {
      "cell_type": "markdown",
      "metadata": {
        "id": "XtT_bl5ZJUbV"
      },
      "source": [
        "The following function will be used to extend the development of the datasets using the chain ladder methods:"
      ]
    },
    {
      "cell_type": "code",
      "execution_count": 26,
      "metadata": {
        "ExecuteTime": {
          "end_time": "2019-10-08T12:17:19.501839Z",
          "start_time": "2019-10-08T12:17:19.493800Z"
        },
        "id": "HInWs4CKJUbV"
      },
      "outputs": [],
      "source": [
        "def continue_dev_cl(individual_claims_db, dev_factors):\n",
        "    \n",
        "    db_list = []\n",
        "    all_IDs = individual_claims_db[\"ID\"].unique()\n",
        "    \n",
        "    # For each unique id\n",
        "    for id in all_IDs:\n",
        "        \n",
        "        # We create a dataframe that will contain only ID, Dev, Acc and Paid columns\n",
        "        tmp_db = pd.DataFrame(index = list(range(20)), columns=[\"ID\", \"Dev\", \"Acc\", \"Paid\"])\n",
        "        \n",
        "        _paid = individual_claims_db.loc[individual_claims_db[\"ID\"] == id,\"Paid\"].values.tolist()\n",
        "        _dev = individual_claims_db.loc[individual_claims_db[\"ID\"] == id,\"Dev\"].values.tolist()\n",
        "        already_year = [individual_claims_db.loc[individual_claims_db[\"ID\"] == id,\"Acc\"].values[0]] * 20\n",
        "        \n",
        "        already_paid = _paid\n",
        "        already_dev = _dev\n",
        "        \n",
        "        # For each year that have not been fully developed\n",
        "        for i in range(len(_paid), 20):\n",
        "            \n",
        "            # We multiply the last value by the corresponding development factor\n",
        "            already_paid.append(already_paid[i - 1] * dev_factors[i-1])\n",
        "            already_dev.append(i + 1)\n",
        "        \n",
        "        # We add the data to the dataframe\n",
        "        tmp_db.at[:, \"ID\"] = id\n",
        "        tmp_db.at[tmp_db.index, \"Paid\"] = already_paid\n",
        "        tmp_db.at[tmp_db.index, \"Dev\"] = already_dev\n",
        "        tmp_db.at[tmp_db.index, \"Acc\"] = already_year\n",
        "\n",
        "        # We store these dataframes in the below list\n",
        "        db_list.append(tmp_db)\n",
        "            \n",
        "    # We return the merged data frame\n",
        "    return(pd.concat(db_list).reset_index(drop = True))"
      ]
    },
    {
      "cell_type": "markdown",
      "metadata": {
        "id": "c17U_esYJUbV"
      },
      "source": [
        "We apply this function to the first sample:"
      ]
    },
    {
      "cell_type": "code",
      "execution_count": 27,
      "metadata": {
        "ExecuteTime": {
          "end_time": "2019-10-08T12:18:19.426614Z",
          "start_time": "2019-10-08T12:17:19.502798Z"
        },
        "id": "SOiOQITOJUbV"
      },
      "outputs": [],
      "source": [
        "Sample1_cl_extended = continue_dev_cl(Sample1, get_dev_factors(Sample1))"
      ]
    },
    {
      "cell_type": "markdown",
      "metadata": {
        "id": "JKWpzDXUJUbV"
      },
      "source": [
        "We check that the provisions are the one we want:"
      ]
    },
    {
      "cell_type": "code",
      "execution_count": 28,
      "metadata": {
        "ExecuteTime": {
          "end_time": "2019-10-08T12:18:19.469600Z",
          "start_time": "2019-10-08T12:18:19.428587Z"
        },
        "colab": {
          "base_uri": "https://localhost:8080/"
        },
        "id": "8w3wFsBaJUbV",
        "outputId": "f73a0100-28d3-44bb-dc04-2e207500039f"
      },
      "outputs": [
        {
          "output_type": "execute_result",
          "data": {
            "text/plain": [
              "822208860"
            ]
          },
          "metadata": {},
          "execution_count": 28
        }
      ],
      "source": [
        "sum(compute_provisions(aggregated_to_triangle(aggregate(Sample1_cl_extended, [\"Paid\"]))))"
      ]
    },
    {
      "cell_type": "markdown",
      "metadata": {
        "ExecuteTime": {
          "end_time": "2019-09-25T14:52:58.738770Z",
          "start_time": "2019-09-25T14:52:58.734771Z"
        },
        "id": "WTqSdxpkJUbV"
      },
      "source": [
        "Good!\n",
        "\n",
        "Now, let us extend the datasets using this function (it can take few minutes):"
      ]
    },
    {
      "cell_type": "code",
      "execution_count": 29,
      "metadata": {
        "ExecuteTime": {
          "end_time": "2019-10-08T12:23:17.671229Z",
          "start_time": "2019-10-08T12:18:19.473596Z"
        },
        "id": "dMPz2P2gJUbV"
      },
      "outputs": [],
      "source": [
        "Sample2_cl_extended = continue_dev_cl(Sample2, get_dev_factors(Sample2))\n",
        "Sample3_cl_extended = continue_dev_cl(Sample3, get_dev_factors(Sample3))\n",
        "Sample4_cl_extended = continue_dev_cl(Sample4, get_dev_factors(Sample4))\n",
        "Sample5_cl_extended = continue_dev_cl(Sample5, get_dev_factors(Sample5))"
      ]
    },
    {
      "cell_type": "markdown",
      "metadata": {
        "id": "Tb-lOC1NJUbW"
      },
      "source": [
        "<br> <br>\n",
        "<br> <br>"
      ]
    },
    {
      "cell_type": "markdown",
      "metadata": {
        "id": "wbWgl3eaJUbW"
      },
      "source": [
        "# Chapter 3 - Generalized Linear Models <a name=\"three\"></a>"
      ]
    },
    {
      "cell_type": "markdown",
      "metadata": {
        "id": "nhk8bd0DJUbW"
      },
      "source": [
        "<br>"
      ]
    },
    {
      "cell_type": "markdown",
      "metadata": {
        "id": "U4QpjPDmJUbW"
      },
      "source": [
        "## 3.1 Introduction <a name=\"three-one\"></a>"
      ]
    },
    {
      "cell_type": "markdown",
      "metadata": {
        "id": "35uq2iNmJUbW"
      },
      "source": [
        "* The main drawback of Chain Ladder, as every other deterministic model, is that no information is available about the volatility around the estimation.\n",
        "\n",
        "\n",
        "* Mack's model defines a semi-stochastic version for which we can compute a mean squared error of the predicted total loss amount obtained from the model. However, no information about the distribution is known.\n",
        "\n",
        "\n",
        "* Stochastic models enable to obtain a distribution of the provision so that not only the central estimate is known but also quantiles or confidence intervals around this estimate. Most of the stochastic models for claim reserving can be formulated by means of a particular family of generalized linear models.\n",
        "\n",
        "\n",
        "* The use of a Generalized Linear Model on reserving data gives more flexibility as we can model relationships between the response variable (i.e. the loss amount) and the explanatory variables (i.e. the different dimensions within the claims triangle) other than the Normal distribution.\n"
      ]
    },
    {
      "cell_type": "markdown",
      "metadata": {
        "id": "5Tiv5KiPJUbW"
      },
      "source": [
        "<br>"
      ]
    },
    {
      "cell_type": "markdown",
      "metadata": {
        "id": "PVahcbEmJUbW"
      },
      "source": [
        "## 3.2 Methodology <a name=\"three-two\"></a>"
      ]
    },
    {
      "cell_type": "markdown",
      "metadata": {
        "id": "vTFrAF8bJUbW"
      },
      "source": [
        "* In order to set up a Generalized Linear Model for reserving data, we consider a model defined as follows:\n",
        "\n",
        "     1. The observed random variables $Y_{i,j}$ are stochastically independent.\n",
        "\n",
        "     2. For each accident year $i=1, 2, ..., I$ and development year $j=1, 2, ..., J$:\n",
        " \n",
        "           a. The response variable has a distribution from the EDF family: $Y_{i,j} \\sim EDF(\\theta_{i,j},\\phi_{i,j},a).$\n",
        " \n",
        "           b. $\\fbox{$\\mathbb{E}[Y_{i,j}] = \\alpha_{i} \\beta_{j}$}$ for some parameters $\\alpha_{i},\\beta_{j}>0$.\n",
        "    \n",
        "    \n",
        "* Notice that we will now work with the **incremental** amounts $Y_{i,j}$."
      ]
    },
    {
      "cell_type": "markdown",
      "metadata": {
        "ExecuteTime": {
          "end_time": "2019-10-08T12:31:27.525244Z",
          "start_time": "2019-10-08T12:31:27.519247Z"
        },
        "id": "ICER2cEhJUbW"
      },
      "source": [
        "* A very important remark to make here is that the parameters of the model consist of both row and column parameters $\\alpha_{i}$ and $\\beta_{j}$ respectively, whereas the only parameters contained in the Chain Ladder (or Mack) model are the column parameters, i.e. the so-called development factors. Thanks to this property, we can investigate different dimensions: \n",
        "\n",
        "    * The accident year parameters $\\alpha_{i}$ reflect changes due to exposure to risk.\n",
        "    * The development year parameters $\\beta_{j}$ enable to take into account the development pattern of the business line."
      ]
    },
    {
      "cell_type": "markdown",
      "metadata": {
        "id": "sGNvR7H1JUbX"
      },
      "source": [
        "<br>"
      ]
    },
    {
      "cell_type": "markdown",
      "metadata": {
        "id": "bZah5egyJUbX"
      },
      "source": [
        "## 3.3 GLM on Aggregated Data <a name=\"three-three\"></a>"
      ]
    },
    {
      "cell_type": "markdown",
      "metadata": {
        "id": "DgtNhP1tJUbX"
      },
      "source": [
        "* We start with a GLM on the aggregated claim data, because in the past this was usually the only information that was available in an insurance company.\n",
        "\n",
        "* We again aggregate the sample of incremental data by accident and development year. Notice that we already performed this aggregation on the cumulative dataset from which you can find some inspiration."
      ]
    },
    {
      "cell_type": "code",
      "execution_count": 30,
      "metadata": {
        "ExecuteTime": {
          "end_time": "2019-10-08T08:15:04.740259Z",
          "start_time": "2019-10-08T08:15:04.668218Z"
        },
        "scrolled": true,
        "colab": {
          "base_uri": "https://localhost:8080/",
          "height": 424
        },
        "id": "kG_JKiNSJUbX",
        "outputId": "a21f7790-8f81-4c75-e148-02682cd17821"
      },
      "outputs": [
        {
          "output_type": "execute_result",
          "data": {
            "text/plain": [
              "      Acc  Dev  PaidIncr\n",
              "0    1998    1   3119574\n",
              "1    1998    2  44064989\n",
              "2    1998    3  82387255\n",
              "3    1998    4  75638367\n",
              "4    1998    5  45277969\n",
              "..    ...  ...       ...\n",
              "205  2015    2  41368700\n",
              "206  2015    3  86563546\n",
              "207  2016    1   3057485\n",
              "208  2016    2  38511703\n",
              "209  2017    1   2458100\n",
              "\n",
              "[210 rows x 3 columns]"
            ],
            "text/html": [
              "\n",
              "  <div id=\"df-d648620c-b361-4205-9566-8e0d98b29c15\">\n",
              "    <div class=\"colab-df-container\">\n",
              "      <div>\n",
              "<style scoped>\n",
              "    .dataframe tbody tr th:only-of-type {\n",
              "        vertical-align: middle;\n",
              "    }\n",
              "\n",
              "    .dataframe tbody tr th {\n",
              "        vertical-align: top;\n",
              "    }\n",
              "\n",
              "    .dataframe thead th {\n",
              "        text-align: right;\n",
              "    }\n",
              "</style>\n",
              "<table border=\"1\" class=\"dataframe\">\n",
              "  <thead>\n",
              "    <tr style=\"text-align: right;\">\n",
              "      <th></th>\n",
              "      <th>Acc</th>\n",
              "      <th>Dev</th>\n",
              "      <th>PaidIncr</th>\n",
              "    </tr>\n",
              "  </thead>\n",
              "  <tbody>\n",
              "    <tr>\n",
              "      <th>0</th>\n",
              "      <td>1998</td>\n",
              "      <td>1</td>\n",
              "      <td>3119574</td>\n",
              "    </tr>\n",
              "    <tr>\n",
              "      <th>1</th>\n",
              "      <td>1998</td>\n",
              "      <td>2</td>\n",
              "      <td>44064989</td>\n",
              "    </tr>\n",
              "    <tr>\n",
              "      <th>2</th>\n",
              "      <td>1998</td>\n",
              "      <td>3</td>\n",
              "      <td>82387255</td>\n",
              "    </tr>\n",
              "    <tr>\n",
              "      <th>3</th>\n",
              "      <td>1998</td>\n",
              "      <td>4</td>\n",
              "      <td>75638367</td>\n",
              "    </tr>\n",
              "    <tr>\n",
              "      <th>4</th>\n",
              "      <td>1998</td>\n",
              "      <td>5</td>\n",
              "      <td>45277969</td>\n",
              "    </tr>\n",
              "    <tr>\n",
              "      <th>...</th>\n",
              "      <td>...</td>\n",
              "      <td>...</td>\n",
              "      <td>...</td>\n",
              "    </tr>\n",
              "    <tr>\n",
              "      <th>205</th>\n",
              "      <td>2015</td>\n",
              "      <td>2</td>\n",
              "      <td>41368700</td>\n",
              "    </tr>\n",
              "    <tr>\n",
              "      <th>206</th>\n",
              "      <td>2015</td>\n",
              "      <td>3</td>\n",
              "      <td>86563546</td>\n",
              "    </tr>\n",
              "    <tr>\n",
              "      <th>207</th>\n",
              "      <td>2016</td>\n",
              "      <td>1</td>\n",
              "      <td>3057485</td>\n",
              "    </tr>\n",
              "    <tr>\n",
              "      <th>208</th>\n",
              "      <td>2016</td>\n",
              "      <td>2</td>\n",
              "      <td>38511703</td>\n",
              "    </tr>\n",
              "    <tr>\n",
              "      <th>209</th>\n",
              "      <td>2017</td>\n",
              "      <td>1</td>\n",
              "      <td>2458100</td>\n",
              "    </tr>\n",
              "  </tbody>\n",
              "</table>\n",
              "<p>210 rows × 3 columns</p>\n",
              "</div>\n",
              "      <button class=\"colab-df-convert\" onclick=\"convertToInteractive('df-d648620c-b361-4205-9566-8e0d98b29c15')\"\n",
              "              title=\"Convert this dataframe to an interactive table.\"\n",
              "              style=\"display:none;\">\n",
              "        \n",
              "  <svg xmlns=\"http://www.w3.org/2000/svg\" height=\"24px\"viewBox=\"0 0 24 24\"\n",
              "       width=\"24px\">\n",
              "    <path d=\"M0 0h24v24H0V0z\" fill=\"none\"/>\n",
              "    <path d=\"M18.56 5.44l.94 2.06.94-2.06 2.06-.94-2.06-.94-.94-2.06-.94 2.06-2.06.94zm-11 1L8.5 8.5l.94-2.06 2.06-.94-2.06-.94L8.5 2.5l-.94 2.06-2.06.94zm10 10l.94 2.06.94-2.06 2.06-.94-2.06-.94-.94-2.06-.94 2.06-2.06.94z\"/><path d=\"M17.41 7.96l-1.37-1.37c-.4-.4-.92-.59-1.43-.59-.52 0-1.04.2-1.43.59L10.3 9.45l-7.72 7.72c-.78.78-.78 2.05 0 2.83L4 21.41c.39.39.9.59 1.41.59.51 0 1.02-.2 1.41-.59l7.78-7.78 2.81-2.81c.8-.78.8-2.07 0-2.86zM5.41 20L4 18.59l7.72-7.72 1.47 1.35L5.41 20z\"/>\n",
              "  </svg>\n",
              "      </button>\n",
              "      \n",
              "  <style>\n",
              "    .colab-df-container {\n",
              "      display:flex;\n",
              "      flex-wrap:wrap;\n",
              "      gap: 12px;\n",
              "    }\n",
              "\n",
              "    .colab-df-convert {\n",
              "      background-color: #E8F0FE;\n",
              "      border: none;\n",
              "      border-radius: 50%;\n",
              "      cursor: pointer;\n",
              "      display: none;\n",
              "      fill: #1967D2;\n",
              "      height: 32px;\n",
              "      padding: 0 0 0 0;\n",
              "      width: 32px;\n",
              "    }\n",
              "\n",
              "    .colab-df-convert:hover {\n",
              "      background-color: #E2EBFA;\n",
              "      box-shadow: 0px 1px 2px rgba(60, 64, 67, 0.3), 0px 1px 3px 1px rgba(60, 64, 67, 0.15);\n",
              "      fill: #174EA6;\n",
              "    }\n",
              "\n",
              "    [theme=dark] .colab-df-convert {\n",
              "      background-color: #3B4455;\n",
              "      fill: #D2E3FC;\n",
              "    }\n",
              "\n",
              "    [theme=dark] .colab-df-convert:hover {\n",
              "      background-color: #434B5C;\n",
              "      box-shadow: 0px 1px 3px 1px rgba(0, 0, 0, 0.15);\n",
              "      filter: drop-shadow(0px 1px 2px rgba(0, 0, 0, 0.3));\n",
              "      fill: #FFFFFF;\n",
              "    }\n",
              "  </style>\n",
              "\n",
              "      <script>\n",
              "        const buttonEl =\n",
              "          document.querySelector('#df-d648620c-b361-4205-9566-8e0d98b29c15 button.colab-df-convert');\n",
              "        buttonEl.style.display =\n",
              "          google.colab.kernel.accessAllowed ? 'block' : 'none';\n",
              "\n",
              "        async function convertToInteractive(key) {\n",
              "          const element = document.querySelector('#df-d648620c-b361-4205-9566-8e0d98b29c15');\n",
              "          const dataTable =\n",
              "            await google.colab.kernel.invokeFunction('convertToInteractive',\n",
              "                                                     [key], {});\n",
              "          if (!dataTable) return;\n",
              "\n",
              "          const docLinkHtml = 'Like what you see? Visit the ' +\n",
              "            '<a target=\"_blank\" href=https://colab.research.google.com/notebooks/data_table.ipynb>data table notebook</a>'\n",
              "            + ' to learn more about interactive tables.';\n",
              "          element.innerHTML = '';\n",
              "          dataTable['output_type'] = 'display_data';\n",
              "          await google.colab.output.renderOutput(dataTable, element);\n",
              "          const docLink = document.createElement('div');\n",
              "          docLink.innerHTML = docLinkHtml;\n",
              "          element.appendChild(docLink);\n",
              "        }\n",
              "      </script>\n",
              "    </div>\n",
              "  </div>\n",
              "  "
            ]
          },
          "metadata": {},
          "execution_count": 30
        }
      ],
      "source": [
        "Sample1_Incr_Aggr = aggregate(Sample1, [\"PaidIncr\"])\n",
        "Sample2_Incr_Aggr = aggregate(Sample2, [\"PaidIncr\"])\n",
        "Sample3_Incr_Aggr = aggregate(Sample3, [\"PaidIncr\"])\n",
        "Sample4_Incr_Aggr = aggregate(Sample4, [\"PaidIncr\"])\n",
        "Sample5_Incr_Aggr = aggregate(Sample5, [\"PaidIncr\"])\n",
        "\n",
        "Sample1_Incr_Aggr"
      ]
    },
    {
      "cell_type": "markdown",
      "metadata": {
        "id": "9bQan8wUJUbX"
      },
      "source": [
        "* We are now ready to build the **GLM model** where we use the **claim amounts as response variable**. The **explanatory variables of the GLM are the accident and development year**. We treat both variables as **a categorical variable** in the model, such that we obtain **a parameter for each accident year** and **a parameter for each development year**. A GLM can be obtained in Python by the package `statsmodels.api`. First we start with stating the formula of the model, where the function `formula.glm` needs the following input components:    "
      ]
    },
    {
      "cell_type": "markdown",
      "metadata": {
        "id": "-cpqCPJrJUbX"
      },
      "source": [
        "* The first input is the formula itself.\n",
        "\n",
        "    * We start with the response variable, which in our case equals the incremental claim amounts `Paid`.\n",
        "    \n",
        "    * After the symbol `~`, we summarize the explanatory variables `Acc` and `Dev`. In case we do not want to add an intercept to the model, we can add a `0` to the model formula. Furthermore, a numeric variable is automatically treated as a continuous explanatory variable, which means that we will only estimate one parameter explaining the effect on the response variable. In case we want to estimate a parameter for each year, we transform the variable into a categorical category with the `C( )` statement.\n",
        "    \n",
        "* A second input is the dataset that you want to use for building the GLM by the `data= ` statement.\n",
        "    \n",
        "* In the (optional) parameter `family`, we can specify the distribution that we want to use. Some options are Normal, Gamma and Tweedie. A complete list can be found by the command `statsmodels.api.families` or `sm.families`.\n",
        "\n",
        "    * For each of the families, a default link function exists in the package. However, in case we want to choose another one, this can be specified between the brackets after the chosen family name. A list of available link functions for a given family, can be obtained by `statsmodels.api.families.family.<familyname>.links` or `sm.families.family.<familyname>.links`. "
      ]
    },
    {
      "cell_type": "code",
      "execution_count": 31,
      "metadata": {
        "ExecuteTime": {
          "end_time": "2019-10-08T08:15:15.737884Z",
          "start_time": "2019-10-08T08:15:15.708845Z"
        },
        "code_folding": [],
        "scrolled": true,
        "colab": {
          "base_uri": "https://localhost:8080/"
        },
        "id": "gv9pGupqJUbX",
        "outputId": "1905b479-c5df-4944-c493-c6b523cd1c35"
      },
      "outputs": [
        {
          "output_type": "stream",
          "name": "stdout",
          "text": [
            "<statsmodels.genmod.families.family.Gamma object at 0x7f1fcebfca10>\n",
            "PaidIncr ~ 0 + C(Acc) + C(Dev)\n"
          ]
        }
      ],
      "source": [
        "S1_formula = sm.formula.glm(formula=\"PaidIncr ~ 0 + C(Acc) + C(Dev)\"\n",
        "                            ,data=Sample1_Incr_Aggr\n",
        "                            ,family=sm.families.Gamma(link=sm.families.links.log)\n",
        "    )\n",
        "\n",
        "\n",
        "print(S1_formula.family)\n",
        "print(S1_formula.formula)"
      ]
    },
    {
      "cell_type": "markdown",
      "metadata": {
        "id": "Ath-kQClJUbX"
      },
      "source": [
        "* Once we have stated the GLM formula, we can fit the parameter estimates by using the `fit()` attribute. Remember that with the `dir()` function, one can explore the attributes that are available for a specific object. "
      ]
    },
    {
      "cell_type": "code",
      "execution_count": 32,
      "metadata": {
        "ExecuteTime": {
          "end_time": "2019-10-08T08:15:15.854899Z",
          "start_time": "2019-10-08T08:15:15.738843Z"
        },
        "colab": {
          "base_uri": "https://localhost:8080/"
        },
        "id": "CeGOgb7cJUbY",
        "outputId": "e35c97ee-eb7f-4610-b9c3-03d9bb0e578f"
      },
      "outputs": [
        {
          "output_type": "stream",
          "name": "stdout",
          "text": [
            "                 Generalized Linear Model Regression Results                  \n",
            "==============================================================================\n",
            "Dep. Variable:               PaidIncr   No. Observations:                  210\n",
            "Model:                            GLM   Df Residuals:                      171\n",
            "Model Family:                   Gamma   Df Model:                           38\n",
            "Link Function:                    log   Scale:                         0.38743\n",
            "Method:                          IRLS   Log-Likelihood:                    inf\n",
            "Date:                Wed, 16 Nov 2022   Deviance:                       1089.1\n",
            "Time:                        07:38:33   Pearson chi2:                     66.3\n",
            "No. Iterations:                   100                                         \n",
            "Covariance Type:            nonrobust                                         \n",
            "================================================================================\n",
            "                   coef    std err          z      P>|z|      [0.025      0.975]\n",
            "--------------------------------------------------------------------------------\n",
            "C(Acc)[1998]    14.7140      0.183     80.600      0.000      14.356      15.072\n",
            "C(Acc)[1999]    14.6785      0.183     80.406      0.000      14.321      15.036\n",
            "C(Acc)[2000]    15.4115      0.210     73.463      0.000      15.000      15.823\n",
            "C(Acc)[2001]    14.5315      0.212     68.613      0.000      14.116      14.947\n",
            "C(Acc)[2002]    14.9830      0.214     69.917      0.000      14.563      15.403\n",
            "C(Acc)[2003]    14.9175      0.217     68.653      0.000      14.492      15.343\n",
            "C(Acc)[2004]    15.0300      0.221     68.072      0.000      14.597      15.463\n",
            "C(Acc)[2005]    14.9819      0.225     66.618      0.000      14.541      15.423\n",
            "C(Acc)[2006]    14.9474      0.230     65.082      0.000      14.497      15.398\n",
            "C(Acc)[2007]    14.8866      0.235     63.271      0.000      14.425      15.348\n",
            "C(Acc)[2008]    14.8236      0.242     61.273      0.000      14.349      15.298\n",
            "C(Acc)[2009]    14.8861      0.250     59.572      0.000      14.396      15.376\n",
            "C(Acc)[2010]    14.9054      0.260     57.424      0.000      14.397      15.414\n",
            "C(Acc)[2011]    14.9598      0.272     55.082      0.000      14.427      15.492\n",
            "C(Acc)[2012]    14.9587      0.287     52.135      0.000      14.396      15.521\n",
            "C(Acc)[2013]    14.9321      0.307     48.605      0.000      14.330      15.534\n",
            "C(Acc)[2014]    14.7848      0.335     44.072      0.000      14.127      15.442\n",
            "C(Acc)[2015]    14.8474      0.378     39.273      0.000      14.106      15.588\n",
            "C(Acc)[2016]    14.8350      0.452     32.852      0.000      13.950      15.720\n",
            "C(Acc)[2017]    14.7149      0.622     23.641      0.000      13.495      15.935\n",
            "C(Dev)[T.2]      2.7403      0.202     13.570      0.000       2.345       3.136\n",
            "C(Dev)[T.3]      3.3485      0.206     16.246      0.000       2.945       3.753\n",
            "C(Dev)[T.4]      3.1974      0.210     15.214      0.000       2.785       3.609\n",
            "C(Dev)[T.5]      2.7866      0.214     13.000      0.000       2.366       3.207\n",
            "C(Dev)[T.6]      2.2229      0.219     10.158      0.000       1.794       2.652\n",
            "C(Dev)[T.7]      1.5016      0.224      6.712      0.000       1.063       1.940\n",
            "C(Dev)[T.8]      0.6152      0.229      2.686      0.007       0.166       1.064\n",
            "C(Dev)[T.9]     -0.0766      0.235     -0.326      0.745      -0.537       0.384\n",
            "C(Dev)[T.10]    -0.9237      0.242     -3.818      0.000      -1.398      -0.450\n",
            "C(Dev)[T.11]    -1.7475      0.250     -6.995      0.000      -2.237      -1.258\n",
            "C(Dev)[T.12]    -2.4108      0.259     -9.307      0.000      -2.918      -1.903\n",
            "C(Dev)[T.13]    -3.3659      0.270    -12.464      0.000      -3.895      -2.837\n",
            "C(Dev)[T.14]    -5.1360      0.284    -18.116      0.000      -5.692      -4.580\n",
            "C(Dev)[T.15]    -4.2336      0.300    -14.092      0.000      -4.822      -3.645\n",
            "C(Dev)[T.16]    -9.1732      0.323    -28.440      0.000      -9.805      -8.541\n",
            "C(Dev)[T.17]    -5.4686      0.353    -15.491      0.000      -6.160      -4.777\n",
            "C(Dev)[T.18]    -8.4216      0.399    -21.133      0.000      -9.203      -7.641\n",
            "C(Dev)[T.19]   -54.6643      0.183   -299.438      0.000     -55.022     -54.307\n",
            "C(Dev)[T.20]   -54.6827      0.183   -298.837      0.000     -55.041     -54.324\n",
            "================================================================================\n"
          ]
        }
      ],
      "source": [
        "S1_model = S1_formula.fit()\n",
        "print(S1_model.summary())"
      ]
    },
    {
      "cell_type": "markdown",
      "metadata": {
        "id": "J3Ysz398JUbY"
      },
      "source": [
        "* In the previous model summary, we can observe a parameter estimate $\\hat{\\alpha}_i$ for each accident year and a $\\hat{\\beta}_j$ for each development year. This is an extension of the Chain Ladder algorithm, where we only obtained an estimate (i.e. development factor) for each development year. In our GLM model, we can now obtain an estimation of the paid claim amounts by multiplying both estimates. However, remember that we used the log link in our GLM modelization. Therefore, we have\n",
        "\n",
        "$$\\begin{equation*} \\hat{Y}_{i,j} = \\text{exp} \\bigl(\\hat{\\alpha}_{i,j} \\bigr) \\ \\text{exp} \\bigl( \\hat{\\beta}_{i,j} \\bigr) \\ \\ \\ \\ \\text{      for } \\ \\ i,j=1,\\ldots,n. \\end{equation*}$$\n"
      ]
    },
    {
      "cell_type": "markdown",
      "metadata": {
        "id": "9GDaGjOtJUbY"
      },
      "source": [
        "* In order to predict the unobserved cells of the triangle, we multiply the vector of exponentials of $\\alpha$ with the vector of exponentials of $\\beta$. Remember that the first $\\beta$ equals 0."
      ]
    },
    {
      "cell_type": "code",
      "execution_count": 33,
      "metadata": {
        "ExecuteTime": {
          "end_time": "2019-10-08T08:15:15.876843Z",
          "start_time": "2019-10-08T08:15:15.856841Z"
        },
        "colab": {
          "base_uri": "https://localhost:8080/",
          "height": 741
        },
        "id": "Tfvq_2ZfJUbY",
        "outputId": "e5e4ca3c-6fb2-42a4-9cf3-de186d696892"
      },
      "outputs": [
        {
          "output_type": "execute_result",
          "data": {
            "text/plain": [
              "         0         1          2          3         4         5         6   \\\n",
              "0   2455797  38045835   69894982   60090370  39848655  22676725  11023291   \n",
              "1   2370199  36719721   67458744   57995879  38459703  21886312  10639067   \n",
              "2   4933266  76427404  140406748  120711004  80048953  45553559  22143858   \n",
              "3   2046117  31698957   58234969   50065981  33201027  18893750   9184365   \n",
              "4   3213788  49788816   91468314   78637474  52148083  29675975  14425669   \n",
              "5   3010143  46633891   85672319   73654520  48843660  27795523  13511570   \n",
              "6   3368675  52188368   95876593   82427376  54661339  31106197  15120909   \n",
              "7   3210278  49734430   91368400   78551576  52091120  29643559  14409912   \n",
              "8   3101472  48048795   88271675   75889248  50325609  28638858  13921520   \n",
              "9   2918460  45213524   83062928   71411165  47355989  26948932  13100037   \n",
              "10  2740318  42453692   77992769   67052230  44465381  25303970  12300411   \n",
              "11  2917164  45193445   83026039   71379450  47334957  26936964  13094219   \n",
              "12  2973836  46071415   84638981   72766135  48254531  27460267  13348600   \n",
              "13  3140065  48646683   89370071   76833565  50951829  28995221  14094751   \n",
              "14  3136874  48597246   89279249   76755483  50900049  28965755  14080427   \n",
              "15  3054522  47321432   86935418   74740437  49563780  28205323  13710776   \n",
              "16  2635939  40836629   75022021   64498207  42771692  24340141  11831888   \n",
              "17  2806454  43478294   79875091   68670506  45538533  25914671  12597276   \n",
              "18  2771677  42939519   78885294   67819554  44974228  25593541  12441173   \n",
              "19  2458099  38081500   69960502   60146699  39886010  22697982  11033625   \n",
              "\n",
              "         7        8        9       10      11      12     13     14   15  \\\n",
              "0   4543241  2274701   975091  427822  220402   84797  14442  35607  254   \n",
              "1   4384883  2195415   941104  412910  212719   81841  13939  34366  245   \n",
              "2   9126574  4569476  1958787  859419  442749  170342  29012  71529  511   \n",
              "3   3785329  1895231   812424  356452  183634   70651  12033  29667  212   \n",
              "4   5945528  2976796  1276056  559870  288429  110970  18900  46598  333   \n",
              "5   5568783  2788168  1195198  524394  270153  103938  17702  43645  312   \n",
              "6   6232071  3120262  1337556  586853  302330  116318  19811  48844  349   \n",
              "7   5939034  2973544  1274663  559259  288114  110849  18879  46547  333   \n",
              "8   5737744  2872763  1231461  540304  278349  107092  18239  44969  321   \n",
              "9   5399170  2703246  1158795  508422  261924  100772  17163  42316  302   \n",
              "10  5069605  2538240  1088062  477388  245937   94621  16115  39733  284   \n",
              "11  5396772  2702046  1158280  508196  261808  100728  17156  42297  302   \n",
              "12  5501615  2754538  1180782  518069  266894  102684  17489  43119  308   \n",
              "13  5809141  2908510  1246784  547027  281813  108424  18466  45529  325   \n",
              "14  5803237  2905554  1245517  546471  281527  108314  18448  45483  325   \n",
              "15  5650886  2829275  1212819  532125  274136  105470  17963  44289  317   \n",
              "16  4876503  2441559  1046617  459204  236569   91017  15502  38219  273   \n",
              "17  5191958  2599500  1114322  488909  251872   96905  16504  40692  291   \n",
              "18  5127620  2567287  1100513  482851  248751   95704  16300  40187  287   \n",
              "19  4547500  2276834   976005  428223  220608   84876  14456  35641  255   \n",
              "\n",
              "       16    17  18  19  \n",
              "0   10356   540   0   0  \n",
              "1    9995   521   0   0  \n",
              "2   20804  1085   0   0  \n",
              "3    8628   450   0   0  \n",
              "4   13553   707   0   0  \n",
              "5   12694   662   0   0  \n",
              "6   14206   741   0   0  \n",
              "7   13538   706   0   0  \n",
              "8   13079   682   0   0  \n",
              "9   12307   642   0   0  \n",
              "10  11556   603   0   0  \n",
              "11  12302   641   0   0  \n",
              "12  12541   654   0   0  \n",
              "13  13242   691   0   0  \n",
              "14  13228   690   0   0  \n",
              "15  12881   672   0   0  \n",
              "16  11116   580   0   0  \n",
              "17  11835   617   0   0  \n",
              "18  11688   609   0   0  \n",
              "19  10366   540   0   0  "
            ],
            "text/html": [
              "\n",
              "  <div id=\"df-86c1006d-e840-4468-9802-646d2e63b40b\">\n",
              "    <div class=\"colab-df-container\">\n",
              "      <div>\n",
              "<style scoped>\n",
              "    .dataframe tbody tr th:only-of-type {\n",
              "        vertical-align: middle;\n",
              "    }\n",
              "\n",
              "    .dataframe tbody tr th {\n",
              "        vertical-align: top;\n",
              "    }\n",
              "\n",
              "    .dataframe thead th {\n",
              "        text-align: right;\n",
              "    }\n",
              "</style>\n",
              "<table border=\"1\" class=\"dataframe\">\n",
              "  <thead>\n",
              "    <tr style=\"text-align: right;\">\n",
              "      <th></th>\n",
              "      <th>0</th>\n",
              "      <th>1</th>\n",
              "      <th>2</th>\n",
              "      <th>3</th>\n",
              "      <th>4</th>\n",
              "      <th>5</th>\n",
              "      <th>6</th>\n",
              "      <th>7</th>\n",
              "      <th>8</th>\n",
              "      <th>9</th>\n",
              "      <th>10</th>\n",
              "      <th>11</th>\n",
              "      <th>12</th>\n",
              "      <th>13</th>\n",
              "      <th>14</th>\n",
              "      <th>15</th>\n",
              "      <th>16</th>\n",
              "      <th>17</th>\n",
              "      <th>18</th>\n",
              "      <th>19</th>\n",
              "    </tr>\n",
              "  </thead>\n",
              "  <tbody>\n",
              "    <tr>\n",
              "      <th>0</th>\n",
              "      <td>2455797</td>\n",
              "      <td>38045835</td>\n",
              "      <td>69894982</td>\n",
              "      <td>60090370</td>\n",
              "      <td>39848655</td>\n",
              "      <td>22676725</td>\n",
              "      <td>11023291</td>\n",
              "      <td>4543241</td>\n",
              "      <td>2274701</td>\n",
              "      <td>975091</td>\n",
              "      <td>427822</td>\n",
              "      <td>220402</td>\n",
              "      <td>84797</td>\n",
              "      <td>14442</td>\n",
              "      <td>35607</td>\n",
              "      <td>254</td>\n",
              "      <td>10356</td>\n",
              "      <td>540</td>\n",
              "      <td>0</td>\n",
              "      <td>0</td>\n",
              "    </tr>\n",
              "    <tr>\n",
              "      <th>1</th>\n",
              "      <td>2370199</td>\n",
              "      <td>36719721</td>\n",
              "      <td>67458744</td>\n",
              "      <td>57995879</td>\n",
              "      <td>38459703</td>\n",
              "      <td>21886312</td>\n",
              "      <td>10639067</td>\n",
              "      <td>4384883</td>\n",
              "      <td>2195415</td>\n",
              "      <td>941104</td>\n",
              "      <td>412910</td>\n",
              "      <td>212719</td>\n",
              "      <td>81841</td>\n",
              "      <td>13939</td>\n",
              "      <td>34366</td>\n",
              "      <td>245</td>\n",
              "      <td>9995</td>\n",
              "      <td>521</td>\n",
              "      <td>0</td>\n",
              "      <td>0</td>\n",
              "    </tr>\n",
              "    <tr>\n",
              "      <th>2</th>\n",
              "      <td>4933266</td>\n",
              "      <td>76427404</td>\n",
              "      <td>140406748</td>\n",
              "      <td>120711004</td>\n",
              "      <td>80048953</td>\n",
              "      <td>45553559</td>\n",
              "      <td>22143858</td>\n",
              "      <td>9126574</td>\n",
              "      <td>4569476</td>\n",
              "      <td>1958787</td>\n",
              "      <td>859419</td>\n",
              "      <td>442749</td>\n",
              "      <td>170342</td>\n",
              "      <td>29012</td>\n",
              "      <td>71529</td>\n",
              "      <td>511</td>\n",
              "      <td>20804</td>\n",
              "      <td>1085</td>\n",
              "      <td>0</td>\n",
              "      <td>0</td>\n",
              "    </tr>\n",
              "    <tr>\n",
              "      <th>3</th>\n",
              "      <td>2046117</td>\n",
              "      <td>31698957</td>\n",
              "      <td>58234969</td>\n",
              "      <td>50065981</td>\n",
              "      <td>33201027</td>\n",
              "      <td>18893750</td>\n",
              "      <td>9184365</td>\n",
              "      <td>3785329</td>\n",
              "      <td>1895231</td>\n",
              "      <td>812424</td>\n",
              "      <td>356452</td>\n",
              "      <td>183634</td>\n",
              "      <td>70651</td>\n",
              "      <td>12033</td>\n",
              "      <td>29667</td>\n",
              "      <td>212</td>\n",
              "      <td>8628</td>\n",
              "      <td>450</td>\n",
              "      <td>0</td>\n",
              "      <td>0</td>\n",
              "    </tr>\n",
              "    <tr>\n",
              "      <th>4</th>\n",
              "      <td>3213788</td>\n",
              "      <td>49788816</td>\n",
              "      <td>91468314</td>\n",
              "      <td>78637474</td>\n",
              "      <td>52148083</td>\n",
              "      <td>29675975</td>\n",
              "      <td>14425669</td>\n",
              "      <td>5945528</td>\n",
              "      <td>2976796</td>\n",
              "      <td>1276056</td>\n",
              "      <td>559870</td>\n",
              "      <td>288429</td>\n",
              "      <td>110970</td>\n",
              "      <td>18900</td>\n",
              "      <td>46598</td>\n",
              "      <td>333</td>\n",
              "      <td>13553</td>\n",
              "      <td>707</td>\n",
              "      <td>0</td>\n",
              "      <td>0</td>\n",
              "    </tr>\n",
              "    <tr>\n",
              "      <th>5</th>\n",
              "      <td>3010143</td>\n",
              "      <td>46633891</td>\n",
              "      <td>85672319</td>\n",
              "      <td>73654520</td>\n",
              "      <td>48843660</td>\n",
              "      <td>27795523</td>\n",
              "      <td>13511570</td>\n",
              "      <td>5568783</td>\n",
              "      <td>2788168</td>\n",
              "      <td>1195198</td>\n",
              "      <td>524394</td>\n",
              "      <td>270153</td>\n",
              "      <td>103938</td>\n",
              "      <td>17702</td>\n",
              "      <td>43645</td>\n",
              "      <td>312</td>\n",
              "      <td>12694</td>\n",
              "      <td>662</td>\n",
              "      <td>0</td>\n",
              "      <td>0</td>\n",
              "    </tr>\n",
              "    <tr>\n",
              "      <th>6</th>\n",
              "      <td>3368675</td>\n",
              "      <td>52188368</td>\n",
              "      <td>95876593</td>\n",
              "      <td>82427376</td>\n",
              "      <td>54661339</td>\n",
              "      <td>31106197</td>\n",
              "      <td>15120909</td>\n",
              "      <td>6232071</td>\n",
              "      <td>3120262</td>\n",
              "      <td>1337556</td>\n",
              "      <td>586853</td>\n",
              "      <td>302330</td>\n",
              "      <td>116318</td>\n",
              "      <td>19811</td>\n",
              "      <td>48844</td>\n",
              "      <td>349</td>\n",
              "      <td>14206</td>\n",
              "      <td>741</td>\n",
              "      <td>0</td>\n",
              "      <td>0</td>\n",
              "    </tr>\n",
              "    <tr>\n",
              "      <th>7</th>\n",
              "      <td>3210278</td>\n",
              "      <td>49734430</td>\n",
              "      <td>91368400</td>\n",
              "      <td>78551576</td>\n",
              "      <td>52091120</td>\n",
              "      <td>29643559</td>\n",
              "      <td>14409912</td>\n",
              "      <td>5939034</td>\n",
              "      <td>2973544</td>\n",
              "      <td>1274663</td>\n",
              "      <td>559259</td>\n",
              "      <td>288114</td>\n",
              "      <td>110849</td>\n",
              "      <td>18879</td>\n",
              "      <td>46547</td>\n",
              "      <td>333</td>\n",
              "      <td>13538</td>\n",
              "      <td>706</td>\n",
              "      <td>0</td>\n",
              "      <td>0</td>\n",
              "    </tr>\n",
              "    <tr>\n",
              "      <th>8</th>\n",
              "      <td>3101472</td>\n",
              "      <td>48048795</td>\n",
              "      <td>88271675</td>\n",
              "      <td>75889248</td>\n",
              "      <td>50325609</td>\n",
              "      <td>28638858</td>\n",
              "      <td>13921520</td>\n",
              "      <td>5737744</td>\n",
              "      <td>2872763</td>\n",
              "      <td>1231461</td>\n",
              "      <td>540304</td>\n",
              "      <td>278349</td>\n",
              "      <td>107092</td>\n",
              "      <td>18239</td>\n",
              "      <td>44969</td>\n",
              "      <td>321</td>\n",
              "      <td>13079</td>\n",
              "      <td>682</td>\n",
              "      <td>0</td>\n",
              "      <td>0</td>\n",
              "    </tr>\n",
              "    <tr>\n",
              "      <th>9</th>\n",
              "      <td>2918460</td>\n",
              "      <td>45213524</td>\n",
              "      <td>83062928</td>\n",
              "      <td>71411165</td>\n",
              "      <td>47355989</td>\n",
              "      <td>26948932</td>\n",
              "      <td>13100037</td>\n",
              "      <td>5399170</td>\n",
              "      <td>2703246</td>\n",
              "      <td>1158795</td>\n",
              "      <td>508422</td>\n",
              "      <td>261924</td>\n",
              "      <td>100772</td>\n",
              "      <td>17163</td>\n",
              "      <td>42316</td>\n",
              "      <td>302</td>\n",
              "      <td>12307</td>\n",
              "      <td>642</td>\n",
              "      <td>0</td>\n",
              "      <td>0</td>\n",
              "    </tr>\n",
              "    <tr>\n",
              "      <th>10</th>\n",
              "      <td>2740318</td>\n",
              "      <td>42453692</td>\n",
              "      <td>77992769</td>\n",
              "      <td>67052230</td>\n",
              "      <td>44465381</td>\n",
              "      <td>25303970</td>\n",
              "      <td>12300411</td>\n",
              "      <td>5069605</td>\n",
              "      <td>2538240</td>\n",
              "      <td>1088062</td>\n",
              "      <td>477388</td>\n",
              "      <td>245937</td>\n",
              "      <td>94621</td>\n",
              "      <td>16115</td>\n",
              "      <td>39733</td>\n",
              "      <td>284</td>\n",
              "      <td>11556</td>\n",
              "      <td>603</td>\n",
              "      <td>0</td>\n",
              "      <td>0</td>\n",
              "    </tr>\n",
              "    <tr>\n",
              "      <th>11</th>\n",
              "      <td>2917164</td>\n",
              "      <td>45193445</td>\n",
              "      <td>83026039</td>\n",
              "      <td>71379450</td>\n",
              "      <td>47334957</td>\n",
              "      <td>26936964</td>\n",
              "      <td>13094219</td>\n",
              "      <td>5396772</td>\n",
              "      <td>2702046</td>\n",
              "      <td>1158280</td>\n",
              "      <td>508196</td>\n",
              "      <td>261808</td>\n",
              "      <td>100728</td>\n",
              "      <td>17156</td>\n",
              "      <td>42297</td>\n",
              "      <td>302</td>\n",
              "      <td>12302</td>\n",
              "      <td>641</td>\n",
              "      <td>0</td>\n",
              "      <td>0</td>\n",
              "    </tr>\n",
              "    <tr>\n",
              "      <th>12</th>\n",
              "      <td>2973836</td>\n",
              "      <td>46071415</td>\n",
              "      <td>84638981</td>\n",
              "      <td>72766135</td>\n",
              "      <td>48254531</td>\n",
              "      <td>27460267</td>\n",
              "      <td>13348600</td>\n",
              "      <td>5501615</td>\n",
              "      <td>2754538</td>\n",
              "      <td>1180782</td>\n",
              "      <td>518069</td>\n",
              "      <td>266894</td>\n",
              "      <td>102684</td>\n",
              "      <td>17489</td>\n",
              "      <td>43119</td>\n",
              "      <td>308</td>\n",
              "      <td>12541</td>\n",
              "      <td>654</td>\n",
              "      <td>0</td>\n",
              "      <td>0</td>\n",
              "    </tr>\n",
              "    <tr>\n",
              "      <th>13</th>\n",
              "      <td>3140065</td>\n",
              "      <td>48646683</td>\n",
              "      <td>89370071</td>\n",
              "      <td>76833565</td>\n",
              "      <td>50951829</td>\n",
              "      <td>28995221</td>\n",
              "      <td>14094751</td>\n",
              "      <td>5809141</td>\n",
              "      <td>2908510</td>\n",
              "      <td>1246784</td>\n",
              "      <td>547027</td>\n",
              "      <td>281813</td>\n",
              "      <td>108424</td>\n",
              "      <td>18466</td>\n",
              "      <td>45529</td>\n",
              "      <td>325</td>\n",
              "      <td>13242</td>\n",
              "      <td>691</td>\n",
              "      <td>0</td>\n",
              "      <td>0</td>\n",
              "    </tr>\n",
              "    <tr>\n",
              "      <th>14</th>\n",
              "      <td>3136874</td>\n",
              "      <td>48597246</td>\n",
              "      <td>89279249</td>\n",
              "      <td>76755483</td>\n",
              "      <td>50900049</td>\n",
              "      <td>28965755</td>\n",
              "      <td>14080427</td>\n",
              "      <td>5803237</td>\n",
              "      <td>2905554</td>\n",
              "      <td>1245517</td>\n",
              "      <td>546471</td>\n",
              "      <td>281527</td>\n",
              "      <td>108314</td>\n",
              "      <td>18448</td>\n",
              "      <td>45483</td>\n",
              "      <td>325</td>\n",
              "      <td>13228</td>\n",
              "      <td>690</td>\n",
              "      <td>0</td>\n",
              "      <td>0</td>\n",
              "    </tr>\n",
              "    <tr>\n",
              "      <th>15</th>\n",
              "      <td>3054522</td>\n",
              "      <td>47321432</td>\n",
              "      <td>86935418</td>\n",
              "      <td>74740437</td>\n",
              "      <td>49563780</td>\n",
              "      <td>28205323</td>\n",
              "      <td>13710776</td>\n",
              "      <td>5650886</td>\n",
              "      <td>2829275</td>\n",
              "      <td>1212819</td>\n",
              "      <td>532125</td>\n",
              "      <td>274136</td>\n",
              "      <td>105470</td>\n",
              "      <td>17963</td>\n",
              "      <td>44289</td>\n",
              "      <td>317</td>\n",
              "      <td>12881</td>\n",
              "      <td>672</td>\n",
              "      <td>0</td>\n",
              "      <td>0</td>\n",
              "    </tr>\n",
              "    <tr>\n",
              "      <th>16</th>\n",
              "      <td>2635939</td>\n",
              "      <td>40836629</td>\n",
              "      <td>75022021</td>\n",
              "      <td>64498207</td>\n",
              "      <td>42771692</td>\n",
              "      <td>24340141</td>\n",
              "      <td>11831888</td>\n",
              "      <td>4876503</td>\n",
              "      <td>2441559</td>\n",
              "      <td>1046617</td>\n",
              "      <td>459204</td>\n",
              "      <td>236569</td>\n",
              "      <td>91017</td>\n",
              "      <td>15502</td>\n",
              "      <td>38219</td>\n",
              "      <td>273</td>\n",
              "      <td>11116</td>\n",
              "      <td>580</td>\n",
              "      <td>0</td>\n",
              "      <td>0</td>\n",
              "    </tr>\n",
              "    <tr>\n",
              "      <th>17</th>\n",
              "      <td>2806454</td>\n",
              "      <td>43478294</td>\n",
              "      <td>79875091</td>\n",
              "      <td>68670506</td>\n",
              "      <td>45538533</td>\n",
              "      <td>25914671</td>\n",
              "      <td>12597276</td>\n",
              "      <td>5191958</td>\n",
              "      <td>2599500</td>\n",
              "      <td>1114322</td>\n",
              "      <td>488909</td>\n",
              "      <td>251872</td>\n",
              "      <td>96905</td>\n",
              "      <td>16504</td>\n",
              "      <td>40692</td>\n",
              "      <td>291</td>\n",
              "      <td>11835</td>\n",
              "      <td>617</td>\n",
              "      <td>0</td>\n",
              "      <td>0</td>\n",
              "    </tr>\n",
              "    <tr>\n",
              "      <th>18</th>\n",
              "      <td>2771677</td>\n",
              "      <td>42939519</td>\n",
              "      <td>78885294</td>\n",
              "      <td>67819554</td>\n",
              "      <td>44974228</td>\n",
              "      <td>25593541</td>\n",
              "      <td>12441173</td>\n",
              "      <td>5127620</td>\n",
              "      <td>2567287</td>\n",
              "      <td>1100513</td>\n",
              "      <td>482851</td>\n",
              "      <td>248751</td>\n",
              "      <td>95704</td>\n",
              "      <td>16300</td>\n",
              "      <td>40187</td>\n",
              "      <td>287</td>\n",
              "      <td>11688</td>\n",
              "      <td>609</td>\n",
              "      <td>0</td>\n",
              "      <td>0</td>\n",
              "    </tr>\n",
              "    <tr>\n",
              "      <th>19</th>\n",
              "      <td>2458099</td>\n",
              "      <td>38081500</td>\n",
              "      <td>69960502</td>\n",
              "      <td>60146699</td>\n",
              "      <td>39886010</td>\n",
              "      <td>22697982</td>\n",
              "      <td>11033625</td>\n",
              "      <td>4547500</td>\n",
              "      <td>2276834</td>\n",
              "      <td>976005</td>\n",
              "      <td>428223</td>\n",
              "      <td>220608</td>\n",
              "      <td>84876</td>\n",
              "      <td>14456</td>\n",
              "      <td>35641</td>\n",
              "      <td>255</td>\n",
              "      <td>10366</td>\n",
              "      <td>540</td>\n",
              "      <td>0</td>\n",
              "      <td>0</td>\n",
              "    </tr>\n",
              "  </tbody>\n",
              "</table>\n",
              "</div>\n",
              "      <button class=\"colab-df-convert\" onclick=\"convertToInteractive('df-86c1006d-e840-4468-9802-646d2e63b40b')\"\n",
              "              title=\"Convert this dataframe to an interactive table.\"\n",
              "              style=\"display:none;\">\n",
              "        \n",
              "  <svg xmlns=\"http://www.w3.org/2000/svg\" height=\"24px\"viewBox=\"0 0 24 24\"\n",
              "       width=\"24px\">\n",
              "    <path d=\"M0 0h24v24H0V0z\" fill=\"none\"/>\n",
              "    <path d=\"M18.56 5.44l.94 2.06.94-2.06 2.06-.94-2.06-.94-.94-2.06-.94 2.06-2.06.94zm-11 1L8.5 8.5l.94-2.06 2.06-.94-2.06-.94L8.5 2.5l-.94 2.06-2.06.94zm10 10l.94 2.06.94-2.06 2.06-.94-2.06-.94-.94-2.06-.94 2.06-2.06.94z\"/><path d=\"M17.41 7.96l-1.37-1.37c-.4-.4-.92-.59-1.43-.59-.52 0-1.04.2-1.43.59L10.3 9.45l-7.72 7.72c-.78.78-.78 2.05 0 2.83L4 21.41c.39.39.9.59 1.41.59.51 0 1.02-.2 1.41-.59l7.78-7.78 2.81-2.81c.8-.78.8-2.07 0-2.86zM5.41 20L4 18.59l7.72-7.72 1.47 1.35L5.41 20z\"/>\n",
              "  </svg>\n",
              "      </button>\n",
              "      \n",
              "  <style>\n",
              "    .colab-df-container {\n",
              "      display:flex;\n",
              "      flex-wrap:wrap;\n",
              "      gap: 12px;\n",
              "    }\n",
              "\n",
              "    .colab-df-convert {\n",
              "      background-color: #E8F0FE;\n",
              "      border: none;\n",
              "      border-radius: 50%;\n",
              "      cursor: pointer;\n",
              "      display: none;\n",
              "      fill: #1967D2;\n",
              "      height: 32px;\n",
              "      padding: 0 0 0 0;\n",
              "      width: 32px;\n",
              "    }\n",
              "\n",
              "    .colab-df-convert:hover {\n",
              "      background-color: #E2EBFA;\n",
              "      box-shadow: 0px 1px 2px rgba(60, 64, 67, 0.3), 0px 1px 3px 1px rgba(60, 64, 67, 0.15);\n",
              "      fill: #174EA6;\n",
              "    }\n",
              "\n",
              "    [theme=dark] .colab-df-convert {\n",
              "      background-color: #3B4455;\n",
              "      fill: #D2E3FC;\n",
              "    }\n",
              "\n",
              "    [theme=dark] .colab-df-convert:hover {\n",
              "      background-color: #434B5C;\n",
              "      box-shadow: 0px 1px 3px 1px rgba(0, 0, 0, 0.15);\n",
              "      filter: drop-shadow(0px 1px 2px rgba(0, 0, 0, 0.3));\n",
              "      fill: #FFFFFF;\n",
              "    }\n",
              "  </style>\n",
              "\n",
              "      <script>\n",
              "        const buttonEl =\n",
              "          document.querySelector('#df-86c1006d-e840-4468-9802-646d2e63b40b button.colab-df-convert');\n",
              "        buttonEl.style.display =\n",
              "          google.colab.kernel.accessAllowed ? 'block' : 'none';\n",
              "\n",
              "        async function convertToInteractive(key) {\n",
              "          const element = document.querySelector('#df-86c1006d-e840-4468-9802-646d2e63b40b');\n",
              "          const dataTable =\n",
              "            await google.colab.kernel.invokeFunction('convertToInteractive',\n",
              "                                                     [key], {});\n",
              "          if (!dataTable) return;\n",
              "\n",
              "          const docLinkHtml = 'Like what you see? Visit the ' +\n",
              "            '<a target=\"_blank\" href=https://colab.research.google.com/notebooks/data_table.ipynb>data table notebook</a>'\n",
              "            + ' to learn more about interactive tables.';\n",
              "          element.innerHTML = '';\n",
              "          dataTable['output_type'] = 'display_data';\n",
              "          await google.colab.output.renderOutput(dataTable, element);\n",
              "          const docLink = document.createElement('div');\n",
              "          docLink.innerHTML = docLinkHtml;\n",
              "          element.appendChild(docLink);\n",
              "        }\n",
              "      </script>\n",
              "    </div>\n",
              "  </div>\n",
              "  "
            ]
          },
          "metadata": {},
          "execution_count": 33
        }
      ],
      "source": [
        "alpha_S1 = np.matrix(np.exp(S1_model.params[0:20])).transpose()\n",
        "beta_S1 = np.matrix(np.exp([0]+list(S1_model.params[20:40])))\n",
        "\n",
        "Predictions_S1 = pd.DataFrame(np.matmul(alpha_S1,beta_S1))\n",
        "Predictions_S1.astype(int)"
      ]
    },
    {
      "cell_type": "markdown",
      "metadata": {
        "id": "PQcLB5FQJUbY"
      },
      "source": [
        "* The total reserves are then calculated by summing the incremental paid amounts for the unobserved accident and development years, i.e. when the calendar year is higher than 2017. We sum the lower triangle without taking into account the diagonal itself (that is why we specify `k=1`)."
      ]
    },
    {
      "cell_type": "code",
      "execution_count": 34,
      "metadata": {
        "ExecuteTime": {
          "end_time": "2019-10-08T08:15:15.885845Z",
          "start_time": "2019-10-08T08:15:15.877843Z"
        },
        "colab": {
          "base_uri": "https://localhost:8080/"
        },
        "id": "wHvatwGIJUbY",
        "outputId": "a7b4dc60-5fbe-4b96-a583-615928c69ba8"
      },
      "outputs": [
        {
          "output_type": "execute_result",
          "data": {
            "text/plain": [
              "837806012.7297871"
            ]
          },
          "metadata": {},
          "execution_count": 34
        }
      ],
      "source": [
        "sum(np.array(Predictions_S1)[::-1][np.triu_indices(20,k=1)])"
      ]
    },
    {
      "cell_type": "markdown",
      "metadata": {
        "id": "QkZo60PQJUbY"
      },
      "source": [
        "* In a similar fashion, we can of course estimate the different parameters for the 4 other samples as well. With those parameters, we can compute the ultimate amounts and the total provisions. In the code, we use a Gamma distribution to estimate the parameters. However, the user is free to choose another distribution (such as Tweedie) to improve the GLM model. "
      ]
    },
    {
      "cell_type": "code",
      "execution_count": 35,
      "metadata": {
        "ExecuteTime": {
          "end_time": "2019-10-08T08:15:15.893847Z",
          "start_time": "2019-10-08T08:15:15.887842Z"
        },
        "id": "5xBwNaVhJUbY"
      },
      "outputs": [],
      "source": [
        "def GLM_triangle(dataset,name):\n",
        "    \n",
        "    # Formula and fitting of the GLM models\n",
        "    glm_formula = sm.formula.glm(\"PaidIncr ~ 0 + C(Acc) + C(Dev)\",data=dataset,family=sm.families.Gamma(link=sm.families.links.log))\n",
        "    glm_model = glm_formula.fit()\n",
        "    \n",
        "    # Extracting the parameters\n",
        "    alpha = np.matrix(np.exp(glm_model.params[0:20])).transpose()\n",
        "    beta = np.matrix(np.exp([0]+list(glm_model.params[20:40])))\n",
        "    \n",
        "    # Calculate the predicted claim amounts and the total reserves\n",
        "    Predictions = pd.DataFrame(np.matmul(alpha,beta))\n",
        "    TotalReserves = sum(np.array(Predictions)[::-1][np.triu_indices(20,k=1)])\n",
        "\n",
        "    print('The total reserves by GLM for ' + str(name) + ' are equal to ' + str(int(TotalReserves)) + '.')\n",
        "\n",
        "    return(np.int64(TotalReserves))"
      ]
    },
    {
      "cell_type": "markdown",
      "metadata": {
        "id": "1zMYxKTzJUbZ"
      },
      "source": [
        "<br>"
      ]
    },
    {
      "cell_type": "markdown",
      "metadata": {
        "id": "pvK_g50yJUbZ"
      },
      "source": [
        "## 3.4 GLM on Individual Data <a name=\"three-four\"></a>"
      ]
    },
    {
      "cell_type": "markdown",
      "metadata": {
        "id": "E9NoQtx6JUbZ"
      },
      "source": [
        "* In this section, we explore the GLM procedure on individual data. As this time only the input dataset changes, we will go faster through the process as we already outlined how the modelization occurs. The following code obtains the total reserves for Sample 1 by using the Gamma distribution."
      ]
    },
    {
      "cell_type": "code",
      "execution_count": 36,
      "metadata": {
        "ExecuteTime": {
          "end_time": "2019-10-08T08:15:20.108666Z",
          "start_time": "2019-10-08T08:15:15.895844Z"
        },
        "colab": {
          "base_uri": "https://localhost:8080/"
        },
        "id": "9yQg9T3_JUbZ",
        "outputId": "a7e34909-9f95-477e-f35c-5e1fb39f26bc"
      },
      "outputs": [
        {
          "output_type": "stream",
          "name": "stderr",
          "text": [
            "/usr/local/lib/python3.7/dist-packages/statsmodels/base/model.py:568: ConvergenceWarning: Maximum Likelihood optimization failed to converge. Check mle_retvals\n",
            "  ConvergenceWarning)\n"
          ]
        },
        {
          "output_type": "execute_result",
          "data": {
            "text/plain": [
              "822208868.9121394"
            ]
          },
          "metadata": {},
          "execution_count": 36
        }
      ],
      "source": [
        "S1_formula = sm.formula.glm(\"PaidIncr ~ 0 + C(Acc) + C(Dev)\",data=Sample1,family=sm.families.Tweedie(link=sm.families.links.log,var_power=1))\n",
        "S1_model = S1_formula.fit(method=\"newton\",maxiter=50)\n",
        "alpha_S1 = 300*np.matrix(np.exp(S1_model.params[0:20])).transpose()\n",
        "beta_S1 = np.matrix(np.exp([0]+list(S1_model.params[20:40])))\n",
        "Predictions_S1 = pd.DataFrame(np.matmul(alpha_S1,beta_S1))\n",
        "sum(np.array(Predictions_S1)[::-1][np.triu_indices(20,k=1)])"
      ]
    },
    {
      "cell_type": "markdown",
      "metadata": {
        "id": "gXx8KwvtJUbZ"
      },
      "source": [
        "* We extract the incremental triangles for each Sample, we will need those data for further analysis:"
      ]
    },
    {
      "cell_type": "code",
      "execution_count": 37,
      "metadata": {
        "ExecuteTime": {
          "end_time": "2019-10-08T08:16:06.974893Z",
          "start_time": "2019-10-08T08:15:20.110667Z"
        },
        "id": "qm_PS1V3JUbZ"
      },
      "outputs": [],
      "source": [
        "def GLM_inc_triangle(dataset):\n",
        "    glm_formula = sm.formula.glm(\"PaidIncr ~ 0 + C(Acc) + C(Dev)\",data=dataset,family=sm.families.Gamma(link=sm.families.links.log))\n",
        "    glm_model = glm_formula.fit()\n",
        "    \n",
        "    # Extracting the parameters\n",
        "    \n",
        "    alpha = np.matrix(np.exp(glm_model.params[0:20])).transpose()\n",
        "    beta = np.matrix(np.exp([0]+list(glm_model.params[20:40])))\n",
        "    \n",
        "    # Calculate the predicted claim amounts and the total reserves\n",
        "    Predictions = np.array(pd.DataFrame(np.matmul(alpha,beta)))\n",
        "    \n",
        "    return(Predictions)\n",
        "\n",
        "Sample1_glm_inc_triangle = GLM_inc_triangle(Sample1)\n",
        "Sample2_glm_inc_triangle = GLM_inc_triangle(Sample2)\n",
        "Sample3_glm_inc_triangle = GLM_inc_triangle(Sample3)\n",
        "Sample4_glm_inc_triangle = GLM_inc_triangle(Sample4)\n",
        "Sample5_glm_inc_triangle = GLM_inc_triangle(Sample5)"
      ]
    },
    {
      "cell_type": "markdown",
      "metadata": {
        "id": "joPDjBf8JUbZ"
      },
      "source": [
        "* We can also compute the reserves by using the following function:"
      ]
    },
    {
      "cell_type": "code",
      "execution_count": 38,
      "metadata": {
        "ExecuteTime": {
          "end_time": "2019-10-08T08:16:52.684265Z",
          "start_time": "2019-10-08T08:16:06.977891Z"
        },
        "colab": {
          "base_uri": "https://localhost:8080/"
        },
        "id": "AdTv081oJUbZ",
        "outputId": "ae774b8f-fae0-4e4e-bdd3-d644993f803a"
      },
      "outputs": [
        {
          "output_type": "stream",
          "name": "stdout",
          "text": [
            "The total reserves by GLM for Sample 1 are equal to 837798506.\n",
            "The total reserves by GLM for Sample 2 are equal to 1306245329.\n",
            "The total reserves by GLM for Sample 3 are equal to 2089589570.\n",
            "The total reserves by GLM for Sample 4 are equal to 3526722806.\n",
            "The total reserves by GLM for Sample 5 are equal to 2269620520.\n"
          ]
        }
      ],
      "source": [
        "def GLM_triangle(dataset,name):\n",
        "    \n",
        "    # Formula and fitting of the GLM models\n",
        "    glm_formula = sm.formula.glm(\"PaidIncr ~ 0 + C(Acc) + C(Dev)\",data=dataset,family=sm.families.Gamma(link=sm.families.links.log))\n",
        "    glm_model = glm_formula.fit()\n",
        "    \n",
        "    # Extracting the parameters\n",
        "    year_list = dataset.loc[dataset[\"Dev\"] == 1][\"Acc\"].values\n",
        "    number_of_claims = np.array([Counter(year_list)[key] for key in sorted(Counter(year_list))])\n",
        "\n",
        "    \n",
        "    alpha = np.matrix(number_of_claims * np.exp(glm_model.params[0:20])).transpose()\n",
        "    beta = np.matrix(np.exp([0]+list(glm_model.params[20:40])))\n",
        "    \n",
        "    # Calculate the predicted claim amounts and the total reserves\n",
        "    Predictions = pd.DataFrame(np.matmul(alpha,beta))\n",
        "    \n",
        "    TotalReserves = sum(np.array(Predictions)[::-1][np.triu_indices(20,k=1)])\n",
        "\n",
        "    print('The total reserves by GLM for ' + str(name) + ' are equal to ' + str(int(TotalReserves)) + '.')\n",
        "\n",
        "GLM_triangle(Sample1,\"Sample 1\")\n",
        "GLM_triangle(Sample2,\"Sample 2\")   \n",
        "GLM_triangle(Sample3,\"Sample 3\")   \n",
        "GLM_triangle(Sample4,\"Sample 4\")   \n",
        "GLM_triangle(Sample5,\"Sample 5\") "
      ]
    },
    {
      "cell_type": "markdown",
      "metadata": {
        "id": "0NqpU9APJUba"
      },
      "source": [
        "<br>"
      ]
    },
    {
      "cell_type": "markdown",
      "metadata": {
        "id": "dIB--ma1JUba"
      },
      "source": [
        "For further developments, we will need to extend the developments for individual using the GLM methods. We will achieve it using the following function:"
      ]
    },
    {
      "cell_type": "code",
      "execution_count": 39,
      "metadata": {
        "ExecuteTime": {
          "end_time": "2019-10-08T08:16:52.700261Z",
          "start_time": "2019-10-08T08:16:52.687263Z"
        },
        "id": "ZIMDDM0GJUba"
      },
      "outputs": [],
      "source": [
        "def continue_dev_glm(individual_claims_db, glm_inc_triangle):\n",
        "    \n",
        "    db_list = []\n",
        "    all_IDs = individual_claims_db[\"ID\"].unique()\n",
        "    \n",
        "    # For each unique id\n",
        "    for id in all_IDs:\n",
        "\n",
        "        # We create a dataframe that will contain only ID, Dev, Acc and Paid columns\n",
        "        tmp_db = pd.DataFrame(index = list(range(20)), columns=[\"ID\", \"Dev\", \"Acc\", \"Paid\"])\n",
        "        \n",
        "        _paid = individual_claims_db.loc[individual_claims_db[\"ID\"] == id,\"Paid\"].values.tolist()\n",
        "        _dev = individual_claims_db.loc[individual_claims_db[\"ID\"] == id,\"Dev\"].values.tolist()\n",
        "        already_year = [individual_claims_db.loc[individual_claims_db[\"ID\"] == id,\"Acc\"].values[0]] * 20\n",
        "        \n",
        "        already_paid = _paid\n",
        "        already_dev = _dev\n",
        "        \n",
        "        # For each year that have not been fully developed\n",
        "        inc_line = glm_inc_triangle[20 - len(already_paid)]\n",
        "        \n",
        "        for i in range(len(_paid), 20):\n",
        "            \n",
        "            # We add the incremental payment to the Paid column\n",
        "            # This incremental payment is the one we optained using GLM\n",
        "            already_paid.append(already_paid[i - 1] + inc_line[i])\n",
        "            already_dev.append(i + 1)\n",
        "        \n",
        "        # We add the data to the dataframe\n",
        "        tmp_db.at[:, \"ID\"] = id\n",
        "        tmp_db.at[tmp_db.index, \"Paid\"] = already_paid\n",
        "        tmp_db.at[tmp_db.index, \"Dev\"] = already_dev\n",
        "        tmp_db.at[tmp_db.index, \"Acc\"] = already_year\n",
        "\n",
        "        # We store these dataframes in the below list\n",
        "        db_list.append(tmp_db)\n",
        "            \n",
        "    # We return the merged data frame\n",
        "    return(pd.concat(db_list).reset_index(drop = True))"
      ]
    },
    {
      "cell_type": "markdown",
      "metadata": {
        "id": "LRlFk2tSJUba"
      },
      "source": [
        "We apply the function on the first sample:"
      ]
    },
    {
      "cell_type": "code",
      "execution_count": 40,
      "metadata": {
        "ExecuteTime": {
          "end_time": "2019-10-08T08:17:49.507925Z",
          "start_time": "2019-10-08T08:16:52.703262Z"
        },
        "id": "3vXVMSNjJUba"
      },
      "outputs": [],
      "source": [
        "Sample1_glm_extended = continue_dev_glm(Sample1, Sample1_glm_inc_triangle)"
      ]
    },
    {
      "cell_type": "markdown",
      "metadata": {
        "id": "9ZTqcQZZJUba"
      },
      "source": [
        "We check the reserve:"
      ]
    },
    {
      "cell_type": "code",
      "execution_count": 41,
      "metadata": {
        "ExecuteTime": {
          "end_time": "2019-10-08T08:17:49.541642Z",
          "start_time": "2019-10-08T08:17:49.509642Z"
        },
        "colab": {
          "base_uri": "https://localhost:8080/"
        },
        "id": "YbGNCmj-JUba",
        "outputId": "3b4a16d6-6a36-4bb1-996e-5277593e85e9"
      },
      "outputs": [
        {
          "output_type": "execute_result",
          "data": {
            "text/plain": [
              "837798499"
            ]
          },
          "metadata": {},
          "execution_count": 41
        }
      ],
      "source": [
        "sum(compute_provisions(aggregated_to_triangle(aggregate(Sample1_glm_extended, [\"Paid\"]))))"
      ]
    },
    {
      "cell_type": "markdown",
      "metadata": {
        "id": "oO_koLEqJUbb"
      },
      "source": [
        "We apply the function for the other samples:"
      ]
    },
    {
      "cell_type": "code",
      "execution_count": 42,
      "metadata": {
        "ExecuteTime": {
          "end_time": "2019-10-08T08:22:51.004978Z",
          "start_time": "2019-10-08T08:17:49.542654Z"
        },
        "id": "tcYCQghGJUbb"
      },
      "outputs": [],
      "source": [
        "Sample2_glm_extended = continue_dev_glm(Sample2, Sample2_glm_inc_triangle)\n",
        "Sample3_glm_extended = continue_dev_glm(Sample3, Sample3_glm_inc_triangle)\n",
        "Sample4_glm_extended = continue_dev_glm(Sample4, Sample4_glm_inc_triangle)\n",
        "Sample5_glm_extended = continue_dev_glm(Sample5, Sample5_glm_inc_triangle)"
      ]
    },
    {
      "cell_type": "markdown",
      "metadata": {
        "id": "UbU7lNxuJUbb"
      },
      "source": [
        "As result, we have:"
      ]
    },
    {
      "cell_type": "code",
      "execution_count": 43,
      "metadata": {
        "ExecuteTime": {
          "end_time": "2019-10-08T08:22:51.185944Z",
          "start_time": "2019-10-08T08:22:51.006946Z"
        },
        "scrolled": true,
        "colab": {
          "base_uri": "https://localhost:8080/",
          "height": 206
        },
        "id": "6TEhdHWcJUbb",
        "outputId": "d1c534cb-5249-47e9-aea5-5b7142fc594d"
      },
      "outputs": [
        {
          "output_type": "execute_result",
          "data": {
            "text/plain": [
              "           Observed          CL         GLM   NN\n",
              "Sample1   905043411   822208868   837798499  NaN\n",
              "Sample2  1231419704  1307673382  1306245319  NaN\n",
              "Sample3  2136463115  2085358862  2089589563  NaN\n",
              "Sample4  2132886166  3914420114  3526722797  NaN\n",
              "Sample5  2178800120  2335045312  2269620511  NaN"
            ],
            "text/html": [
              "\n",
              "  <div id=\"df-654aa09a-556a-4004-b8ea-f09b4fb93dc0\">\n",
              "    <div class=\"colab-df-container\">\n",
              "      <div>\n",
              "<style scoped>\n",
              "    .dataframe tbody tr th:only-of-type {\n",
              "        vertical-align: middle;\n",
              "    }\n",
              "\n",
              "    .dataframe tbody tr th {\n",
              "        vertical-align: top;\n",
              "    }\n",
              "\n",
              "    .dataframe thead th {\n",
              "        text-align: right;\n",
              "    }\n",
              "</style>\n",
              "<table border=\"1\" class=\"dataframe\">\n",
              "  <thead>\n",
              "    <tr style=\"text-align: right;\">\n",
              "      <th></th>\n",
              "      <th>Observed</th>\n",
              "      <th>CL</th>\n",
              "      <th>GLM</th>\n",
              "      <th>NN</th>\n",
              "    </tr>\n",
              "  </thead>\n",
              "  <tbody>\n",
              "    <tr>\n",
              "      <th>Sample1</th>\n",
              "      <td>905043411</td>\n",
              "      <td>822208868</td>\n",
              "      <td>837798499</td>\n",
              "      <td>NaN</td>\n",
              "    </tr>\n",
              "    <tr>\n",
              "      <th>Sample2</th>\n",
              "      <td>1231419704</td>\n",
              "      <td>1307673382</td>\n",
              "      <td>1306245319</td>\n",
              "      <td>NaN</td>\n",
              "    </tr>\n",
              "    <tr>\n",
              "      <th>Sample3</th>\n",
              "      <td>2136463115</td>\n",
              "      <td>2085358862</td>\n",
              "      <td>2089589563</td>\n",
              "      <td>NaN</td>\n",
              "    </tr>\n",
              "    <tr>\n",
              "      <th>Sample4</th>\n",
              "      <td>2132886166</td>\n",
              "      <td>3914420114</td>\n",
              "      <td>3526722797</td>\n",
              "      <td>NaN</td>\n",
              "    </tr>\n",
              "    <tr>\n",
              "      <th>Sample5</th>\n",
              "      <td>2178800120</td>\n",
              "      <td>2335045312</td>\n",
              "      <td>2269620511</td>\n",
              "      <td>NaN</td>\n",
              "    </tr>\n",
              "  </tbody>\n",
              "</table>\n",
              "</div>\n",
              "      <button class=\"colab-df-convert\" onclick=\"convertToInteractive('df-654aa09a-556a-4004-b8ea-f09b4fb93dc0')\"\n",
              "              title=\"Convert this dataframe to an interactive table.\"\n",
              "              style=\"display:none;\">\n",
              "        \n",
              "  <svg xmlns=\"http://www.w3.org/2000/svg\" height=\"24px\"viewBox=\"0 0 24 24\"\n",
              "       width=\"24px\">\n",
              "    <path d=\"M0 0h24v24H0V0z\" fill=\"none\"/>\n",
              "    <path d=\"M18.56 5.44l.94 2.06.94-2.06 2.06-.94-2.06-.94-.94-2.06-.94 2.06-2.06.94zm-11 1L8.5 8.5l.94-2.06 2.06-.94-2.06-.94L8.5 2.5l-.94 2.06-2.06.94zm10 10l.94 2.06.94-2.06 2.06-.94-2.06-.94-.94-2.06-.94 2.06-2.06.94z\"/><path d=\"M17.41 7.96l-1.37-1.37c-.4-.4-.92-.59-1.43-.59-.52 0-1.04.2-1.43.59L10.3 9.45l-7.72 7.72c-.78.78-.78 2.05 0 2.83L4 21.41c.39.39.9.59 1.41.59.51 0 1.02-.2 1.41-.59l7.78-7.78 2.81-2.81c.8-.78.8-2.07 0-2.86zM5.41 20L4 18.59l7.72-7.72 1.47 1.35L5.41 20z\"/>\n",
              "  </svg>\n",
              "      </button>\n",
              "      \n",
              "  <style>\n",
              "    .colab-df-container {\n",
              "      display:flex;\n",
              "      flex-wrap:wrap;\n",
              "      gap: 12px;\n",
              "    }\n",
              "\n",
              "    .colab-df-convert {\n",
              "      background-color: #E8F0FE;\n",
              "      border: none;\n",
              "      border-radius: 50%;\n",
              "      cursor: pointer;\n",
              "      display: none;\n",
              "      fill: #1967D2;\n",
              "      height: 32px;\n",
              "      padding: 0 0 0 0;\n",
              "      width: 32px;\n",
              "    }\n",
              "\n",
              "    .colab-df-convert:hover {\n",
              "      background-color: #E2EBFA;\n",
              "      box-shadow: 0px 1px 2px rgba(60, 64, 67, 0.3), 0px 1px 3px 1px rgba(60, 64, 67, 0.15);\n",
              "      fill: #174EA6;\n",
              "    }\n",
              "\n",
              "    [theme=dark] .colab-df-convert {\n",
              "      background-color: #3B4455;\n",
              "      fill: #D2E3FC;\n",
              "    }\n",
              "\n",
              "    [theme=dark] .colab-df-convert:hover {\n",
              "      background-color: #434B5C;\n",
              "      box-shadow: 0px 1px 3px 1px rgba(0, 0, 0, 0.15);\n",
              "      filter: drop-shadow(0px 1px 2px rgba(0, 0, 0, 0.3));\n",
              "      fill: #FFFFFF;\n",
              "    }\n",
              "  </style>\n",
              "\n",
              "      <script>\n",
              "        const buttonEl =\n",
              "          document.querySelector('#df-654aa09a-556a-4004-b8ea-f09b4fb93dc0 button.colab-df-convert');\n",
              "        buttonEl.style.display =\n",
              "          google.colab.kernel.accessAllowed ? 'block' : 'none';\n",
              "\n",
              "        async function convertToInteractive(key) {\n",
              "          const element = document.querySelector('#df-654aa09a-556a-4004-b8ea-f09b4fb93dc0');\n",
              "          const dataTable =\n",
              "            await google.colab.kernel.invokeFunction('convertToInteractive',\n",
              "                                                     [key], {});\n",
              "          if (!dataTable) return;\n",
              "\n",
              "          const docLinkHtml = 'Like what you see? Visit the ' +\n",
              "            '<a target=\"_blank\" href=https://colab.research.google.com/notebooks/data_table.ipynb>data table notebook</a>'\n",
              "            + ' to learn more about interactive tables.';\n",
              "          element.innerHTML = '';\n",
              "          dataTable['output_type'] = 'display_data';\n",
              "          await google.colab.output.renderOutput(dataTable, element);\n",
              "          const docLink = document.createElement('div');\n",
              "          docLink.innerHTML = docLinkHtml;\n",
              "          element.appendChild(docLink);\n",
              "        }\n",
              "      </script>\n",
              "    </div>\n",
              "  </div>\n",
              "  "
            ]
          },
          "metadata": {},
          "execution_count": 43
        }
      ],
      "source": [
        "results.at[\"Sample1\", \"GLM\"] = sum(compute_provisions(aggregated_to_triangle(aggregate(Sample1_glm_extended, \"Paid\"))))\n",
        "results.at[\"Sample2\", \"GLM\"] = sum(compute_provisions(aggregated_to_triangle(aggregate(Sample2_glm_extended, \"Paid\"))))\n",
        "results.at[\"Sample3\", \"GLM\"] = sum(compute_provisions(aggregated_to_triangle(aggregate(Sample3_glm_extended, \"Paid\"))))\n",
        "results.at[\"Sample4\", \"GLM\"] = sum(compute_provisions(aggregated_to_triangle(aggregate(Sample4_glm_extended, \"Paid\"))))\n",
        "results.at[\"Sample5\", \"GLM\"] = sum(compute_provisions(aggregated_to_triangle(aggregate(Sample5_glm_extended, \"Paid\"))))\n",
        "results"
      ]
    },
    {
      "cell_type": "markdown",
      "metadata": {
        "id": "PlqzfAojJUbb"
      },
      "source": [
        "**Conclusion:** GLM results are better than CL results in general. We still have a huge gap for Sample 4 provisions."
      ]
    },
    {
      "cell_type": "markdown",
      "metadata": {
        "id": "BHLEq-mBJUbb"
      },
      "source": [
        "\n",
        "<br> <br>\n",
        "<br> <br>\n"
      ]
    },
    {
      "cell_type": "markdown",
      "metadata": {
        "id": "qjecM-L3JUbb"
      },
      "source": [
        "# Chapter 4 - Neural Networks on Individual Claims Data <a name=\"four\"></a>"
      ]
    },
    {
      "cell_type": "markdown",
      "metadata": {
        "id": "K29m0sQPJUbb"
      },
      "source": [
        "Depending on the sample we are working on, **the chain ladder hypothesis will be disrespected**, i.e. the development pattern is not stable over time. In the previous chapter, we showed that we can use the GLM models to provide a better estimation for the paid claim amounts. In this chapter, we investigate if neural networks (and other data science models) can be used to replace the GLM and obtain a better fit. Using neural networks, we are assuming the following benefits and drawbacks:\n",
        "\n",
        "Pros neural networks:\n",
        "\n",
        "- Can learn non-linear and complex relationships\n",
        "- Can infer unseen relationships on unseen data as well\n",
        "\n",
        "However, the neural networks admit several drawbacks:\n",
        "\n",
        "- High needs in terms of running time\n",
        "- High needs in terms of data\n",
        "- Generally, neural networks suffer from overfitting\n",
        "\n",
        "In this chapter, we will first outline the methodology that we applied on our reserving triangles by using data science. Then, we will give a recap of some neural network attributes. We will declare a classical machine learning process and we will optimize our models in order to improve our results. **The aim of this chapter is to predict the cumulated paid claim amounts by using neural networks**."
      ]
    },
    {
      "cell_type": "markdown",
      "metadata": {
        "id": "t8JcBC8dJUbc"
      },
      "source": [
        "<br>"
      ]
    },
    {
      "cell_type": "markdown",
      "metadata": {
        "id": "8jPKYmmWJUbc"
      },
      "source": [
        "## 4.1 Method  <a name=\"four-one\"></a>"
      ]
    },
    {
      "cell_type": "markdown",
      "metadata": {
        "id": "c5o9FiiKJUbc"
      },
      "source": [
        "The method we will use in this training consists of creating a new model for each development year:\n",
        "\n",
        "* To predict the development year 2, we only use the development year 1.\n",
        "* To predict the development year 3, we only use the development years 1 and 2.\n",
        "* ...\n",
        "* To predict the development year $n$, we use the development years $1, 2, ..., n-1$.\n",
        "\n",
        "<center><img src=\"https://raw.githubusercontent.com/Reacfin/Training_Databases/main/NL_reserving_ANN/images/model_dev_year_1_v2.png\" width=\"900\"></center>"
      ]
    },
    {
      "cell_type": "markdown",
      "metadata": {
        "ExecuteTime": {
          "end_time": "2019-10-08T12:51:31.585116Z",
          "start_time": "2019-10-08T12:51:31.579117Z"
        },
        "id": "_fX1zF1EJUbc"
      },
      "source": [
        "Afterwards, we have: \n",
        "\n",
        "<center><img src=\"https://raw.githubusercontent.com/Reacfin/Training_Databases/main/NL_reserving_ANN/images/model_dev_year_n_v2.png\" width=\"900\"></center>\n",
        "\n",
        "We increment this process until the last column is predicted."
      ]
    },
    {
      "cell_type": "markdown",
      "metadata": {
        "id": "bVCSjM1dJUbc"
      },
      "source": [
        "In order to build the neural networks, we will need to extract the red rectangles above. For the development year $(n)$ we need claims that are developed until $(n)$. We then create a function that takes as input the dataset and the development (between 1 and 20) and that returns the extracted cumulative payments. We create a, `extract_n_dev` function that achieves this task:"
      ]
    },
    {
      "cell_type": "code",
      "execution_count": 44,
      "metadata": {
        "ExecuteTime": {
          "end_time": "2019-10-08T13:05:39.202561Z",
          "start_time": "2019-10-08T13:05:39.194566Z"
        },
        "id": "VjNECpqOJUbc"
      },
      "outputs": [],
      "source": [
        "def extract_n_dev(individual_claims_db, dev, variable = \"Paid\"):\n",
        "    # We take only the claims that are developed enough\n",
        "    developped_sample = individual_claims_db.loc[individual_claims_db[\"Dev\"] <= dev]\n",
        "    \n",
        "    # We count IDs, the underlying idea is that if there's 19 rows that admit the same ID, then dev = 19\n",
        "    tmp = Counter(developped_sample.loc[:, \"ID\"]).most_common()\n",
        "    tmp = [_tmp[0] for _tmp in tmp if _tmp[1] == dev]\n",
        "    \n",
        "    # We take this sample using isin function\n",
        "    interesting_sample = developped_sample.loc[developped_sample[\"ID\"].isin(tmp)]\n",
        "    \n",
        "    sample_list = []\n",
        "    \n",
        "    # We extract per development year, we sort by ID, and we add it to our sample_list\n",
        "    for i in range(1, dev + 1):\n",
        "        tmp_sample = interesting_sample.loc[interesting_sample[\"Dev\"] == i]\n",
        "        tmp_sample = tmp_sample.sort_values(\"ID\")\n",
        "        tmp_sample = tmp_sample.loc[:, variable].values\n",
        "        sample_list.append(tmp_sample)\n",
        "    \n",
        "    # We pre-format the output for further applications\n",
        "    if(dev > 2):\n",
        "    \n",
        "        return(np.array(sample_list[0:(dev-1)]).transpose(), sample_list[dev - 1])\n",
        "    \n",
        "    if(dev == 2):\n",
        "        \n",
        "        return(np.array(sample_list[0]).reshape(-1, 1), sample_list[1])"
      ]
    },
    {
      "cell_type": "markdown",
      "metadata": {
        "id": "Xcm9pcLWJUbc"
      },
      "source": [
        "Note that we added a `variable` argument in order to choose the variable we want to work with. We use this function to extract the two first development years in order to predict the third one:"
      ]
    },
    {
      "cell_type": "code",
      "execution_count": 45,
      "metadata": {
        "ExecuteTime": {
          "end_time": "2019-10-08T13:05:39.231562Z",
          "start_time": "2019-10-08T13:05:39.208590Z"
        },
        "colab": {
          "base_uri": "https://localhost:8080/"
        },
        "id": "NdeHV7WaJUbc",
        "outputId": "5148b314-2b82-466f-f515-aa7461f1f519"
      },
      "outputs": [
        {
          "output_type": "stream",
          "name": "stdout",
          "text": [
            "[[ 19813  77470]\n",
            " [  3631  97483]\n",
            " [   119 290900]\n",
            " [   438  65575]\n",
            " [  2662  97096]] [398261 802160 290900 522670 494645]\n"
          ]
        }
      ],
      "source": [
        "X, y = extract_n_dev(individual_claims_db=Sample1, dev=3)\n",
        "print(X[:5], y[:5])"
      ]
    },
    {
      "cell_type": "markdown",
      "metadata": {
        "id": "aXcfzI1gJUbd"
      },
      "source": [
        "$X$ contains the cumulated payments for the two first development years, and $y$ contains the third one. **For this development year, all we have to do now is to learn $y$ in function of $X$**."
      ]
    },
    {
      "cell_type": "markdown",
      "metadata": {
        "id": "MHLfbq97JUbd"
      },
      "source": [
        "<br>"
      ]
    },
    {
      "cell_type": "markdown",
      "metadata": {
        "id": "rRyGqFIlJUbd"
      },
      "source": [
        "## 4.2 Introduction to neural networks  <a name=\"four-two\"></a> "
      ]
    },
    {
      "cell_type": "markdown",
      "metadata": {
        "id": "ab1vSgpmJUbd"
      },
      "source": [
        "We will use the *sklearn* library and its high-level `MLPRegressor` neural network function. Another widely known library for neural networks is *tensorflow*. *tensorflow* is a library from Google, of which the development started in 2011. More information about this library can be found [here](https://www.tensorflow.org/)."
      ]
    },
    {
      "cell_type": "markdown",
      "metadata": {
        "id": "8QV_cN-NJUbd"
      },
      "source": [
        "<br>"
      ]
    },
    {
      "cell_type": "markdown",
      "metadata": {
        "id": "X7T_j_kXJUbd"
      },
      "source": [
        "### 4.2.1 Neural Networks brick: the neuron  <a name=\"four-two-one\"></a> "
      ]
    },
    {
      "cell_type": "markdown",
      "metadata": {
        "id": "vtOE6IyZJUbd"
      },
      "source": [
        "The first brick is the neuron. Below, you will find a simple neuron that admits two inputs. The two inputs will go through the neurone and will be modified by the activation function $f$:\n",
        "<center><img src=\"https://raw.githubusercontent.com/Reacfin/Training_Databases/main/NL_reserving_ANN/images/a_neurone.png\" width=\"800\"></center>"
      ]
    },
    {
      "cell_type": "markdown",
      "metadata": {
        "id": "XUeO220VJUbd"
      },
      "source": [
        "Where:\n",
        "* $x_1$, $x_2$ the input values;\n",
        "* $w_1$, $w_2$ the associated weights;\n",
        "* $b$ a constant;\n",
        "* $f$ an activation function (see below);\n",
        "* $y$ the output.\n",
        "\n",
        "Here, we would have:\n",
        "\n",
        "$$y=f(x_1 * w_1 + x_2 * w_2 + b).$$"
      ]
    },
    {
      "cell_type": "markdown",
      "metadata": {
        "id": "PdKY65EBJUbe"
      },
      "source": [
        "<br>"
      ]
    },
    {
      "cell_type": "markdown",
      "metadata": {
        "id": "6ey5nzM2JUbe"
      },
      "source": [
        "### 4.2.2 Activation function  <a name=\"four-two-two\"></a>"
      ]
    },
    {
      "cell_type": "markdown",
      "metadata": {
        "id": "_MmuxGTlJUbe"
      },
      "source": [
        "There exist many activation functions, the most common ones are stated below:"
      ]
    },
    {
      "cell_type": "markdown",
      "metadata": {
        "id": "zwuu1CJyJUbe"
      },
      "source": [
        "<center><img src=\"https://raw.githubusercontent.com/Reacfin/Training_Databases/main/NL_reserving_ANN/images/sigmoids.png\" width=\"800\"></center>"
      ]
    },
    {
      "cell_type": "markdown",
      "metadata": {
        "id": "jvzhuTarJUbe"
      },
      "source": [
        "The related `MLPRegressor` argument linked to the activation function is the `activate` argument. We list here the possible values including some remarks on those functions.\n",
        "* `identity`: $f(x) = x$\n",
        "    * Identity is scale-invariant - scaling the data will have no effect on the learning.\n",
        "* `logistic` which is the sigmoid function\n",
        "    * We use the sigmoid function in practice to compute the probability or anything that is located between 0 and 1.\n",
        "* `tanh`\n",
        "    * Mainly used for classification between two classes.\n",
        "    \n",
        "* `relu` which is the ReLU function\n",
        "    * relu is scale-invariant for inputs that are only positive."
      ]
    },
    {
      "cell_type": "markdown",
      "metadata": {
        "id": "6gkZGc9mJUbe"
      },
      "source": [
        "**As the activation functions work ideally with values between $-1$ and $1$, it is more than advised to scale the data before fitting any neural networks!**"
      ]
    },
    {
      "cell_type": "markdown",
      "metadata": {
        "id": "6SSn4ranJUbe"
      },
      "source": [
        "We will scale the data using the `MinMaxScaler` provided by **sklearn** framework. It scales the data as follows:\n",
        "\n",
        "$$X_{i, scaled} = \\frac{X_i - min(X)}{max(X) - min(X)}$$\n",
        "\n",
        "Where:\n",
        "\n",
        "* $X$ is a length-$n$ numerical vector, $X_i, i \\in \\{1, 2, ...,n\\}$ it's elements\n",
        "* $min(X)$ X's minimum value\n",
        "* $max(X)$ X's maximum value\n",
        "\n",
        "We have the property that if $\\forall i \\in \\{1, 2,...,n\\}, X_i > 0$, then $X_{i, scaled} \\in [0,1]$"
      ]
    },
    {
      "cell_type": "markdown",
      "metadata": {
        "id": "H6p8axr5JUbe"
      },
      "source": [
        "<br>"
      ]
    },
    {
      "cell_type": "markdown",
      "metadata": {
        "id": "hIX62-zlJUbe"
      },
      "source": [
        "### 4.2.3 The global neural network structure  <a name=\"four-two-three\"></a>"
      ]
    },
    {
      "cell_type": "markdown",
      "metadata": {
        "id": "h049QsjLJUbe"
      },
      "source": [
        "We will limit ourselves to the Multiple Layer Perceptron (MLP) as a neural network graph. An example of an MLP can be found below: \n",
        "\n",
        "<center><img src=\"https://raw.githubusercontent.com/Reacfin/Training_Databases/main/NL_reserving_ANN/images/mlp_example_3.png\" width=\"900\"></center>\n",
        "\n",
        "\n",
        "(This MLP is also an SLP or Single Layer Perceptron because SLPs only possess 1 hidden layer)\n",
        "\n",
        "Its aim is to learn / predict the development year 3 depending on the development years 1 and 2. "
      ]
    },
    {
      "cell_type": "markdown",
      "metadata": {
        "id": "CGvyC_igJUbf"
      },
      "source": [
        "To implement it using *sklearn*, we do:"
      ]
    },
    {
      "cell_type": "code",
      "execution_count": 46,
      "metadata": {
        "ExecuteTime": {
          "end_time": "2019-10-08T13:20:20.480335Z",
          "start_time": "2019-10-08T13:20:20.477337Z"
        },
        "id": "_9mfCdPgJUbf"
      },
      "outputs": [],
      "source": [
        "nn = MLPRegressor(hidden_layer_sizes=(1,))"
      ]
    },
    {
      "cell_type": "markdown",
      "metadata": {
        "id": "m-zrPQaBJUbf"
      },
      "source": [
        "Note that the `hidden_layer_sizes` argument represents the hidden layers. For instance:\n",
        "\n",
        "* `(1,1,)` means two hidden layers that contain 1 neuron.\n",
        "* `(1,5,)` means one hidden layer that contains 1 neuron and one hidden layer that contains 5 neurons.\n",
        "* etc."
      ]
    },
    {
      "cell_type": "markdown",
      "metadata": {
        "id": "rPwgqkjrJUbf"
      },
      "source": [
        "Then, we fit it using the `fit` function argument:"
      ]
    },
    {
      "cell_type": "code",
      "execution_count": 47,
      "metadata": {
        "ExecuteTime": {
          "end_time": "2019-10-08T13:05:40.310571Z",
          "start_time": "2019-10-08T13:05:39.269567Z"
        },
        "colab": {
          "base_uri": "https://localhost:8080/"
        },
        "id": "Yb0t1RdoJUbh",
        "outputId": "ec3a22b8-a9c9-4de3-ed9a-92b78b286ee4"
      },
      "outputs": [
        {
          "output_type": "execute_result",
          "data": {
            "text/plain": [
              "MLPRegressor(hidden_layer_sizes=(1,))"
            ]
          },
          "metadata": {},
          "execution_count": 47
        }
      ],
      "source": [
        "nn.fit(X, y)"
      ]
    },
    {
      "cell_type": "markdown",
      "metadata": {
        "id": "A4T8UIwPJUbh"
      },
      "source": [
        "<br>"
      ]
    },
    {
      "cell_type": "markdown",
      "metadata": {
        "id": "C6Oc3Y9zJUbh"
      },
      "source": [
        "Neural networks can also return multiple outputs at each run. In our case, we will add the outstanding claim amounts to our model in order to enhance the prediction of the payments because of the high correlation between them. **Only by using neural networks that predict two variables at the same time, we can capture the correlation structure between them**. As stated as follows, we will predict the third year using such networks:\n",
        "\n",
        "<center><img src=\"https://raw.githubusercontent.com/Reacfin/Training_Databases/main/NL_reserving_ANN/images/two_outputs_nn.png\" width=\"800\"></center>"
      ]
    },
    {
      "cell_type": "markdown",
      "metadata": {
        "id": "hTxwagd0JUbi"
      },
      "source": [
        "As confirmed in the ASTIN report, the more we will have as an input, the more neurons we will have in our models. For low development years, we have 1 layer and a small amount of neurons, and for the last development year we can go further by using multiple layers and many neurons."
      ]
    },
    {
      "cell_type": "markdown",
      "metadata": {
        "id": "CZXf3bGIJUbi"
      },
      "source": [
        "<br>"
      ]
    },
    {
      "cell_type": "markdown",
      "metadata": {
        "id": "jPCyxag4JUbi"
      },
      "source": [
        "### 4.2.4 Other hyper parameters  <a name=\"four-two-four\"></a>"
      ]
    },
    {
      "cell_type": "markdown",
      "metadata": {
        "id": "Q9peal1JJUbi"
      },
      "source": [
        "You can reach the `MLPRegressor` official documentation [here](https://scikit-learn.org/stable/modules/generated/sklearn.neural_network.MLPClassifier.html). Some arguments of the function are the following:\n",
        "\n",
        "* `max_iter`: the maximum number of iterations;\n",
        "* `verbose`: do we print what happens during the learning?\n",
        "* `warm_start`: do we re-train the model?\n",
        "* `alpha`: a parameter linked to the numerical optimization (L2 penalty (regularization term))\n",
        "* `n_iter_no_change`: the maximum number of iterations to respect where the loss function is not decreasing by at least `tol`. If not respected, we stop the process. In order to have a deeper learning, we will fix `n_iter_no_change = 100`.\n",
        "* `learning_rate_init`: the initial learning rate value\n",
        "* etc."
      ]
    },
    {
      "cell_type": "markdown",
      "metadata": {
        "id": "Bm2GySBoJUbi"
      },
      "source": [
        "By using the `help` function, you can assess the documentation:"
      ]
    },
    {
      "cell_type": "code",
      "execution_count": 48,
      "metadata": {
        "ExecuteTime": {
          "end_time": "2019-10-08T13:05:40.322571Z",
          "start_time": "2019-10-08T13:05:40.312575Z"
        },
        "colab": {
          "base_uri": "https://localhost:8080/"
        },
        "id": "KoRn3FtMJUbi",
        "outputId": "337e4744-842c-43d0-8a5c-8248637af9ef"
      },
      "outputs": [
        {
          "output_type": "stream",
          "name": "stdout",
          "text": [
            "Help on class MLPRegressor in module sklearn.neural_network._multilayer_perceptron:\n",
            "\n",
            "class MLPRegressor(sklearn.base.RegressorMixin, BaseMultilayerPerceptron)\n",
            " |  MLPRegressor(hidden_layer_sizes=(100,), activation='relu', *, solver='adam', alpha=0.0001, batch_size='auto', learning_rate='constant', learning_rate_init=0.001, power_t=0.5, max_iter=200, shuffle=True, random_state=None, tol=0.0001, verbose=False, warm_start=False, momentum=0.9, nesterovs_momentum=True, early_stopping=False, validation_fraction=0.1, beta_1=0.9, beta_2=0.999, epsilon=1e-08, n_iter_no_change=10, max_fun=15000)\n",
            " |  \n",
            " |  Multi-layer Perceptron regressor.\n",
            " |  \n",
            " |  This model optimizes the squared error using LBFGS or stochastic gradient\n",
            " |  descent.\n",
            " |  \n",
            " |  .. versionadded:: 0.18\n",
            " |  \n",
            " |  Parameters\n",
            " |  ----------\n",
            " |  hidden_layer_sizes : tuple, length = n_layers - 2, default=(100,)\n",
            " |      The ith element represents the number of neurons in the ith\n",
            " |      hidden layer.\n",
            " |  \n",
            " |  activation : {'identity', 'logistic', 'tanh', 'relu'}, default='relu'\n",
            " |      Activation function for the hidden layer.\n",
            " |  \n",
            " |      - 'identity', no-op activation, useful to implement linear bottleneck,\n",
            " |        returns f(x) = x\n",
            " |  \n",
            " |      - 'logistic', the logistic sigmoid function,\n",
            " |        returns f(x) = 1 / (1 + exp(-x)).\n",
            " |  \n",
            " |      - 'tanh', the hyperbolic tan function,\n",
            " |        returns f(x) = tanh(x).\n",
            " |  \n",
            " |      - 'relu', the rectified linear unit function,\n",
            " |        returns f(x) = max(0, x)\n",
            " |  \n",
            " |  solver : {'lbfgs', 'sgd', 'adam'}, default='adam'\n",
            " |      The solver for weight optimization.\n",
            " |  \n",
            " |      - 'lbfgs' is an optimizer in the family of quasi-Newton methods.\n",
            " |  \n",
            " |      - 'sgd' refers to stochastic gradient descent.\n",
            " |  \n",
            " |      - 'adam' refers to a stochastic gradient-based optimizer proposed by\n",
            " |        Kingma, Diederik, and Jimmy Ba\n",
            " |  \n",
            " |      Note: The default solver 'adam' works pretty well on relatively\n",
            " |      large datasets (with thousands of training samples or more) in terms of\n",
            " |      both training time and validation score.\n",
            " |      For small datasets, however, 'lbfgs' can converge faster and perform\n",
            " |      better.\n",
            " |  \n",
            " |  alpha : float, default=0.0001\n",
            " |      L2 penalty (regularization term) parameter.\n",
            " |  \n",
            " |  batch_size : int, default='auto'\n",
            " |      Size of minibatches for stochastic optimizers.\n",
            " |      If the solver is 'lbfgs', the classifier will not use minibatch.\n",
            " |      When set to \"auto\", `batch_size=min(200, n_samples)`.\n",
            " |  \n",
            " |  learning_rate : {'constant', 'invscaling', 'adaptive'}, default='constant'\n",
            " |      Learning rate schedule for weight updates.\n",
            " |  \n",
            " |      - 'constant' is a constant learning rate given by\n",
            " |        'learning_rate_init'.\n",
            " |  \n",
            " |      - 'invscaling' gradually decreases the learning rate ``learning_rate_``\n",
            " |        at each time step 't' using an inverse scaling exponent of 'power_t'.\n",
            " |        effective_learning_rate = learning_rate_init / pow(t, power_t)\n",
            " |  \n",
            " |      - 'adaptive' keeps the learning rate constant to\n",
            " |        'learning_rate_init' as long as training loss keeps decreasing.\n",
            " |        Each time two consecutive epochs fail to decrease training loss by at\n",
            " |        least tol, or fail to increase validation score by at least tol if\n",
            " |        'early_stopping' is on, the current learning rate is divided by 5.\n",
            " |  \n",
            " |      Only used when solver='sgd'.\n",
            " |  \n",
            " |  learning_rate_init : float, default=0.001\n",
            " |      The initial learning rate used. It controls the step-size\n",
            " |      in updating the weights. Only used when solver='sgd' or 'adam'.\n",
            " |  \n",
            " |  power_t : float, default=0.5\n",
            " |      The exponent for inverse scaling learning rate.\n",
            " |      It is used in updating effective learning rate when the learning_rate\n",
            " |      is set to 'invscaling'. Only used when solver='sgd'.\n",
            " |  \n",
            " |  max_iter : int, default=200\n",
            " |      Maximum number of iterations. The solver iterates until convergence\n",
            " |      (determined by 'tol') or this number of iterations. For stochastic\n",
            " |      solvers ('sgd', 'adam'), note that this determines the number of epochs\n",
            " |      (how many times each data point will be used), not the number of\n",
            " |      gradient steps.\n",
            " |  \n",
            " |  shuffle : bool, default=True\n",
            " |      Whether to shuffle samples in each iteration. Only used when\n",
            " |      solver='sgd' or 'adam'.\n",
            " |  \n",
            " |  random_state : int, RandomState instance, default=None\n",
            " |      Determines random number generation for weights and bias\n",
            " |      initialization, train-test split if early stopping is used, and batch\n",
            " |      sampling when solver='sgd' or 'adam'.\n",
            " |      Pass an int for reproducible results across multiple function calls.\n",
            " |      See :term:`Glossary <random_state>`.\n",
            " |  \n",
            " |  tol : float, default=1e-4\n",
            " |      Tolerance for the optimization. When the loss or score is not improving\n",
            " |      by at least ``tol`` for ``n_iter_no_change`` consecutive iterations,\n",
            " |      unless ``learning_rate`` is set to 'adaptive', convergence is\n",
            " |      considered to be reached and training stops.\n",
            " |  \n",
            " |  verbose : bool, default=False\n",
            " |      Whether to print progress messages to stdout.\n",
            " |  \n",
            " |  warm_start : bool, default=False\n",
            " |      When set to True, reuse the solution of the previous\n",
            " |      call to fit as initialization, otherwise, just erase the\n",
            " |      previous solution. See :term:`the Glossary <warm_start>`.\n",
            " |  \n",
            " |  momentum : float, default=0.9\n",
            " |      Momentum for gradient descent update.  Should be between 0 and 1. Only\n",
            " |      used when solver='sgd'.\n",
            " |  \n",
            " |  nesterovs_momentum : bool, default=True\n",
            " |      Whether to use Nesterov's momentum. Only used when solver='sgd' and\n",
            " |      momentum > 0.\n",
            " |  \n",
            " |  early_stopping : bool, default=False\n",
            " |      Whether to use early stopping to terminate training when validation\n",
            " |      score is not improving. If set to true, it will automatically set\n",
            " |      aside 10% of training data as validation and terminate training when\n",
            " |      validation score is not improving by at least ``tol`` for\n",
            " |      ``n_iter_no_change`` consecutive epochs.\n",
            " |      Only effective when solver='sgd' or 'adam'.\n",
            " |  \n",
            " |  validation_fraction : float, default=0.1\n",
            " |      The proportion of training data to set aside as validation set for\n",
            " |      early stopping. Must be between 0 and 1.\n",
            " |      Only used if early_stopping is True.\n",
            " |  \n",
            " |  beta_1 : float, default=0.9\n",
            " |      Exponential decay rate for estimates of first moment vector in adam,\n",
            " |      should be in [0, 1). Only used when solver='adam'.\n",
            " |  \n",
            " |  beta_2 : float, default=0.999\n",
            " |      Exponential decay rate for estimates of second moment vector in adam,\n",
            " |      should be in [0, 1). Only used when solver='adam'.\n",
            " |  \n",
            " |  epsilon : float, default=1e-8\n",
            " |      Value for numerical stability in adam. Only used when solver='adam'.\n",
            " |  \n",
            " |  n_iter_no_change : int, default=10\n",
            " |      Maximum number of epochs to not meet ``tol`` improvement.\n",
            " |      Only effective when solver='sgd' or 'adam'.\n",
            " |  \n",
            " |      .. versionadded:: 0.20\n",
            " |  \n",
            " |  max_fun : int, default=15000\n",
            " |      Only used when solver='lbfgs'. Maximum number of function calls.\n",
            " |      The solver iterates until convergence (determined by 'tol'), number\n",
            " |      of iterations reaches max_iter, or this number of function calls.\n",
            " |      Note that number of function calls will be greater than or equal to\n",
            " |      the number of iterations for the MLPRegressor.\n",
            " |  \n",
            " |      .. versionadded:: 0.22\n",
            " |  \n",
            " |  Attributes\n",
            " |  ----------\n",
            " |  loss_ : float\n",
            " |      The current loss computed with the loss function.\n",
            " |  \n",
            " |  best_loss_ : float\n",
            " |      The minimum loss reached by the solver throughout fitting.\n",
            " |  \n",
            " |  loss_curve_ : list of shape (`n_iter_`,)\n",
            " |      Loss value evaluated at the end of each training step.\n",
            " |      The ith element in the list represents the loss at the ith iteration.\n",
            " |  \n",
            " |  t_ : int\n",
            " |      The number of training samples seen by the solver during fitting.\n",
            " |      Mathematically equals `n_iters * X.shape[0]`, it means\n",
            " |      `time_step` and it is used by optimizer's learning rate scheduler.\n",
            " |  \n",
            " |  coefs_ : list of shape (n_layers - 1,)\n",
            " |      The ith element in the list represents the weight matrix corresponding\n",
            " |      to layer i.\n",
            " |  \n",
            " |  intercepts_ : list of shape (n_layers - 1,)\n",
            " |      The ith element in the list represents the bias vector corresponding to\n",
            " |      layer i + 1.\n",
            " |  \n",
            " |  n_features_in_ : int\n",
            " |      Number of features seen during :term:`fit`.\n",
            " |  \n",
            " |      .. versionadded:: 0.24\n",
            " |  \n",
            " |  feature_names_in_ : ndarray of shape (`n_features_in_`,)\n",
            " |      Names of features seen during :term:`fit`. Defined only when `X`\n",
            " |      has feature names that are all strings.\n",
            " |  \n",
            " |      .. versionadded:: 1.0\n",
            " |  \n",
            " |  n_iter_ : int\n",
            " |      The number of iterations the solver has run.\n",
            " |  \n",
            " |  n_layers_ : int\n",
            " |      Number of layers.\n",
            " |  \n",
            " |  n_outputs_ : int\n",
            " |      Number of outputs.\n",
            " |  \n",
            " |  out_activation_ : str\n",
            " |      Name of the output activation function.\n",
            " |  \n",
            " |  See Also\n",
            " |  --------\n",
            " |  BernoulliRBM : Bernoulli Restricted Boltzmann Machine (RBM).\n",
            " |  MLPClassifier : Multi-layer Perceptron classifier.\n",
            " |  sklearn.linear_model.SGDRegressor : Linear model fitted by minimizing\n",
            " |      a regularized empirical loss with SGD.\n",
            " |  \n",
            " |  Notes\n",
            " |  -----\n",
            " |  MLPRegressor trains iteratively since at each time step\n",
            " |  the partial derivatives of the loss function with respect to the model\n",
            " |  parameters are computed to update the parameters.\n",
            " |  \n",
            " |  It can also have a regularization term added to the loss function\n",
            " |  that shrinks model parameters to prevent overfitting.\n",
            " |  \n",
            " |  This implementation works with data represented as dense and sparse numpy\n",
            " |  arrays of floating point values.\n",
            " |  \n",
            " |  References\n",
            " |  ----------\n",
            " |  Hinton, Geoffrey E.\n",
            " |      \"Connectionist learning procedures.\" Artificial intelligence 40.1\n",
            " |      (1989): 185-234.\n",
            " |  \n",
            " |  Glorot, Xavier, and Yoshua Bengio. \"Understanding the difficulty of\n",
            " |      training deep feedforward neural networks.\" International Conference\n",
            " |      on Artificial Intelligence and Statistics. 2010.\n",
            " |  \n",
            " |  He, Kaiming, et al. \"Delving deep into rectifiers: Surpassing human-level\n",
            " |      performance on imagenet classification.\" arXiv preprint\n",
            " |      arXiv:1502.01852 (2015).\n",
            " |  \n",
            " |  Kingma, Diederik, and Jimmy Ba. \"Adam: A method for stochastic\n",
            " |      optimization.\" arXiv preprint arXiv:1412.6980 (2014).\n",
            " |  \n",
            " |  Examples\n",
            " |  --------\n",
            " |  >>> from sklearn.neural_network import MLPRegressor\n",
            " |  >>> from sklearn.datasets import make_regression\n",
            " |  >>> from sklearn.model_selection import train_test_split\n",
            " |  >>> X, y = make_regression(n_samples=200, random_state=1)\n",
            " |  >>> X_train, X_test, y_train, y_test = train_test_split(X, y,\n",
            " |  ...                                                     random_state=1)\n",
            " |  >>> regr = MLPRegressor(random_state=1, max_iter=500).fit(X_train, y_train)\n",
            " |  >>> regr.predict(X_test[:2])\n",
            " |  array([-0.9..., -7.1...])\n",
            " |  >>> regr.score(X_test, y_test)\n",
            " |  0.4...\n",
            " |  \n",
            " |  Method resolution order:\n",
            " |      MLPRegressor\n",
            " |      sklearn.base.RegressorMixin\n",
            " |      BaseMultilayerPerceptron\n",
            " |      sklearn.base.BaseEstimator\n",
            " |      builtins.object\n",
            " |  \n",
            " |  Methods defined here:\n",
            " |  \n",
            " |  __init__(self, hidden_layer_sizes=(100,), activation='relu', *, solver='adam', alpha=0.0001, batch_size='auto', learning_rate='constant', learning_rate_init=0.001, power_t=0.5, max_iter=200, shuffle=True, random_state=None, tol=0.0001, verbose=False, warm_start=False, momentum=0.9, nesterovs_momentum=True, early_stopping=False, validation_fraction=0.1, beta_1=0.9, beta_2=0.999, epsilon=1e-08, n_iter_no_change=10, max_fun=15000)\n",
            " |      Initialize self.  See help(type(self)) for accurate signature.\n",
            " |  \n",
            " |  predict(self, X)\n",
            " |      Predict using the multi-layer perceptron model.\n",
            " |      \n",
            " |      Parameters\n",
            " |      ----------\n",
            " |      X : {array-like, sparse matrix} of shape (n_samples, n_features)\n",
            " |          The input data.\n",
            " |      \n",
            " |      Returns\n",
            " |      -------\n",
            " |      y : ndarray of shape (n_samples, n_outputs)\n",
            " |          The predicted values.\n",
            " |  \n",
            " |  ----------------------------------------------------------------------\n",
            " |  Data and other attributes defined here:\n",
            " |  \n",
            " |  __abstractmethods__ = frozenset()\n",
            " |  \n",
            " |  ----------------------------------------------------------------------\n",
            " |  Methods inherited from sklearn.base.RegressorMixin:\n",
            " |  \n",
            " |  score(self, X, y, sample_weight=None)\n",
            " |      Return the coefficient of determination of the prediction.\n",
            " |      \n",
            " |      The coefficient of determination :math:`R^2` is defined as\n",
            " |      :math:`(1 - \\frac{u}{v})`, where :math:`u` is the residual\n",
            " |      sum of squares ``((y_true - y_pred)** 2).sum()`` and :math:`v`\n",
            " |      is the total sum of squares ``((y_true - y_true.mean()) ** 2).sum()``.\n",
            " |      The best possible score is 1.0 and it can be negative (because the\n",
            " |      model can be arbitrarily worse). A constant model that always predicts\n",
            " |      the expected value of `y`, disregarding the input features, would get\n",
            " |      a :math:`R^2` score of 0.0.\n",
            " |      \n",
            " |      Parameters\n",
            " |      ----------\n",
            " |      X : array-like of shape (n_samples, n_features)\n",
            " |          Test samples. For some estimators this may be a precomputed\n",
            " |          kernel matrix or a list of generic objects instead with shape\n",
            " |          ``(n_samples, n_samples_fitted)``, where ``n_samples_fitted``\n",
            " |          is the number of samples used in the fitting for the estimator.\n",
            " |      \n",
            " |      y : array-like of shape (n_samples,) or (n_samples, n_outputs)\n",
            " |          True values for `X`.\n",
            " |      \n",
            " |      sample_weight : array-like of shape (n_samples,), default=None\n",
            " |          Sample weights.\n",
            " |      \n",
            " |      Returns\n",
            " |      -------\n",
            " |      score : float\n",
            " |          :math:`R^2` of ``self.predict(X)`` wrt. `y`.\n",
            " |      \n",
            " |      Notes\n",
            " |      -----\n",
            " |      The :math:`R^2` score used when calling ``score`` on a regressor uses\n",
            " |      ``multioutput='uniform_average'`` from version 0.23 to keep consistent\n",
            " |      with default value of :func:`~sklearn.metrics.r2_score`.\n",
            " |      This influences the ``score`` method of all the multioutput\n",
            " |      regressors (except for\n",
            " |      :class:`~sklearn.multioutput.MultiOutputRegressor`).\n",
            " |  \n",
            " |  ----------------------------------------------------------------------\n",
            " |  Data descriptors inherited from sklearn.base.RegressorMixin:\n",
            " |  \n",
            " |  __dict__\n",
            " |      dictionary for instance variables (if defined)\n",
            " |  \n",
            " |  __weakref__\n",
            " |      list of weak references to the object (if defined)\n",
            " |  \n",
            " |  ----------------------------------------------------------------------\n",
            " |  Methods inherited from BaseMultilayerPerceptron:\n",
            " |  \n",
            " |  fit(self, X, y)\n",
            " |      Fit the model to data matrix X and target(s) y.\n",
            " |      \n",
            " |      Parameters\n",
            " |      ----------\n",
            " |      X : ndarray or sparse matrix of shape (n_samples, n_features)\n",
            " |          The input data.\n",
            " |      \n",
            " |      y : ndarray of shape (n_samples,) or (n_samples, n_outputs)\n",
            " |          The target values (class labels in classification, real numbers in\n",
            " |          regression).\n",
            " |      \n",
            " |      Returns\n",
            " |      -------\n",
            " |      self : object\n",
            " |          Returns a trained MLP model.\n",
            " |  \n",
            " |  partial_fit(self, X, y)\n",
            " |      Update the model with a single iteration over the given data.\n",
            " |      \n",
            " |      Parameters\n",
            " |      ----------\n",
            " |      X : {array-like, sparse matrix} of shape (n_samples, n_features)\n",
            " |          The input data.\n",
            " |      \n",
            " |      y : ndarray of shape (n_samples,)\n",
            " |          The target values.\n",
            " |      \n",
            " |      Returns\n",
            " |      -------\n",
            " |      self : object\n",
            " |          Trained MLP model.\n",
            " |  \n",
            " |  ----------------------------------------------------------------------\n",
            " |  Methods inherited from sklearn.base.BaseEstimator:\n",
            " |  \n",
            " |  __getstate__(self)\n",
            " |  \n",
            " |  __repr__(self, N_CHAR_MAX=700)\n",
            " |      Return repr(self).\n",
            " |  \n",
            " |  __setstate__(self, state)\n",
            " |  \n",
            " |  get_params(self, deep=True)\n",
            " |      Get parameters for this estimator.\n",
            " |      \n",
            " |      Parameters\n",
            " |      ----------\n",
            " |      deep : bool, default=True\n",
            " |          If True, will return the parameters for this estimator and\n",
            " |          contained subobjects that are estimators.\n",
            " |      \n",
            " |      Returns\n",
            " |      -------\n",
            " |      params : dict\n",
            " |          Parameter names mapped to their values.\n",
            " |  \n",
            " |  set_params(self, **params)\n",
            " |      Set the parameters of this estimator.\n",
            " |      \n",
            " |      The method works on simple estimators as well as on nested objects\n",
            " |      (such as :class:`~sklearn.pipeline.Pipeline`). The latter have\n",
            " |      parameters of the form ``<component>__<parameter>`` so that it's\n",
            " |      possible to update each component of a nested object.\n",
            " |      \n",
            " |      Parameters\n",
            " |      ----------\n",
            " |      **params : dict\n",
            " |          Estimator parameters.\n",
            " |      \n",
            " |      Returns\n",
            " |      -------\n",
            " |      self : estimator instance\n",
            " |          Estimator instance.\n",
            "\n"
          ]
        }
      ],
      "source": [
        "help(MLPRegressor)"
      ]
    },
    {
      "cell_type": "markdown",
      "metadata": {
        "id": "hzZ1EumBJUbi"
      },
      "source": [
        "<br>"
      ]
    },
    {
      "cell_type": "markdown",
      "metadata": {
        "id": "TCX2SqZIJUbi"
      },
      "source": [
        "### 4.2.5 Modelization function  <a name=\"four-two-five\"></a>"
      ]
    },
    {
      "cell_type": "markdown",
      "metadata": {
        "id": "ll3G-MDSJUbi"
      },
      "source": [
        "Then we create a function that wraps `extract_n_dev` and `MLPRegressor`. We will include it into the overall process:"
      ]
    },
    {
      "cell_type": "code",
      "execution_count": 49,
      "metadata": {
        "ExecuteTime": {
          "end_time": "2019-10-08T13:05:40.331613Z",
          "start_time": "2019-10-08T13:05:40.324575Z"
        },
        "id": "in8E4o1KJUbj"
      },
      "outputs": [],
      "source": [
        "def build_n_mlp(\n",
        "    individual_claims_db\n",
        "    , dev\n",
        "    , use_outstanding = True\n",
        "    , **kwarg):\n",
        "    \n",
        "    X_1, y_1 = extract_n_dev(individual_claims_db, dev, \"Paid\")\n",
        "    \n",
        "    # If we use the outstanding variable, our networks will have 2 times more variables as input and 2 variables as output.\n",
        "    # It needs to be taken into account. The MLPRegressor function will understand how much output we want.\n",
        "    # Depending on the shape of the response variable that we use in order to fit it.\n",
        "    if(use_outstanding):\n",
        "        X_2, y_2 = extract_n_dev(individual_claims_db, dev, \"Outstanding\")\n",
        "        X = np.concatenate((X_1,X_2), axis = 1)\n",
        "        y = np.concatenate([y_1.reshape(-1,1), y_2.reshape(-1,1)], axis = 1)\n",
        "    else:\n",
        "        X = X_1\n",
        "        y = y_1\n",
        "    \n",
        "    MLP = MLPRegressor(**kwarg)\n",
        "    \n",
        "    # We declare the input scaler and the output scaler\n",
        "    X_scaler = MinMaxScaler()\n",
        "    y_scaler = MinMaxScaler()\n",
        "    \n",
        "    # We apply the scaling\n",
        "    X_scaled = X_scaler.fit_transform(X)\n",
        "\n",
        "    # We scale the response variable\n",
        "    if len(y.shape) == 1:\n",
        "        y_scaled = y_scaler.fit_transform(y.reshape(-1, 1))\n",
        "    else:\n",
        "        y_scaled = y_scaler.fit_transform(y)\n",
        "    \n",
        "    # We fit\n",
        "    MLP.fit(X_scaled, y_scaled)\n",
        "    return(MLP, X_scaler, y_scaler)"
      ]
    },
    {
      "cell_type": "markdown",
      "metadata": {
        "id": "xI0pVVXnJUbj"
      },
      "source": [
        "Note that one of the argument is `**kwarg`. The arguments will be then be passed to the `MLPRegressor` function. That specific syntax is equivalent to the `...` in R.\n",
        "We added a `use_outstanding` variable. This argument will be used to add the outstandings into our networks."
      ]
    },
    {
      "cell_type": "markdown",
      "metadata": {
        "id": "EmYqKuQoJUbj"
      },
      "source": [
        "<br>"
      ]
    },
    {
      "cell_type": "markdown",
      "metadata": {
        "id": "wks9lAi9JUbj"
      },
      "source": [
        "## 4.3 Machine learning practices reminder  <a name=\"four-three\"></a> "
      ]
    },
    {
      "cell_type": "markdown",
      "metadata": {
        "id": "GUOIGFe3JUbj"
      },
      "source": [
        "In this section, we remind you of the classical machine learning process. We will first split the set into a learning and a testing set. By doing this, we will be able to assess our model performances. In order to achieve it, we will need to define a measure - we choose here the mean squared error. Once the process is clear for one model, we will loop through a tuning grid and compare the models in order to extract the best one."
      ]
    },
    {
      "cell_type": "markdown",
      "metadata": {
        "id": "T6XERHK0JUbj"
      },
      "source": [
        "<br>"
      ]
    },
    {
      "cell_type": "markdown",
      "metadata": {
        "id": "bTd0P_hDJUbj"
      },
      "source": [
        "### 4.3.1 Cross Validation  <a name=\"four-three-one\"></a> "
      ]
    },
    {
      "cell_type": "markdown",
      "metadata": {
        "id": "4CmGSc-cJUbj"
      },
      "source": [
        "There are multiple ways to validate models using cross validation methods (see for more information [here](https://en.wikipedia.org/wiki/Cross-validation_(statistics)). A widely known procedure to validate models is to split the data set into two sets: a training set and a testing set. \n",
        "\n",
        "<center><img src=\"https://raw.githubusercontent.com/Reacfin/Training_Databases/main/NL_reserving_ANN/images/train_test_set.png\" width=\"600\"></center>\n",
        "\n",
        "Assume we want to take **70% of our observations to train a model and the other 30% observations to test the trained model**. In order to keep the same allocation by accident year in each of the samples, we will need to split depending on the accident year. We wrote a function to achieve this task:"
      ]
    },
    {
      "cell_type": "code",
      "execution_count": 50,
      "metadata": {
        "ExecuteTime": {
          "end_time": "2019-10-08T13:05:40.339639Z",
          "start_time": "2019-10-08T13:05:40.333574Z"
        },
        "id": "ogSE42prJUbj"
      },
      "outputs": [],
      "source": [
        "def create_training_testing(individual_claims_db, learning_prop):\n",
        "    unique_Acc = sorted(individual_claims_db[\"Acc\"].unique())\n",
        "    train_ID, test_ID = [],[]\n",
        "    for acc in unique_Acc:\n",
        "        \n",
        "        unique_ID = individual_claims_db.loc[individual_claims_db[\"Acc\"] == acc][\"ID\"].unique().tolist()\n",
        "        \n",
        "        train_ID_to_add, test_ID_to_add = train_test_split(\n",
        "            unique_ID\n",
        "            , train_size = learning_prop\n",
        "            , random_state = 0\n",
        "        )\n",
        "        \n",
        "        train_ID += train_ID_to_add\n",
        "        test_ID += test_ID_to_add\n",
        "        \n",
        "    return(individual_claims_db.loc[individual_claims_db[\"ID\"].isin(train_ID)].sort_index()\n",
        "            , individual_claims_db.loc[individual_claims_db[\"ID\"].isin(test_ID)].sort_index())"
      ]
    },
    {
      "cell_type": "markdown",
      "metadata": {
        "id": "eOQvnjZwJUbk"
      },
      "source": [
        "This function is wrapping the `train_test_split` function offered by *sklearn*. This function will achieve a split depending a given proportion (specified by the `train_size` argument)."
      ]
    },
    {
      "cell_type": "markdown",
      "metadata": {
        "id": "vKXvqI0xJUbk"
      },
      "source": [
        "We chose our parameters:"
      ]
    },
    {
      "cell_type": "code",
      "execution_count": 51,
      "metadata": {
        "ExecuteTime": {
          "end_time": "2019-10-08T13:05:40.346640Z",
          "start_time": "2019-10-08T13:05:40.341571Z"
        },
        "id": "hsT17HaFJUbk"
      },
      "outputs": [],
      "source": [
        "learning_proportion = 0.7\n",
        "dev_year = 2\n",
        "working_sample = Sample1"
      ]
    },
    {
      "cell_type": "markdown",
      "metadata": {
        "id": "XJR23WXeJUbk"
      },
      "source": [
        "<br>"
      ]
    },
    {
      "cell_type": "markdown",
      "metadata": {
        "id": "13huuQa4JUbk"
      },
      "source": [
        "Applied to Sample 1, it gives the two sets as a tuple:"
      ]
    },
    {
      "cell_type": "code",
      "execution_count": 52,
      "metadata": {
        "ExecuteTime": {
          "end_time": "2019-10-08T13:05:40.387599Z",
          "start_time": "2019-10-08T13:05:40.348570Z"
        },
        "colab": {
          "base_uri": "https://localhost:8080/"
        },
        "id": "oWZwpUnlJUbk",
        "outputId": "4785ef3d-9ed1-4b77-b54f-311cbc1c469e"
      },
      "outputs": [
        {
          "output_type": "stream",
          "name": "stdout",
          "text": [
            "Observed training proportion : 0.7 Observed testing proportion : 0.3\n"
          ]
        }
      ],
      "source": [
        "train, test = create_training_testing(working_sample, learning_proportion)\n",
        "print(\"Observed training proportion :\", len(train)/len(working_sample), \"Observed testing proportion :\", len(test)/len(working_sample))"
      ]
    },
    {
      "cell_type": "markdown",
      "metadata": {
        "id": "9xgI35QAJUbk"
      },
      "source": [
        "<br>"
      ]
    },
    {
      "cell_type": "markdown",
      "metadata": {
        "id": "fs3yy3ObJUbl"
      },
      "source": [
        "Now, we train a model on the training set:"
      ]
    },
    {
      "cell_type": "code",
      "execution_count": 87,
      "metadata": {
        "ExecuteTime": {
          "end_time": "2019-10-08T13:05:40.740584Z",
          "start_time": "2019-10-08T13:05:40.389575Z"
        },
        "scrolled": true,
        "colab": {
          "base_uri": "https://localhost:8080/"
        },
        "id": "UkMTi-mrJUbl",
        "outputId": "8f75710a-116e-4922-8861-2b7af86c9efc"
      },
      "outputs": [
        {
          "output_type": "stream",
          "name": "stdout",
          "text": [
            "Iteration 1, loss = 0.01396992\n",
            "Iteration 2, loss = 0.00759360\n",
            "Iteration 3, loss = 0.00716278\n",
            "Iteration 4, loss = 0.00711301\n",
            "Iteration 5, loss = 0.00706680\n",
            "Iteration 6, loss = 0.00705561\n",
            "Iteration 7, loss = 0.00702573\n",
            "Iteration 8, loss = 0.00700060\n",
            "Iteration 9, loss = 0.00698994\n",
            "Iteration 10, loss = 0.00698535\n",
            "Iteration 11, loss = 0.00698601\n",
            "Iteration 12, loss = 0.00698531\n",
            "Iteration 13, loss = 0.00698577\n",
            "Iteration 14, loss = 0.00699021\n",
            "Training loss did not improve more than tol=0.000100 for 10 consecutive epochs. Stopping.\n"
          ]
        }
      ],
      "source": [
        "model, X_scaler, y_scaler = build_n_mlp(\n",
        "    individual_claims_db=train\n",
        "    , n_iter_no_change= 10\n",
        "    , dev = dev_year\n",
        "    , hidden_layer_sizes= (100)\n",
        "    , activation= 'relu'\n",
        "    , max_iter=500\n",
        "    , verbose= True\n",
        "    , use_outstanding = False\n",
        ")"
      ]
    },
    {
      "cell_type": "markdown",
      "metadata": {
        "id": "eq13F6pMJUbl"
      },
      "source": [
        "We predict using the `predict` function argument once we have split the test set into its inputs and its outputs:"
      ]
    },
    {
      "cell_type": "code",
      "execution_count": 54,
      "metadata": {
        "ExecuteTime": {
          "end_time": "2019-10-08T13:05:40.756622Z",
          "start_time": "2019-10-08T13:05:40.742585Z"
        },
        "id": "0AugJqFsJUbl"
      },
      "outputs": [],
      "source": [
        "test_input, test_output = extract_n_dev(test, dev_year, \"Paid\")\n",
        "prediction = y_scaler.inverse_transform(model.predict(X_scaler.transform(test_input)).reshape(-1,1))[:,0]"
      ]
    },
    {
      "cell_type": "markdown",
      "metadata": {
        "id": "dFrQjTGbJUbl"
      },
      "source": [
        "A common practice is to display the predicted values in function of the observed ones:"
      ]
    },
    {
      "cell_type": "code",
      "execution_count": 55,
      "metadata": {
        "ExecuteTime": {
          "end_time": "2019-10-08T13:05:40.926584Z",
          "start_time": "2019-10-08T13:05:40.757586Z"
        },
        "colab": {
          "base_uri": "https://localhost:8080/",
          "height": 621
        },
        "id": "1HwBuI73JUbl",
        "outputId": "52e4bf26-4014-42ad-fdd7-7c963b21d310"
      },
      "outputs": [
        {
          "output_type": "display_data",
          "data": {
            "text/plain": [
              "<Figure size 720x720 with 1 Axes>"
            ],
            "image/png": "[encoded data removed]"
          },
          "metadata": {
            "needs_background": "light"
          }
        }
      ],
      "source": [
        "def pred_vs_obs_plot(pred, obs):\n",
        "    plt.figure(figsize=(10,10))\n",
        "    plt.scatter(x = obs, y = pred)\n",
        "    the_min = min(min(pred), min(obs))\n",
        "    the_max = max(max(pred), max(obs))\n",
        "    plt.axis([the_min, the_max, the_min, the_max])\n",
        "    plt.xlabel(\"Observed\"); plt.ylabel(\"Predicted\"); plt.title(\"Predicted vs Observed plot\")\n",
        "    plt.plot([the_min,the_max], [the_min, the_max])\n",
        "    plt.show()\n",
        "\n",
        "pred_vs_obs_plot(prediction, test_output)"
      ]
    },
    {
      "cell_type": "markdown",
      "metadata": {
        "id": "thvqCkNUJUbl"
      },
      "source": [
        "Of course, we can do the same graph for the learning sample in order to inspect whether we learnt well or not:"
      ]
    },
    {
      "cell_type": "code",
      "execution_count": 56,
      "metadata": {
        "ExecuteTime": {
          "end_time": "2019-10-08T13:05:41.119590Z",
          "start_time": "2019-10-08T13:05:40.927593Z"
        },
        "colab": {
          "base_uri": "https://localhost:8080/",
          "height": 621
        },
        "id": "WW7eHwXKJUbm",
        "outputId": "31a9fea9-b16c-4647-d604-9c6ec0947ed2"
      },
      "outputs": [
        {
          "output_type": "display_data",
          "data": {
            "text/plain": [
              "<Figure size 720x720 with 1 Axes>"
            ],
            "image/png": "[encoded data removed]"
          },
          "metadata": {
            "needs_background": "light"
          }
        }
      ],
      "source": [
        "train_input, train_output = extract_n_dev(train, dev_year, \"Paid\")\n",
        "prediction = y_scaler.inverse_transform(model.predict(X_scaler.transform(train_input)).reshape(-1,1))\n",
        "\n",
        "pred_vs_obs_plot(prediction, train_output)"
      ]
    },
    {
      "cell_type": "markdown",
      "metadata": {
        "id": "ue0RsXWrJUbm"
      },
      "source": [
        "The closer the points are to the first bisectrix of the plane, the better the accuracy of the predictions."
      ]
    },
    {
      "cell_type": "markdown",
      "metadata": {
        "id": "2v1EWKc0JUbm"
      },
      "source": [
        "In order to better understand what happens, we print a scatter plot of the payments `Paid` for the second development year in function of the first development year: "
      ]
    },
    {
      "cell_type": "code",
      "execution_count": 57,
      "metadata": {
        "ExecuteTime": {
          "end_time": "2019-10-08T13:05:41.262588Z",
          "start_time": "2019-10-08T13:05:41.120593Z"
        },
        "colab": {
          "base_uri": "https://localhost:8080/",
          "height": 607
        },
        "id": "hzgFj8-WJUbm",
        "outputId": "de499f62-fcf0-46d4-f17b-a734c15554e5"
      },
      "outputs": [
        {
          "output_type": "display_data",
          "data": {
            "text/plain": [
              "<Figure size 720x720 with 1 Axes>"
            ],
            "image/png": "[encoded data removed]"
          },
          "metadata": {
            "needs_background": "light"
          }
        }
      ],
      "source": [
        "plt.figure(figsize = [10,10])\n",
        "plt.scatter(x = Sample1.loc[Sample1[\"Dev\"] == 1][\"Paid\"][0:600], y = Sample1.loc[Sample1[\"Dev\"] == 2][\"Paid\"][0:600])\n",
        "plt.title(\"Sample1 : Dev 2 in function of Dev 1\")\n",
        "plt.show()"
      ]
    },
    {
      "cell_type": "markdown",
      "metadata": {
        "id": "FoF0vxJ3JUbm"
      },
      "source": [
        "<br>"
      ]
    },
    {
      "cell_type": "markdown",
      "metadata": {
        "id": "5A2j0hhyJUbm"
      },
      "source": [
        "<hr>\n",
        "<center> <h4>  - Exercise  -  <h4/>  </center>\n",
        "    \n",
        "By observing the previous plot, we know that working with the payments only is not enough. Even if we have many values, those weigths in 0 are not predictable. We need more information to add to our model, which we **find in the outstanding claim amounts**.\n",
        "\n",
        "In order to \"create a feeling\", we invite you to fit the neural networks and to find, for which development year, a parameter can be better than another one.\n",
        "\n",
        "We have a first set of parameters, **directly linked to the data**:\n",
        "\n",
        "* The development year `dev_year`\n",
        "* The sample you are working with `Sample`\n",
        "* The train/test proportion `train_proportion`"
      ]
    },
    {
      "cell_type": "code",
      "execution_count": 58,
      "metadata": {
        "ExecuteTime": {
          "end_time": "2019-10-08T13:05:41.302589Z",
          "start_time": "2019-10-08T13:05:41.263592Z"
        },
        "id": "DYJ6ZWgyJUbm"
      },
      "outputs": [],
      "source": [
        "dev_year = 2\n",
        "Sample = Sample1\n",
        "train_proportion = 0.7\n",
        "\n",
        "train, test = create_training_testing(Sample, train_proportion)"
      ]
    },
    {
      "cell_type": "markdown",
      "metadata": {
        "id": "K4yrVr2eJUbm"
      },
      "source": [
        "We have a second set of parameters, **directly linked to the model**:\n",
        "\n",
        "- `activation`\n",
        "- `n_iter_no_change`\n",
        "- `max_iter`\n",
        "- `hidden_layer_sizes`"
      ]
    },
    {
      "cell_type": "code",
      "execution_count": 59,
      "metadata": {
        "ExecuteTime": {
          "end_time": "2019-10-08T13:05:41.558606Z",
          "start_time": "2019-10-08T13:05:41.303589Z"
        },
        "scrolled": true,
        "colab": {
          "base_uri": "https://localhost:8080/"
        },
        "id": "lp9pNWWPJUbm",
        "outputId": "b8e1e731-7ad6-4de8-c807-e42a7ff2918f"
      },
      "outputs": [
        {
          "output_type": "stream",
          "name": "stdout",
          "text": [
            "Iteration 1, loss = 0.01836832\n",
            "Iteration 2, loss = 0.00701536\n",
            "Iteration 3, loss = 0.00664872\n",
            "Iteration 4, loss = 0.00649846\n",
            "Iteration 5, loss = 0.00645652\n",
            "Iteration 6, loss = 0.00643556\n",
            "Iteration 7, loss = 0.00642471\n",
            "Iteration 8, loss = 0.00642086\n",
            "Iteration 9, loss = 0.00641602\n",
            "Iteration 10, loss = 0.00641480\n",
            "Iteration 11, loss = 0.00641614\n",
            "Iteration 12, loss = 0.00640810\n",
            "Iteration 13, loss = 0.00640690\n",
            "Iteration 14, loss = 0.00641180\n",
            "Iteration 15, loss = 0.00641070\n",
            "Training loss did not improve more than tol=0.000100 for 10 consecutive epochs. Stopping.\n"
          ]
        }
      ],
      "source": [
        "model, X_scaler, y_scaler = build_n_mlp(\n",
        "    individual_claims_db=train\n",
        "    , n_iter_no_change= 10\n",
        "    , dev = dev_year\n",
        "    , hidden_layer_sizes= (100)\n",
        "    , activation= 'relu'\n",
        "    , max_iter=500\n",
        "    , verbose= True\n",
        "    , use_outstanding = True\n",
        ")"
      ]
    },
    {
      "cell_type": "markdown",
      "metadata": {
        "id": "MemAz4y6JUbm"
      },
      "source": [
        "Then, we prepare the data in order to graph the predicted vs observed scatter plot:"
      ]
    },
    {
      "cell_type": "code",
      "execution_count": 60,
      "metadata": {
        "ExecuteTime": {
          "end_time": "2019-10-08T13:05:41.578591Z",
          "start_time": "2019-10-08T13:05:41.559592Z"
        },
        "id": "gfGtiG8HJUbn"
      },
      "outputs": [],
      "source": [
        "# As shown earlier, we need to merge the Paid and Outstanding variables in order to include both of them in the \n",
        "# modelization\n",
        "test_input_1, test_output_1 = extract_n_dev(test, dev_year, \"Paid\")\n",
        "test_input_2, test_output_2 = extract_n_dev(test, dev_year, \"Outstanding\")\n",
        "X = np.concatenate((test_input_1,test_input_2), axis = 1)\n",
        "y = np.concatenate([test_output_1.reshape(-1,1), test_output_2.reshape(-1,1)], axis = 1)"
      ]
    },
    {
      "cell_type": "markdown",
      "metadata": {
        "id": "WiJk_JFiJUbn"
      },
      "source": [
        "We predict:"
      ]
    },
    {
      "cell_type": "code",
      "execution_count": 61,
      "metadata": {
        "ExecuteTime": {
          "end_time": "2019-10-08T13:05:41.587597Z",
          "start_time": "2019-10-08T13:05:41.579591Z"
        },
        "id": "fqgGVUdcJUbn"
      },
      "outputs": [],
      "source": [
        "prediction = y_scaler.inverse_transform(model.predict(X_scaler.transform(X)))"
      ]
    },
    {
      "cell_type": "markdown",
      "metadata": {
        "id": "9oQoUZomJUbn"
      },
      "source": [
        "We keep only the `Paid` column:"
      ]
    },
    {
      "cell_type": "code",
      "execution_count": 62,
      "metadata": {
        "ExecuteTime": {
          "end_time": "2019-10-08T13:05:41.591590Z",
          "start_time": "2019-10-08T13:05:41.588593Z"
        },
        "id": "40BNc7InJUbn"
      },
      "outputs": [],
      "source": [
        "prediction = prediction[:,0]"
      ]
    },
    {
      "cell_type": "markdown",
      "metadata": {
        "id": "KM_N6NngJUbn"
      },
      "source": [
        "We do the same for the testing set outputs:"
      ]
    },
    {
      "cell_type": "code",
      "execution_count": 63,
      "metadata": {
        "ExecuteTime": {
          "end_time": "2019-10-08T13:05:41.597594Z",
          "start_time": "2019-10-08T13:05:41.593591Z"
        },
        "id": "C_oXG7Y4JUbn"
      },
      "outputs": [],
      "source": [
        "y = y[:,0]"
      ]
    },
    {
      "cell_type": "markdown",
      "metadata": {
        "id": "Y4km4Pr_JUbn"
      },
      "source": [
        "<br>"
      ]
    },
    {
      "cell_type": "markdown",
      "metadata": {
        "id": "8zS4L2_YJUbn"
      },
      "source": [
        "**We perform predicted versus observed plot for both training and testing set in order to appreciate the calibrations**"
      ]
    },
    {
      "cell_type": "markdown",
      "metadata": {
        "ExecuteTime": {
          "end_time": "2019-09-26T12:14:33.462350Z",
          "start_time": "2019-09-26T12:14:33.458351Z"
        },
        "id": "4-N4luEAJUbn"
      },
      "source": [
        "<u>On the testing set:</u>"
      ]
    },
    {
      "cell_type": "code",
      "execution_count": 64,
      "metadata": {
        "ExecuteTime": {
          "end_time": "2019-10-08T13:05:41.759591Z",
          "start_time": "2019-10-08T13:05:41.598599Z"
        },
        "scrolled": false,
        "colab": {
          "base_uri": "https://localhost:8080/",
          "height": 621
        },
        "id": "E0O7tFjWJUbn",
        "outputId": "c3963ab5-7749-4b23-c25c-33c93cde0059"
      },
      "outputs": [
        {
          "output_type": "display_data",
          "data": {
            "text/plain": [
              "<Figure size 720x720 with 1 Axes>"
            ],
            "image/png": "[encoded data removed]"
          },
          "metadata": {
            "needs_background": "light"
          }
        }
      ],
      "source": [
        "pred_vs_obs_plot(prediction, y)"
      ]
    },
    {
      "cell_type": "markdown",
      "metadata": {
        "id": "gSf4XKtSJUbn"
      },
      "source": [
        "<u>On the training set:</u>"
      ]
    },
    {
      "cell_type": "code",
      "execution_count": 65,
      "metadata": {
        "ExecuteTime": {
          "end_time": "2019-10-08T13:05:41.975632Z",
          "start_time": "2019-10-08T13:05:41.760593Z"
        },
        "colab": {
          "base_uri": "https://localhost:8080/",
          "height": 621
        },
        "id": "4ua-hRF6JUbo",
        "outputId": "54fd7d91-60b4-4291-c425-17a7e09348df"
      },
      "outputs": [
        {
          "output_type": "display_data",
          "data": {
            "text/plain": [
              "<Figure size 720x720 with 1 Axes>"
            ],
            "image/png": "[encoded data removed]"
          },
          "metadata": {
            "needs_background": "light"
          }
        }
      ],
      "source": [
        "train_input_1, train_output_1 = extract_n_dev(train, dev_year, \"Paid\")\n",
        "train_input_2, train_output_2 = extract_n_dev(train, dev_year, \"Outstanding\")\n",
        "\n",
        "X_train = np.concatenate((train_input_1,train_input_2), axis = 1)\n",
        "y_train = np.concatenate([train_output_1.reshape(-1,1), train_output_2.reshape(-1,1)], axis = 1)\n",
        "prediction = y_scaler.inverse_transform(model.predict(X_scaler.transform(X_train)))\n",
        "prediction = [tmp[0] for tmp in prediction]\n",
        "y_train = [tmp[0] for tmp in y_train]\n",
        "\n",
        "pred_vs_obs_plot(prediction, y_train)"
      ]
    },
    {
      "cell_type": "markdown",
      "metadata": {
        "ExecuteTime": {
          "end_time": "2019-09-26T12:51:56.654459Z",
          "start_time": "2019-09-26T12:51:56.649487Z"
        },
        "id": "HxnAsrvWJUbo"
      },
      "source": [
        "<hr>"
      ]
    },
    {
      "cell_type": "markdown",
      "metadata": {
        "id": "UKw-WHquJUbo"
      },
      "source": [
        "<br>"
      ]
    },
    {
      "cell_type": "markdown",
      "metadata": {
        "id": "rqT5_2oTJUbo"
      },
      "source": [
        "### 4.3.2 MSE - Assess the performances <a name=\"four-three-two\"></a>"
      ]
    },
    {
      "cell_type": "markdown",
      "metadata": {
        "id": "u6sMa0aTJUbo"
      },
      "source": [
        "The Mean Squared Error or MSE is the average of the squared differences between the prediction and the reality. Assuming $X$ and $Y$ are two vectors of the same length, we have:\n",
        "\n",
        "$$MSE(X,Y) = \\frac{1}{n} \\sum_{i\\in{1,...,n}}(X_i-Y_i)^2$$\n",
        "\n",
        "Where:\n",
        "\n",
        "* $n$ is the length of $X$ or $Y$\n",
        "* $X_i$, $Y_i$ the $i^{th}$ value of $X$, $Y$."
      ]
    },
    {
      "cell_type": "markdown",
      "metadata": {
        "id": "yS3xnakWJUbo"
      },
      "source": [
        "This measure is used in practice to compute how far our predictions are from the reality. Therefore, the lower the MSE, the better our predictions will be. We declare a `mse` function as follows:"
      ]
    },
    {
      "cell_type": "code",
      "execution_count": 66,
      "metadata": {
        "ExecuteTime": {
          "end_time": "2019-10-08T13:05:41.980614Z",
          "start_time": "2019-10-08T13:05:41.977593Z"
        },
        "code_folding": [],
        "id": "iADxHvaDJUbo"
      },
      "outputs": [],
      "source": [
        "def mse(x,y):\n",
        "    return sum((np.array(x) - np.array(y))**2)/len(x)"
      ]
    },
    {
      "cell_type": "markdown",
      "metadata": {
        "id": "cqetfRhOJUbo"
      },
      "source": [
        "Then, we can use it to compute the MSE between our observations and the prediction:"
      ]
    },
    {
      "cell_type": "code",
      "execution_count": 67,
      "metadata": {
        "ExecuteTime": {
          "end_time": "2019-10-08T13:05:41.991596Z",
          "start_time": "2019-10-08T13:05:41.982597Z"
        },
        "scrolled": true,
        "colab": {
          "base_uri": "https://localhost:8080/"
        },
        "id": "KE4YQA2DJUbo",
        "outputId": "928aedc7-eb96-469e-8554-129e09a673ea"
      },
      "outputs": [
        {
          "output_type": "execute_result",
          "data": {
            "text/plain": [
              "30515034603.93707"
            ]
          },
          "metadata": {},
          "execution_count": 67
        }
      ],
      "source": [
        "mse(prediction, y_train)"
      ]
    },
    {
      "cell_type": "markdown",
      "metadata": {
        "id": "yHzVEQcIJUbo"
      },
      "source": [
        "**Note that the value of the MSE has not that much interest in itself, our aim is only to reduce it. This is the aim of the next part.**"
      ]
    },
    {
      "cell_type": "markdown",
      "metadata": {
        "id": "07fGZE4mJUbo"
      },
      "source": [
        "<br>"
      ]
    },
    {
      "cell_type": "markdown",
      "metadata": {
        "id": "ckxlEdqCJUbp"
      },
      "source": [
        "### 4.3.3 Tuning grids <a name=\"four-three-three\"></a>"
      ]
    },
    {
      "cell_type": "markdown",
      "metadata": {
        "id": "ij_dYi1RJUbp"
      },
      "source": [
        "Let us consider that the underlying hyperparameters of our model are mathematically denoted by $hp_1$, $hp_2$, ..., $hp_p$. Then the best hyperparameters are the ones that verify the following:\n",
        "\n",
        "$$\\fbox{$argmin_{hp_1, hp_2, ..., hp_p}(mse(f(X, y, hp_1, hp_2, ..., hp_p), observed\\_values))$}.$$\n",
        "\n",
        "<br>\n",
        "\n",
        "The tuning grid consists of creating a hyperparameters space where we will run the model on each point in order to find the best combination:"
      ]
    },
    {
      "cell_type": "code",
      "execution_count": 68,
      "metadata": {
        "ExecuteTime": {
          "end_time": "2019-10-08T13:05:41.997597Z",
          "start_time": "2019-10-08T13:05:41.993596Z"
        },
        "id": "IcC7xgU_JUbp"
      },
      "outputs": [],
      "source": [
        "param_grid = {'hidden_layer_sizes': [(55,), (60,), (65),],\n",
        "              'activation': ['relu',],\n",
        "              'learning_rate_init': [0.1, 0.5, 0.05 ,0.01, 0.005, 0.001],\n",
        "              'max_iter' : [500],\n",
        "              \"n_iter_no_change\" : [40, 50, 60],\n",
        "              \"learning_rate\" : [\"constant\", \"invscaling\", \"adaptive\"]\n",
        "             }"
      ]
    },
    {
      "cell_type": "markdown",
      "metadata": {
        "id": "_ZOGxYAeJUbp"
      },
      "source": [
        "This parameters grid admits the following number of combinations:"
      ]
    },
    {
      "cell_type": "code",
      "execution_count": 69,
      "metadata": {
        "ExecuteTime": {
          "end_time": "2019-10-08T13:05:42.005624Z",
          "start_time": "2019-10-08T13:05:42.000597Z"
        },
        "colab": {
          "base_uri": "https://localhost:8080/"
        },
        "id": "iCW4pRxQJUbp",
        "outputId": "3ca150ff-bfd9-4464-9802-fd5fbbc34616"
      },
      "outputs": [
        {
          "output_type": "execute_result",
          "data": {
            "text/plain": [
              "162"
            ]
          },
          "metadata": {},
          "execution_count": 69
        }
      ],
      "source": [
        "np.prod([len(tmp) for tmp in param_grid.values()])"
      ]
    },
    {
      "cell_type": "markdown",
      "metadata": {
        "id": "GS99wBqwJUbp"
      },
      "source": [
        "<br>"
      ]
    },
    {
      "cell_type": "markdown",
      "metadata": {
        "id": "bAqhxVftJUbp"
      },
      "source": [
        "Before industrializing the process, we create two functions we will use to prepare our data.\n",
        "\n",
        "* `prepare_train_data` aims is to extract the right part of the triangle, to scale, and to return the scalers\n",
        "* `prepare_test_data` will extract the right part of the triangle, and will use the `prepare_train_data` scalers to scale the data."
      ]
    },
    {
      "cell_type": "code",
      "execution_count": 70,
      "metadata": {
        "ExecuteTime": {
          "end_time": "2019-10-08T13:05:42.015637Z",
          "start_time": "2019-10-08T13:05:42.007593Z"
        },
        "code_folding": [],
        "id": "CdtL6mRJJUbp"
      },
      "outputs": [],
      "source": [
        "def prepare_train_data(individual_claims_db, dev, use_outstanding = True):\n",
        "    \n",
        "    X_1, y_1 = extract_n_dev(individual_claims_db, dev, \"Paid\")\n",
        "\n",
        "    if(use_outstanding):\n",
        "        X_2, y_2 = extract_n_dev(individual_claims_db, dev, \"Outstanding\")\n",
        "        X = np.concatenate((X_1,X_2), axis = 1)\n",
        "        y = np.concatenate([y_1.reshape(-1,1), y_2.reshape(-1,1)], axis = 1)\n",
        "        \n",
        "    else:\n",
        "        X, y = X_1, y_1\n",
        "        y = y_1\n",
        "    \n",
        "    # We declare the input scaler and the output scaler\n",
        "    X_scaler, y_scaler = MinMaxScaler(), MinMaxScaler()\n",
        "    \n",
        "    # We apply the scaling\n",
        "    X_scaled = X_scaler.fit_transform(X)\n",
        "\n",
        "    # We scale the response variable\n",
        "    if len(y.shape) == 1:\n",
        "        y_scaled = y_scaler.fit_transform(y.reshape(-1, 1))\n",
        "    else:\n",
        "        y_scaled = y_scaler.fit_transform(y)\n",
        "        \n",
        "    return(X_scaled, y_scaled, X_scaler, y_scaler)"
      ]
    },
    {
      "cell_type": "code",
      "execution_count": 71,
      "metadata": {
        "ExecuteTime": {
          "end_time": "2019-10-08T13:05:42.025598Z",
          "start_time": "2019-10-08T13:05:42.017596Z"
        },
        "code_folding": [],
        "id": "3gC55PZPJUbp"
      },
      "outputs": [],
      "source": [
        "def prepare_test_data(individual_claims_db, dev, X_scaler, y_scaler, use_outstanding = True):\n",
        "    \n",
        "    X_1, y_1 = extract_n_dev(individual_claims_db, dev, \"Paid\")\n",
        "\n",
        "    if(use_outstanding):\n",
        "        X_2, y_2 = extract_n_dev(individual_claims_db, dev, \"Outstanding\")\n",
        "        X = np.concatenate((X_1,X_2), axis = 1)\n",
        "        y = np.concatenate([y_1.reshape(-1,1), y_2.reshape(-1,1)], axis = 1)\n",
        "    else:\n",
        "        X, y = X_1, y_1\n",
        "    \n",
        "    # We apply the scaling\n",
        "    X_scaled = X_scaler.transform(X)\n",
        "    # We scale the response variable\n",
        "    if len(y.shape) == 1:\n",
        "        y_scaled = y_scaler.transform(y.reshape(-1, 1))\n",
        "    else:\n",
        "        y_scaled = y_scaler.transform(y)\n",
        "        \n",
        "    return(X_scaled, y_scaled)"
      ]
    },
    {
      "cell_type": "markdown",
      "metadata": {
        "id": "5-owNzACJUbq"
      },
      "source": [
        "<br>"
      ]
    },
    {
      "cell_type": "markdown",
      "metadata": {
        "id": "x6ZKOUvKJUbq"
      },
      "source": [
        "We apply the functions, we have:"
      ]
    },
    {
      "cell_type": "code",
      "execution_count": 72,
      "metadata": {
        "ExecuteTime": {
          "end_time": "2019-10-08T13:05:42.089619Z",
          "start_time": "2019-10-08T13:05:42.026600Z"
        },
        "id": "KcX8ZTM9JUbq"
      },
      "outputs": [],
      "source": [
        "Sample1_tr, Sample1_ts = create_training_testing(Sample1, 0.7)\n",
        "X_tr, y_tr, X_scaler, y_scaler = prepare_train_data(Sample1_tr, 2)\n",
        "X_ts, y_ts = prepare_test_data(Sample1_ts, 2, X_scaler, y_scaler)"
      ]
    },
    {
      "cell_type": "markdown",
      "metadata": {
        "id": "9neWfHriJUbq"
      },
      "source": [
        "<br>"
      ]
    },
    {
      "cell_type": "markdown",
      "metadata": {
        "id": "oo4JBNehJUbq"
      },
      "source": [
        "We will concatenate the training and testing data. We will need to specify which part is comming from the training set and which part is comming from the test set. The index will be wrapped in `PredefinedSplit` function. It will let us a hand on the scaling system."
      ]
    },
    {
      "cell_type": "code",
      "execution_count": 73,
      "metadata": {
        "ExecuteTime": {
          "end_time": "2019-10-08T13:05:42.095594Z",
          "start_time": "2019-10-08T13:05:42.090593Z"
        },
        "id": "8KnD7cAtJUbq"
      },
      "outputs": [],
      "source": [
        "X, y = np.concatenate([X_tr, X_ts]),  np.concatenate([y_tr, y_ts])\n",
        "ps = PredefinedSplit(np.append(np.full(X_tr.shape[0], -1, dtype= int),np.full(X_ts.shape[0], 0, dtype= int)))"
      ]
    },
    {
      "cell_type": "markdown",
      "metadata": {
        "id": "GN-nk5QLJUbq"
      },
      "source": [
        "<br>"
      ]
    },
    {
      "cell_type": "markdown",
      "metadata": {
        "id": "x0ui3g10JUbq"
      },
      "source": [
        "We declare the model we will use:"
      ]
    },
    {
      "cell_type": "code",
      "execution_count": 74,
      "metadata": {
        "ExecuteTime": {
          "end_time": "2019-10-08T13:05:42.101606Z",
          "start_time": "2019-10-08T13:05:42.097597Z"
        },
        "scrolled": true,
        "id": "4KOu3aPZJUbq"
      },
      "outputs": [],
      "source": [
        "MLP = MLPRegressor( random_state= 0)"
      ]
    },
    {
      "cell_type": "markdown",
      "metadata": {
        "id": "RNmv8zYsJUbq"
      },
      "source": [
        "<br>"
      ]
    },
    {
      "cell_type": "markdown",
      "metadata": {
        "id": "-5mJBFxHJUbq"
      },
      "source": [
        "Then, we wrap the model into the `GridSearchCV` function. We have the following parameters:\n",
        "\n",
        "* `param_grid`: the parameters grid used.\n",
        "* `cv`: the retained cross-validation. Here we pre-setted the cross validation index.\n",
        "* `scoring` the scoring function (see [the documentation here](https://scikit-learn.org/stable/modules/model_evaluation.html#scoring-parameter)). We will use \"neg_mean_squared_error\" which involves minimising a mean squared error."
      ]
    },
    {
      "cell_type": "code",
      "execution_count": 75,
      "metadata": {
        "ExecuteTime": {
          "end_time": "2019-10-08T13:05:42.110667Z",
          "start_time": "2019-10-08T13:05:42.103597Z"
        },
        "id": "A3sjWrUBJUbr"
      },
      "outputs": [],
      "source": [
        "grid_search = GridSearchCV(MLP\n",
        "                           , param_grid = param_grid\n",
        "                           , cv=ps\n",
        "                           , scoring=\"neg_mean_squared_error\"\n",
        "                          )"
      ]
    },
    {
      "cell_type": "markdown",
      "metadata": {
        "id": "TdkSbTFgJUbr"
      },
      "source": [
        "And, we fit:"
      ]
    },
    {
      "cell_type": "code",
      "execution_count": 76,
      "metadata": {
        "ExecuteTime": {
          "end_time": "2019-10-08T13:07:48.895893Z",
          "start_time": "2019-10-08T13:05:42.112594Z"
        },
        "colab": {
          "base_uri": "https://localhost:8080/"
        },
        "id": "oBf2YFc0JUbr",
        "outputId": "5c990b85-f176-4366-d89f-20042bd6408b"
      },
      "outputs": [
        {
          "output_type": "execute_result",
          "data": {
            "text/plain": [
              "GridSearchCV(cv=PredefinedSplit(test_fold=array([-1, -1, ...,  0,  0])),\n",
              "             estimator=MLPRegressor(random_state=0),\n",
              "             param_grid={'activation': ['relu'],\n",
              "                         'hidden_layer_sizes': [(55,), (60,), 65],\n",
              "                         'learning_rate': ['constant', 'invscaling',\n",
              "                                           'adaptive'],\n",
              "                         'learning_rate_init': [0.1, 0.5, 0.05, 0.01, 0.005,\n",
              "                                                0.001],\n",
              "                         'max_iter': [500], 'n_iter_no_change': [40, 50, 60]},\n",
              "             scoring='neg_mean_squared_error')"
            ]
          },
          "metadata": {},
          "execution_count": 76
        }
      ],
      "source": [
        "grid_search.fit(X, y)"
      ]
    },
    {
      "cell_type": "markdown",
      "metadata": {
        "id": "RxCZZoUnJUbr"
      },
      "source": [
        "We can access the modelization parameters using:"
      ]
    },
    {
      "cell_type": "code",
      "execution_count": 77,
      "metadata": {
        "ExecuteTime": {
          "end_time": "2019-10-08T13:07:48.908893Z",
          "start_time": "2019-10-08T13:07:48.900855Z"
        },
        "scrolled": true,
        "colab": {
          "base_uri": "https://localhost:8080/"
        },
        "id": "k4eG_lVNJUbr",
        "outputId": "0fb08ff8-7287-4838-9449-8e5ce2ed4d41"
      },
      "outputs": [
        {
          "output_type": "execute_result",
          "data": {
            "text/plain": [
              "{'activation': 'relu',\n",
              " 'hidden_layer_sizes': (55,),\n",
              " 'learning_rate': 'constant',\n",
              " 'learning_rate_init': 0.001,\n",
              " 'max_iter': 500,\n",
              " 'n_iter_no_change': 60}"
            ]
          },
          "metadata": {},
          "execution_count": 77
        }
      ],
      "source": [
        "grid_search.best_params_"
      ]
    },
    {
      "cell_type": "markdown",
      "metadata": {
        "id": "3blAju9cJUbr"
      },
      "source": [
        "The best model is this one:"
      ]
    },
    {
      "cell_type": "code",
      "execution_count": 78,
      "metadata": {
        "ExecuteTime": {
          "end_time": "2019-10-08T13:07:48.922915Z",
          "start_time": "2019-10-08T13:07:48.911854Z"
        },
        "scrolled": true,
        "colab": {
          "base_uri": "https://localhost:8080/"
        },
        "id": "DEYvxWoyJUbr",
        "outputId": "c5264cec-5714-44ae-ed04-472a31f779b6"
      },
      "outputs": [
        {
          "output_type": "execute_result",
          "data": {
            "text/plain": [
              "MLPRegressor(hidden_layer_sizes=(55,), max_iter=500, n_iter_no_change=60,\n",
              "             random_state=0)"
            ]
          },
          "metadata": {},
          "execution_count": 78
        }
      ],
      "source": [
        "grid_search.best_estimator_"
      ]
    },
    {
      "cell_type": "markdown",
      "metadata": {
        "id": "f9kK2xtYJUbr"
      },
      "source": [
        "On the test set, we have:"
      ]
    },
    {
      "cell_type": "code",
      "execution_count": 79,
      "metadata": {
        "ExecuteTime": {
          "end_time": "2019-10-08T13:07:49.303015Z",
          "start_time": "2019-10-08T13:07:48.926862Z"
        },
        "colab": {
          "base_uri": "https://localhost:8080/",
          "height": 621
        },
        "id": "_G470luNJUbr",
        "outputId": "ab5fc498-9b94-4813-fbe5-6d241bd3a09d"
      },
      "outputs": [
        {
          "output_type": "display_data",
          "data": {
            "text/plain": [
              "<Figure size 720x720 with 1 Axes>"
            ],
            "image/png": "[encoded data removed]"
          },
          "metadata": {
            "needs_background": "light"
          }
        }
      ],
      "source": [
        "prediction = y_scaler.inverse_transform(grid_search.best_estimator_.predict(X_ts))[:,0]\n",
        "pred_vs_obs_plot(prediction, y_scaler.inverse_transform(y_ts)[:,0])"
      ]
    },
    {
      "cell_type": "markdown",
      "metadata": {
        "id": "yN_uvEgAJUbr"
      },
      "source": [
        "On the train set, we have:"
      ]
    },
    {
      "cell_type": "code",
      "execution_count": 80,
      "metadata": {
        "ExecuteTime": {
          "end_time": "2019-10-08T13:07:49.764940Z",
          "start_time": "2019-10-08T13:07:49.306972Z"
        },
        "colab": {
          "base_uri": "https://localhost:8080/",
          "height": 621
        },
        "id": "bReSUuoYJUbs",
        "outputId": "16b2cb2f-95d7-4c3f-9b3e-1e122e33b796"
      },
      "outputs": [
        {
          "output_type": "display_data",
          "data": {
            "text/plain": [
              "<Figure size 720x720 with 1 Axes>"
            ],
            "image/png": "[encoded data removed]"
          },
          "metadata": {
            "needs_background": "light"
          }
        }
      ],
      "source": [
        "prediction = y_scaler.inverse_transform(grid_search.best_estimator_.predict(X_tr))[:,0]\n",
        "pred_vs_obs_plot(prediction, y_scaler.inverse_transform(y_tr)[:,0])"
      ]
    },
    {
      "cell_type": "markdown",
      "metadata": {
        "id": "vJCVHfulJUbs"
      },
      "source": [
        "<br>"
      ]
    },
    {
      "cell_type": "markdown",
      "metadata": {
        "id": "QmBIWHiRJUbs"
      },
      "source": [
        "In order to provide you some sets of parameters, we optimized the models over the following tuning grids:"
      ]
    },
    {
      "cell_type": "code",
      "execution_count": 81,
      "metadata": {
        "ExecuteTime": {
          "end_time": "2019-10-08T13:07:49.776933Z",
          "start_time": "2019-10-08T13:07:49.768935Z"
        },
        "id": "JobS-pu0JUbs"
      },
      "outputs": [],
      "source": [
        "big_param_grid = {'hidden_layer_sizes': [(100,), (300,)],\n",
        "                  'activation': ['relu',],\n",
        "                  'learning_rate_init': [0.05 ,0.01, 0.005, 0.001],\n",
        "                  'max_iter' : [500],\n",
        "                  \"n_iter_no_change\" : [100],\n",
        "                  \"learning_rate\" : [\"adaptive\"]\n",
        "                 }"
      ]
    },
    {
      "cell_type": "markdown",
      "metadata": {
        "id": "sR8euMLnJUbs"
      },
      "source": [
        "<br>"
      ]
    },
    {
      "cell_type": "markdown",
      "metadata": {
        "id": "ZZE7qZGcJUbs"
      },
      "source": [
        "Next, we declare a function that will run every model and collect the results:"
      ]
    },
    {
      "cell_type": "code",
      "execution_count": 82,
      "metadata": {
        "ExecuteTime": {
          "end_time": "2019-10-08T13:07:49.799974Z",
          "start_time": "2019-10-08T13:07:49.781936Z"
        },
        "id": "sNrwVDAPJUbs"
      },
      "outputs": [],
      "source": [
        "def optimize_model(train, test, param_grid = big_param_grid):\n",
        "    \n",
        "    best_param = []\n",
        "    \n",
        "    for dev in range(2, 21):\n",
        "        \n",
        "        print(\"Dev: :\", dev)\n",
        "    \n",
        "        X_tr, y_tr, X_scaler, y_scaler = prepare_train_data(train, dev)\n",
        "        X_ts, y_ts = prepare_test_data(test, dev, X_scaler, y_scaler)\n",
        "        \n",
        "        X, y = np.concatenate([X_tr, X_ts]),  np.concatenate([y_tr, y_ts])\n",
        "        \n",
        "        ps = PredefinedSplit(np.append(np.full(X_tr.shape[0], -1, dtype= int),np.full(X_ts.shape[0], 0, dtype= int)))\n",
        "        \n",
        "        MLP = MLPRegressor(random_state= 0)\n",
        "        \n",
        "        grid_search = GridSearchCV(MLP\n",
        "                           , param_grid = param_grid\n",
        "                           , cv=ps\n",
        "                           , scoring=\"neg_mean_squared_error\"\n",
        "                          )\n",
        "        \n",
        "        grid_search.fit(X, y)\n",
        "        \n",
        "        best_param.append(grid_search.best_params_)\n",
        "        \n",
        "    return(best_param)"
      ]
    },
    {
      "cell_type": "markdown",
      "metadata": {
        "id": "KjtzKX9VJUbs"
      },
      "source": [
        "<br>"
      ]
    },
    {
      "cell_type": "markdown",
      "metadata": {
        "id": "7FYx1JRkJUbs"
      },
      "source": [
        "Due to some time constraints, we already ran this function on each of the samples and we stored the parameters in a dictionary. (We used the `update` argument function in order to add elements to a dictionary.):"
      ]
    },
    {
      "cell_type": "code",
      "execution_count": 83,
      "metadata": {
        "ExecuteTime": {
          "end_time": "2019-10-08T13:07:49.807941Z",
          "start_time": "2019-10-08T13:07:49.803940Z"
        },
        "id": "k29xverxJUbs"
      },
      "outputs": [],
      "source": [
        "# best_models = dict()\n",
        "\n",
        "# train, test = create_training_testing(Sample1, 0.7)\n",
        "# best_models.update({\"Sample1\" : optimize_model(train, test, big_param_grid)})\n",
        "\n",
        "# train, test = create_training_testing(Sample2, 0.7)\n",
        "# best_models.update({\"Sample2\" : optimize_model(train, test, big_param_grid)})\n",
        "\n",
        "# train, test = create_training_testing(Sample3, 0.7)\n",
        "# best_models.update({\"Sample3\" : optimize_model(train, test, big_param_grid)})\n",
        "\n",
        "# train, test = create_training_testing(Sample4, 0.7)\n",
        "# best_models.update({\"Sample4\" : optimize_model(train, test, big_param_grid)})\n",
        "\n",
        "# train, test = create_training_testing(Sample5, 0.7)\n",
        "# best_models.update({\"Sample5\" : optimize_model(train, test, big_param_grid)})"
      ]
    },
    {
      "cell_type": "markdown",
      "metadata": {
        "id": "YjoWNCeeJUbt"
      },
      "source": [
        "For instance, our optimization for Sample1 gave us:"
      ]
    },
    {
      "cell_type": "code",
      "execution_count": 84,
      "metadata": {
        "ExecuteTime": {
          "end_time": "2019-10-08T13:09:13.899954Z",
          "start_time": "2019-10-08T13:09:13.896927Z"
        },
        "scrolled": true,
        "id": "RGFyDySBJUbt"
      },
      "outputs": [],
      "source": [
        "# best_models[\"Sample1\"]"
      ]
    },
    {
      "cell_type": "markdown",
      "metadata": {
        "id": "xTtqvjxVJUbt"
      },
      "source": [
        "Please note that this process is **time consuming**. Hence, we propose you to load the parameters sets for all the samples using the *pickle* library. We saved the parameters using the `dump` *pickle* function:"
      ]
    },
    {
      "cell_type": "code",
      "execution_count": 85,
      "metadata": {
        "ExecuteTime": {
          "end_time": "2019-10-08T13:07:50.472938Z",
          "start_time": "2019-10-08T13:05:39.612Z"
        },
        "id": "IdxGCMOYJUbt"
      },
      "outputs": [],
      "source": [
        "# pickle.dump(best_models, open(os.path.join(data_folder_path, 'param_list.pickle'), 'wb'))"
      ]
    },
    {
      "cell_type": "markdown",
      "metadata": {
        "id": "j2C1coqgJUbt"
      },
      "source": [
        "<br>"
      ]
    },
    {
      "cell_type": "markdown",
      "metadata": {
        "id": "PNQUnnQKJUbt"
      },
      "source": [
        "### 4.3.4 Building the final models <a name=\"four-one\"></a>"
      ]
    },
    {
      "cell_type": "markdown",
      "metadata": {
        "id": "GY_QaVFzJUbt"
      },
      "source": [
        "Then, we apply our best neural-network on the full dataset. We first need to load the parameters lists using *pickle* library and its `load` function:"
      ]
    },
    {
      "cell_type": "code",
      "execution_count": 110,
      "metadata": {
        "ExecuteTime": {
          "end_time": "2019-10-08T13:09:18.588961Z",
          "start_time": "2019-10-08T13:09:18.585986Z"
        },
        "colab": {
          "base_uri": "https://localhost:8080/",
          "height": 165
        },
        "id": "821c5BjiJUbt",
        "outputId": "7708f55e-800e-4e9d-8e8f-2576c0c73d02"
      },
      "outputs": [
        {
          "output_type": "error",
          "ename": "FileNotFoundError",
          "evalue": "ignored",
          "traceback": [
            "\u001b[0;31m---------------------------------------------------------------------------\u001b[0m",
            "\u001b[0;31mFileNotFoundError\u001b[0m                         Traceback (most recent call last)",
            "\u001b[0;32m<ipython-input-110-305aa4417306>\u001b[0m in \u001b[0;36m<module>\u001b[0;34m\u001b[0m\n\u001b[0;32m----> 1\u001b[0;31m \u001b[0mbest_models\u001b[0m \u001b[0;34m=\u001b[0m \u001b[0mpickle\u001b[0m\u001b[0;34m.\u001b[0m\u001b[0mload\u001b[0m\u001b[0;34m(\u001b[0m\u001b[0mopen\u001b[0m\u001b[0;34m(\u001b[0m\u001b[0mos\u001b[0m\u001b[0;34m.\u001b[0m\u001b[0mpath\u001b[0m\u001b[0;34m.\u001b[0m\u001b[0mjoin\u001b[0m\u001b[0;34m(\u001b[0m\u001b[0mdata_folder_path\u001b[0m\u001b[0;34m,\u001b[0m \u001b[0;34m'param_list.pickle'\u001b[0m\u001b[0;34m)\u001b[0m\u001b[0;34m,\u001b[0m \u001b[0;34m'rb'\u001b[0m\u001b[0;34m)\u001b[0m\u001b[0;34m)\u001b[0m\u001b[0;34m\u001b[0m\u001b[0;34m\u001b[0m\u001b[0m\n\u001b[0m",
            "\u001b[0;31mFileNotFoundError\u001b[0m: [Errno 2] No such file or directory: 'https://raw.githubusercontent.com/Reacfin/Training_Databases/main/NL_reserving_ANN/data/param_list.pickle'"
          ]
        }
      ],
      "source": [
        "best_models = pickle.load(open(os.path.join(data_folder_path, 'param_list.pickle'), 'rb'))"
      ]
    },
    {
      "cell_type": "markdown",
      "metadata": {
        "id": "z6jw93q1JUbt"
      },
      "source": [
        "We define a function that will train the models using the backupped parameters list:"
      ]
    },
    {
      "cell_type": "code",
      "execution_count": null,
      "metadata": {
        "ExecuteTime": {
          "end_time": "2019-10-08T13:09:30.666201Z",
          "start_time": "2019-10-08T13:09:30.660166Z"
        },
        "id": "pReTFm08JUbt"
      },
      "outputs": [],
      "source": [
        "def build_n_mlp_list(\n",
        "    individual_claims_db\n",
        "    , param_list = []\n",
        "):\n",
        "    models = []\n",
        "    for dev in range(2, 21):\n",
        "    \n",
        "        print(\"Dev :\", dev)\n",
        "        \n",
        "        tmp_param = param_list[dev - 2]\n",
        "        new_model, new_X_scal, new_y_scal = build_n_mlp(\n",
        "            individual_claims_db=individual_claims_db\n",
        "            , dev=dev\n",
        "            , verbose= False\n",
        "            , **tmp_param\n",
        "        )\n",
        "        models.append([new_model, new_X_scal, new_y_scal])\n",
        "    return models"
      ]
    },
    {
      "cell_type": "markdown",
      "metadata": {
        "id": "hbOjVdPKJUbu"
      },
      "source": [
        "Note that we called the dictionary `tmp_param` with two `*` before. This way, the `build_n_mlp` function will take as argument the dictionary keys and as values the dictionary values.\n",
        "\n",
        "For instance:\n",
        "\n",
        "```\n",
        "my_dict = {\"param_1\": 1, \"param_2\": 2}\n",
        "f(**my_dict)\n",
        "```\n",
        "Then, `f(**my_dict)` will be understood as:\n",
        "```\n",
        "f(param_1 = 1, param_2 = 2)\n",
        "```\n"
      ]
    },
    {
      "cell_type": "markdown",
      "metadata": {
        "id": "DimZwn_OJUbu"
      },
      "source": [
        "We add a model list for each sample:"
      ]
    },
    {
      "cell_type": "code",
      "execution_count": null,
      "metadata": {
        "ExecuteTime": {
          "end_time": "2019-10-08T13:09:34.140617Z",
          "start_time": "2019-10-08T13:09:34.137633Z"
        },
        "id": "BiBP2lyTJUbu"
      },
      "outputs": [],
      "source": [
        "# models = dict()\n",
        "# models.update({\"Sample1\": build_n_mlp_list(individual_claims_db=Sample1, param_list= best_models[\"Sample1\"])})\n",
        "# models.update({\"Sample2\": build_n_mlp_list(individual_claims_db=Sample2, param_list= best_models[\"Sample2\"])})\n",
        "# models.update({\"Sample3\": build_n_mlp_list(individual_claims_db=Sample3, param_list= best_models[\"Sample3\"])})\n",
        "# models.update({\"Sample4\": build_n_mlp_list(individual_claims_db=Sample4, param_list= best_models[\"Sample4\"])})\n",
        "# models.update({\"Sample5\": build_n_mlp_list(individual_claims_db=Sample5, param_list= best_models[\"Sample5\"])})"
      ]
    },
    {
      "cell_type": "markdown",
      "metadata": {
        "id": "F1rrzsqeJUbu"
      },
      "source": [
        "We exported the models using the `dump` *pickle* function:"
      ]
    },
    {
      "cell_type": "code",
      "execution_count": null,
      "metadata": {
        "ExecuteTime": {
          "end_time": "2019-10-08T13:09:35.752456Z",
          "start_time": "2019-10-08T13:09:35.749427Z"
        },
        "id": "KkDYgMY0JUbu"
      },
      "outputs": [],
      "source": [
        "# pickle.dump(models, open(os.path.join(data_folder_path, 'model_list.pickle'), 'wb'))"
      ]
    },
    {
      "cell_type": "markdown",
      "metadata": {
        "id": "PcbkudCJJUbu"
      },
      "source": [
        "<br>"
      ]
    },
    {
      "cell_type": "markdown",
      "metadata": {
        "id": "dBOQtQxQJUbu"
      },
      "source": [
        "## 4.4 Applying neural networks  <a name=\"four-four\"></a> "
      ]
    },
    {
      "cell_type": "markdown",
      "metadata": {
        "id": "PsS34yq1JUbu"
      },
      "source": [
        "In the previous section, our models were trained and the results were stored. We can now load them by using the following command line:"
      ]
    },
    {
      "cell_type": "code",
      "execution_count": null,
      "metadata": {
        "ExecuteTime": {
          "end_time": "2019-10-08T13:09:37.766199Z",
          "start_time": "2019-10-08T13:09:37.734197Z"
        },
        "id": "4cu_nYHfJUbu"
      },
      "outputs": [],
      "source": [
        "models = pickle.load(file=open(os.path.join(data_folder_path, 'model_list.pickle'), 'rb'))"
      ]
    },
    {
      "cell_type": "markdown",
      "metadata": {
        "id": "eUbugvGNJUbu"
      },
      "source": [
        "<br>"
      ]
    },
    {
      "cell_type": "markdown",
      "metadata": {
        "id": "VkG6DevqJUbv"
      },
      "source": [
        "Now that we have all the models, we can build a function that predicts, for each model list, the payments and the outstanding claim amounts simultaneously:"
      ]
    },
    {
      "cell_type": "code",
      "execution_count": null,
      "metadata": {
        "ExecuteTime": {
          "end_time": "2019-10-08T13:09:39.088866Z",
          "start_time": "2019-10-08T13:09:39.083825Z"
        },
        "id": "Ha0mo1WUJUbv"
      },
      "outputs": [],
      "source": [
        "def continue_dev(already_paid, already_outstanded,model_list):\n",
        "    \n",
        "    for i in range(len(already_paid) +1 , 21):\n",
        "        \n",
        "        [tmp_model, tmp_X_scal, tmp_y_scal] = model_list[i-2]\n",
        "        \n",
        "        tmp_X = np.concatenate((already_paid, already_outstanded)).reshape(1, -1)\n",
        "        \n",
        "        tmp_X_scaled = tmp_X_scal.transform(tmp_X)\n",
        "        \n",
        "        tmp_predicted = tmp_y_scal.inverse_transform(tmp_model.predict(tmp_X_scaled))[0]\n",
        "        \n",
        "        already_paid.append(tmp_predicted[0])\n",
        "        \n",
        "        already_outstanded.append(tmp_predicted[1])\n",
        "\n",
        "    return(already_paid, already_outstanded)"
      ]
    },
    {
      "cell_type": "markdown",
      "metadata": {
        "id": "GbY6FZVWJUbv"
      },
      "source": [
        "<br>"
      ]
    },
    {
      "cell_type": "markdown",
      "metadata": {
        "id": "_gZYGYEHJUbv"
      },
      "source": [
        "Assuming a claim that starts at a payment of $10000$ for the first year and has an outstanding claim amount of $100000$. As prediction, we then have for Sample 1:"
      ]
    },
    {
      "cell_type": "code",
      "execution_count": null,
      "metadata": {
        "ExecuteTime": {
          "end_time": "2019-10-08T13:10:08.131662Z",
          "start_time": "2019-10-08T13:10:08.120689Z"
        },
        "scrolled": false,
        "id": "L8ZcwY06JUbv"
      },
      "outputs": [],
      "source": [
        "continue_dev([10000], [100000], model_list= models[\"Sample1\"])"
      ]
    },
    {
      "cell_type": "markdown",
      "metadata": {
        "id": "a_4tThbDJUbv"
      },
      "source": [
        "We wrap this function into a function called `continue_dev_nn`. The aim of this function is to return the completed individual claims in order to compute the ultimates and the provisions separately:"
      ]
    },
    {
      "cell_type": "code",
      "execution_count": null,
      "metadata": {
        "ExecuteTime": {
          "end_time": "2019-10-07T20:25:08.687076Z",
          "start_time": "2019-10-07T20:25:08.679052Z"
        },
        "id": "xL0AV5xXJUbv"
      },
      "outputs": [],
      "source": [
        "def continue_dev_nn(individual_claims_db, model_list):\n",
        "    # We first properly copy our dataset\n",
        "    tmp_individual_claims_db = individual_claims_db.copy(True)\n",
        "    all_ids = sorted(set(tmp_individual_claims_db.loc[:, \"ID\"].values))\n",
        "    # We prepare a matrix that will contain the completed triangle\n",
        "    # The final set which will be a list of data frame of payments per claim ID\n",
        "    final_set = []\n",
        "    # We take only the interesting columns\n",
        "    tmp_individual_claims_db = tmp_individual_claims_db[[\"ID\", \"Acc\", \"Dev\", \"Cal\", \"Paid\", \"Outstanding\"]]\n",
        "    # We loop over every ID:\n",
        "    for id in all_ids:\n",
        "        tmp_data = tmp_individual_claims_db.loc[tmp_individual_claims_db[\"ID\"] == id]\n",
        "        year = tmp_data.loc[:, \"Acc\"].values[0]\n",
        "        \n",
        "        # If the payment is not developed in 20 years, we extend it\n",
        "        if(tmp_data.shape[0] < 20):\n",
        "            already_paid = list(tmp_data.loc[:, \"Paid\"].values)\n",
        "            already_outstanded = list(tmp_data.loc[:, \"Outstanding\"].values)\n",
        "            completed_paid, completed_outstanding = continue_dev(already_paid, already_outstanded, model_list)\n",
        "        else:\n",
        "            completed_paid = tmp_data.loc[:,\"Paid\"].values\n",
        "            completed_outstanding = tmp_data.loc[:, \"Outstanding\"].values\n",
        "            \n",
        "        # Then, we create a dataframe that will contain the results :\n",
        "        tmp_data = pd.DataFrame()\n",
        "        \n",
        "        tmp_data[\"ID\"] = [id for i in range(len(completed_paid))]\n",
        "        tmp_data[\"Acc\"] = [year for i in range(len(completed_paid))]\n",
        "        tmp_data[\"Dev\"] = [i + 1 for i in range(len(completed_paid))]\n",
        "        tmp_data[\"Cal\"] = [year + i for i in range(len(completed_paid))]\n",
        "        tmp_data[\"Paid\"] = completed_paid\n",
        "        tmp_data[\"Outstanding\"] = completed_outstanding\n",
        "        \n",
        "        final_set.append(tmp_data)\n",
        "\n",
        "    # We merge each element of the data set list\n",
        "    final_set = pd.concat(final_set)\n",
        "    \n",
        "    return(final_set)"
      ]
    },
    {
      "cell_type": "markdown",
      "metadata": {
        "id": "C8pF_6w2JUbv"
      },
      "source": [
        "<br>"
      ]
    },
    {
      "cell_type": "markdown",
      "metadata": {
        "id": "rbH8N83xJUbv"
      },
      "source": [
        "For instance, the `continue_dev_nn` function applied to `Sample1`:"
      ]
    },
    {
      "cell_type": "code",
      "execution_count": null,
      "metadata": {
        "ExecuteTime": {
          "end_time": "2019-10-07T20:26:10.724824Z",
          "start_time": "2019-10-07T20:25:24.701582Z"
        },
        "id": "Uv68ZVxaJUbv"
      },
      "outputs": [],
      "source": [
        "Sample1_nn_extended = continue_dev_nn(individual_claims_db=Sample1,model_list= models[\"Sample1\"])"
      ]
    },
    {
      "cell_type": "markdown",
      "metadata": {
        "id": "58H8mL8eJUbv"
      },
      "source": [
        "Would give as provisions:"
      ]
    },
    {
      "cell_type": "code",
      "execution_count": null,
      "metadata": {
        "ExecuteTime": {
          "end_time": "2019-10-07T20:26:10.757579Z",
          "start_time": "2019-10-07T20:26:10.726545Z"
        },
        "id": "nfRtw6y7JUbw"
      },
      "outputs": [],
      "source": [
        "compute_provisions(aggregated_to_triangle(aggregate(Sample1_nn_extended, \"Paid\")))"
      ]
    },
    {
      "cell_type": "code",
      "execution_count": null,
      "metadata": {
        "ExecuteTime": {
          "end_time": "2019-10-07T20:26:10.782602Z",
          "start_time": "2019-10-07T20:26:10.759541Z"
        },
        "id": "IfZh1I-1JUbw"
      },
      "outputs": [],
      "source": [
        "sum(compute_provisions(aggregated_to_triangle(aggregate(Sample1_nn_extended, \"Paid\"))))"
      ]
    },
    {
      "cell_type": "markdown",
      "metadata": {
        "id": "SlWsLZ-kJUbw"
      },
      "source": [
        "We apply the `continue_dev_nn` function to every triangle:"
      ]
    },
    {
      "cell_type": "code",
      "execution_count": null,
      "metadata": {
        "ExecuteTime": {
          "end_time": "2019-10-07T20:30:27.156202Z",
          "start_time": "2019-10-07T20:26:10.783580Z"
        },
        "id": "D2q73S1wJUbw"
      },
      "outputs": [],
      "source": [
        "Sample2_nn_extended = continue_dev_nn(individual_claims_db=Sample2,model_list= models[\"Sample2\"])\n",
        "print(\"Sample 2 extented using NN\")\n",
        "Sample3_nn_extended = continue_dev_nn(individual_claims_db=Sample3,model_list= models[\"Sample3\"])\n",
        "print(\"Sample 3 extented using NN\")\n",
        "Sample4_nn_extended = continue_dev_nn(individual_claims_db=Sample4,model_list= models[\"Sample4\"])\n",
        "print(\"Sample 4 extented using NN\")\n",
        "Sample5_nn_extended = continue_dev_nn(individual_claims_db=Sample5,model_list= models[\"Sample5\"])\n",
        "print(\"Sample 5 extented using NN\")"
      ]
    },
    {
      "cell_type": "markdown",
      "metadata": {
        "id": "BwL9MzrKJUbw"
      },
      "source": [
        "Once we computed the provisions, we store them into the results table:"
      ]
    },
    {
      "cell_type": "code",
      "execution_count": null,
      "metadata": {
        "ExecuteTime": {
          "end_time": "2019-10-07T20:30:27.298243Z",
          "start_time": "2019-10-07T20:30:27.157197Z"
        },
        "id": "gIvwISuEJUbw"
      },
      "outputs": [],
      "source": [
        "results.at[\"Sample1\", \"NN\"] = np.sum(compute_provisions(aggregated_to_triangle(aggregate(Sample1_nn_extended, [\"Paid\"]))))\n",
        "results.at[\"Sample2\", \"NN\"] = np.sum(compute_provisions(aggregated_to_triangle(aggregate(Sample2_nn_extended, [\"Paid\"]))))\n",
        "results.at[\"Sample3\", \"NN\"] = np.sum(compute_provisions(aggregated_to_triangle(aggregate(Sample3_nn_extended, [\"Paid\"]))))\n",
        "results.at[\"Sample4\", \"NN\"] = np.sum(compute_provisions(aggregated_to_triangle(aggregate(Sample4_nn_extended, [\"Paid\"]))))\n",
        "results.at[\"Sample5\", \"NN\"] = np.sum(compute_provisions(aggregated_to_triangle(aggregate(Sample5_nn_extended, [\"Paid\"]))))\n",
        "results"
      ]
    },
    {
      "cell_type": "markdown",
      "metadata": {
        "id": "Ls6xLRZEJUbw"
      },
      "source": [
        "<br>"
      ]
    },
    {
      "cell_type": "markdown",
      "metadata": {
        "id": "fwxFhTCNJUbw"
      },
      "source": [
        "# Chapter 5 - Project Analysis <a name=\"five\"></a> "
      ]
    },
    {
      "cell_type": "markdown",
      "metadata": {
        "id": "7Wfw6rhxJUbw"
      },
      "source": [
        "For the following sections, **let us keep in mind the relative error between our models and the observed provisions**:"
      ]
    },
    {
      "cell_type": "code",
      "execution_count": null,
      "metadata": {
        "ExecuteTime": {
          "end_time": "2019-10-07T20:30:38.303918Z",
          "start_time": "2019-10-07T20:30:38.289931Z"
        },
        "id": "ks4FwniJJUbw"
      },
      "outputs": [],
      "source": [
        "relative_results = results.loc[:,[\"CL\", \"GLM\", \"NN\"]]\n",
        "relative_results[\"CL\"] = np.float64(abs(results[\"Observed\"] - results[\"CL\"])/results[\"Observed\"])\n",
        "relative_results[\"NN\"] = np.float64(abs(results[\"Observed\"] - relative_results[\"NN\"])/results[\"Observed\"])\n",
        "relative_results[\"GLM\"] = np.float64(abs(results[\"Observed\"] - relative_results[\"GLM\"])/results[\"Observed\"])\n",
        "relative_results"
      ]
    },
    {
      "cell_type": "markdown",
      "metadata": {
        "id": "T_27VJWoJUbx"
      },
      "source": [
        "In order to compare several reserving methods, we looked at an overall estimation of the provisions compared to the true “simulated” value of unpaid claims. However, we also observed the size of the overall error of prediction (in terms of MSE) of individual ultimate claim amounts and how the error is distributed by accident year."
      ]
    },
    {
      "cell_type": "markdown",
      "metadata": {
        "id": "e9zstGPcJUbx"
      },
      "source": [
        "We create a function that takes as input two completed individual claims datasets and that returns the MSE between the ultimates, **on individual claim level**, for each accident year:"
      ]
    },
    {
      "cell_type": "code",
      "execution_count": null,
      "metadata": {
        "ExecuteTime": {
          "end_time": "2019-10-07T20:30:49.495601Z",
          "start_time": "2019-10-07T20:30:49.489576Z"
        },
        "id": "7waPpvxNJUbx"
      },
      "outputs": [],
      "source": [
        "def mse_between_ultimates(individual_claims_db, reference_claims_db):\n",
        "    # We take the last dev rows:\n",
        "    tmp_db = individual_claims_db.loc[individual_claims_db[\"Dev\"] == 20]\n",
        "    tmp_db_ref = reference_claims_db.loc[reference_claims_db[\"Dev\"] == 20]\n",
        "    mses = []\n",
        "    # For each accident year, we take the individual cumulative ultimate\n",
        "    for year in range(1998, 2018):\n",
        "        \n",
        "        year_tmp_db = tmp_db.loc[tmp_db[\"Acc\"] == year]\n",
        "        year_tmp_ref = tmp_db_ref.loc[tmp_db_ref[\"Acc\"] == year]\n",
        "\n",
        "        # for each available ID, we extract the values\n",
        "        id_list = sorted(year_tmp_db.loc[:,\"ID\"].values)\n",
        "        values = []\n",
        "        values_ref = []\n",
        "        \n",
        "        for id in id_list:\n",
        "            values.append(year_tmp_db.loc[year_tmp_db[\"ID\"] == id][\"Paid\"].values[0])\n",
        "            values_ref.append(year_tmp_ref[year_tmp_ref[\"ID\"] == id][\"Paid\"].values[0])\n",
        "            \n",
        "        # We compute the mse\n",
        "        mses.append(mse(values, values_ref))\n",
        "    return(mses)"
      ]
    },
    {
      "cell_type": "markdown",
      "metadata": {
        "id": "HKKjWxd-JUbx"
      },
      "source": [
        "In order to keep some coherence for the visualisations, we create dictionaries for colours. We will call them by the `model_names` elements:"
      ]
    },
    {
      "cell_type": "code",
      "execution_count": null,
      "metadata": {
        "ExecuteTime": {
          "end_time": "2019-10-07T20:30:53.199079Z",
          "start_time": "2019-10-07T20:30:53.195035Z"
        },
        "id": "1ABAVdM5JUbx"
      },
      "outputs": [],
      "source": [
        "colors = { \"Observed\": \"#4D4F53\"\n",
        "          , \"CL\": \"#00338E\"\n",
        "          , \"GLM\": \"#FBCD21\"\n",
        "          , \"NN\" : \"#D81F27\"\n",
        "         }\n",
        "\n",
        "provision_names = { \"Observed\": \"Observed\"\n",
        "                   , \"CL\" : \"Chain Ladder\"\n",
        "                   , \"GLM\" : \"Generalized Linear Models\"\n",
        "                   , \"NN\" : \"Neural Networks\"\n",
        "                   }\n",
        "\n",
        "model_names = [\"Observed\", \"CL\", \"GLM\", \"NN\"]"
      ]
    },
    {
      "cell_type": "markdown",
      "metadata": {
        "id": "fD3uPuHJJUbx"
      },
      "source": [
        "We also declare a function that will display the provisions depending the used method:"
      ]
    },
    {
      "cell_type": "code",
      "execution_count": null,
      "metadata": {
        "ExecuteTime": {
          "end_time": "2019-10-07T20:30:53.209038Z",
          "start_time": "2019-10-07T20:30:53.204099Z"
        },
        "id": "ZfrteqFMJUbx"
      },
      "outputs": [],
      "source": [
        "def display_provision(Sample_provisions, model_names, title):\n",
        "\n",
        "    ax = plt.figure(figsize=[15,10]).gca()\n",
        "    x = np.arange(1998, 2018)\n",
        "\n",
        "    for model_name in model_names:\n",
        "        plt.plot(x, Sample_provisions[model_name], label = provision_names[model_name], color = colors[model_name])\n",
        "\n",
        "    plt.title(title)\n",
        "    plt.legend(loc = \"upper left\")\n",
        "    ax.xaxis.set_major_locator(MaxNLocator(integer=True))\n",
        "    plt.show()"
      ]
    },
    {
      "cell_type": "markdown",
      "metadata": {
        "id": "THQpSrUDJUbx"
      },
      "source": [
        "And, we will display the MSEs between the ultimates depending the used methods. As the amounts are high, we pass through a log function:"
      ]
    },
    {
      "cell_type": "code",
      "execution_count": null,
      "metadata": {
        "ExecuteTime": {
          "end_time": "2019-10-07T20:30:53.218088Z",
          "start_time": "2019-10-07T20:30:53.211036Z"
        },
        "id": "Jj6WrZ8DJUby"
      },
      "outputs": [],
      "source": [
        "def display_individual_mses(Sample_mses, title):\n",
        "\n",
        "    ax = plt.figure(figsize=[15,10]).gca()\n",
        "    x = np.arange(1998, 2018)\n",
        "\n",
        "    for k in Sample1_mses:\n",
        "            plt.plot(x, Sample_mses[k], label = provision_names[k], color = colors[k])\n",
        "\n",
        "    plt.title(title)\n",
        "    plt.legend(loc = \"upper left\")\n",
        "    ax.xaxis.set_major_locator(MaxNLocator(integer=True))\n",
        "    plt.show()"
      ]
    },
    {
      "cell_type": "markdown",
      "metadata": {
        "id": "nTTtRWX4JUby"
      },
      "source": [
        "<br>"
      ]
    },
    {
      "cell_type": "markdown",
      "metadata": {
        "id": "SdJRzKeUJUby"
      },
      "source": [
        "## 5.1 Sample 1  <a name=\"five-one\"></a> "
      ]
    },
    {
      "cell_type": "markdown",
      "metadata": {
        "id": "VXRDiu7BJUby"
      },
      "source": [
        "We compute the provisions, the MSEs:"
      ]
    },
    {
      "cell_type": "code",
      "execution_count": null,
      "metadata": {
        "ExecuteTime": {
          "end_time": "2019-10-07T20:31:10.458062Z",
          "start_time": "2019-10-07T20:30:53.220036Z"
        },
        "id": "rxC2u_0sJUby"
      },
      "outputs": [],
      "source": [
        "Sample1_provisions = {\"Observed\" : compute_provisions(aggregated_to_triangle(aggregate(Sample1_full, [\"Paid\"]))),\n",
        "                      \"CL\" : compute_provisions(aggregated_to_triangle(aggregate(Sample1_cl_extended, [\"Paid\"]))),\n",
        "                      \"GLM\": compute_provisions(aggregated_to_triangle(aggregate(Sample1_glm_extended, [\"Paid\"]))),\n",
        "                      \"NN\" : compute_provisions(aggregated_to_triangle(aggregate(Sample1_nn_extended, [\"Paid\"])))\n",
        "}\n",
        "\n",
        "Sample1_mses = {\n",
        "      \"CL\": np.log(mse_between_ultimates(Sample1_full, Sample1_cl_extended))\n",
        "    , \"GLM\" : np.log(mse_between_ultimates(Sample1_full, Sample1_glm_extended))\n",
        "    , \"NN\" : np.log(mse_between_ultimates(Sample1_full, Sample1_nn_extended))\n",
        "}"
      ]
    },
    {
      "cell_type": "code",
      "execution_count": null,
      "metadata": {
        "ExecuteTime": {
          "end_time": "2019-10-07T20:31:10.652034Z",
          "start_time": "2019-10-07T20:31:10.460036Z"
        },
        "id": "wIpMamP8JUby"
      },
      "outputs": [],
      "source": [
        "display_provision(Sample1_provisions, model_names\n",
        "                , title = \"Sample 1 - Evolution of the provision depending on the projection method used\")"
      ]
    },
    {
      "cell_type": "code",
      "execution_count": null,
      "metadata": {
        "ExecuteTime": {
          "end_time": "2019-10-07T20:31:10.833075Z",
          "start_time": "2019-10-07T20:31:10.654038Z"
        },
        "id": "TbgGYJfUJUby"
      },
      "outputs": [],
      "source": [
        "display_individual_mses(Sample1_mses, title = \"Sample 1 - Log MSE on individual ultimate claims\")"
      ]
    },
    {
      "cell_type": "markdown",
      "metadata": {
        "id": "_DS7s7EvJUby"
      },
      "source": [
        "<br>"
      ]
    },
    {
      "cell_type": "markdown",
      "metadata": {
        "id": "QjTIBC6iJUby"
      },
      "source": [
        "## 5.2 Sample 2  <a name=\"five-two\"></a> "
      ]
    },
    {
      "cell_type": "markdown",
      "metadata": {
        "id": "Gv8w9teZJUby"
      },
      "source": [
        "We compute the provisions, the MSEs:"
      ]
    },
    {
      "cell_type": "code",
      "execution_count": null,
      "metadata": {
        "ExecuteTime": {
          "end_time": "2019-10-07T20:31:24.755087Z",
          "start_time": "2019-10-07T20:31:10.835038Z"
        },
        "id": "HjyWBjZ6JUbz"
      },
      "outputs": [],
      "source": [
        "Sample2_provisions = {\"Observed\" : compute_provisions(aggregated_to_triangle(aggregate(Sample2_full, [\"Paid\"]))),\n",
        "                      \"CL\" : compute_provisions(aggregated_to_triangle(aggregate(Sample2_cl_extended, [\"Paid\"]))),\n",
        "                      \"GLM\": compute_provisions(aggregated_to_triangle(aggregate(Sample2_glm_extended, [\"Paid\"]))),\n",
        "                      \"NN\" : compute_provisions(aggregated_to_triangle(aggregate(Sample2_nn_extended, [\"Paid\"])))\n",
        "}\n",
        "\n",
        "Sample2_mses = {\n",
        "     \"CL\": np.log(mse_between_ultimates(Sample2_full, Sample2_cl_extended))\n",
        "    , \"GLM\" : np.log(mse_between_ultimates(Sample2_full, Sample2_glm_extended))\n",
        "    , \"NN\" : np.log(mse_between_ultimates(Sample2_full, Sample2_nn_extended))\n",
        "}"
      ]
    },
    {
      "cell_type": "code",
      "execution_count": null,
      "metadata": {
        "ExecuteTime": {
          "end_time": "2019-10-07T20:31:24.972040Z",
          "start_time": "2019-10-07T20:31:24.757036Z"
        },
        "id": "JwfOuEFbJUbz"
      },
      "outputs": [],
      "source": [
        "display_provision(Sample2_provisions, model_names\n",
        "                , title = \"Sample 2 - Evolution of the provision depending on the projection method used\")"
      ]
    },
    {
      "cell_type": "code",
      "execution_count": null,
      "metadata": {
        "ExecuteTime": {
          "end_time": "2019-10-07T20:31:25.190077Z",
          "start_time": "2019-10-07T20:31:24.975043Z"
        },
        "scrolled": false,
        "id": "bn7t72SbJUbz"
      },
      "outputs": [],
      "source": [
        "display_individual_mses(Sample2_mses, title = \"Sample 2 - Log MSE on individual ultimate claims\")"
      ]
    },
    {
      "cell_type": "markdown",
      "metadata": {
        "id": "_vVs9ficJUbz"
      },
      "source": [
        "**For Samples 1 and 2**, it seems that for the latest accident years with less development, the NN outperforms the Chain Ladder in terms of prediction at an individual claim level. However, NN predictions could not outperform in terms of overall reserve prediction."
      ]
    },
    {
      "cell_type": "markdown",
      "metadata": {
        "id": "rKwSPcO1JUbz"
      },
      "source": [
        "<br>"
      ]
    },
    {
      "cell_type": "markdown",
      "metadata": {
        "id": "znPo2KcaJUbz"
      },
      "source": [
        "## 5.3 Sample 3 <a name=\"five-three\"></a> "
      ]
    },
    {
      "cell_type": "markdown",
      "metadata": {
        "id": "MAjuw_2TJUbz"
      },
      "source": [
        "We compute the provisions, the MSEs:"
      ]
    },
    {
      "cell_type": "code",
      "execution_count": null,
      "metadata": {
        "ExecuteTime": {
          "end_time": "2019-10-07T20:32:02.927081Z",
          "start_time": "2019-10-07T20:31:25.191035Z"
        },
        "id": "2zqi2WZzJUbz"
      },
      "outputs": [],
      "source": [
        "Sample3_provisions = {\"Observed\" : compute_provisions(aggregated_to_triangle(aggregate(Sample3_full, [\"Paid\"]))),\n",
        "                      \"CL\" : compute_provisions(aggregated_to_triangle(aggregate(Sample3_cl_extended, [\"Paid\"]))),\n",
        "                      \"GLM\": compute_provisions(aggregated_to_triangle(aggregate(Sample3_glm_extended, [\"Paid\"]))),\n",
        "                      \"NN\" : compute_provisions(aggregated_to_triangle(aggregate(Sample3_nn_extended, [\"Paid\"])))\n",
        "}\n",
        "\n",
        "Sample3_mses = {\n",
        "     \"CL\": np.log(mse_between_ultimates(Sample3_full, Sample3_cl_extended))\n",
        "    , \"GLM\" : np.log(mse_between_ultimates(Sample3_full, Sample3_glm_extended))\n",
        "    , \"NN\" : np.log(mse_between_ultimates(Sample3_full, Sample3_nn_extended))\n",
        "}"
      ]
    },
    {
      "cell_type": "code",
      "execution_count": null,
      "metadata": {
        "ExecuteTime": {
          "end_time": "2019-10-07T20:32:03.131080Z",
          "start_time": "2019-10-07T20:32:02.929118Z"
        },
        "id": "SfKTumR3JUbz"
      },
      "outputs": [],
      "source": [
        "display_provision(Sample3_provisions, model_names\n",
        "                , title = \"Sample 3 - Evolution of the provision depending on the projection method used\")"
      ]
    },
    {
      "cell_type": "code",
      "execution_count": null,
      "metadata": {
        "ExecuteTime": {
          "end_time": "2019-10-07T20:32:03.338126Z",
          "start_time": "2019-10-07T20:32:03.133081Z"
        },
        "scrolled": false,
        "id": "425uIFa_JUb0"
      },
      "outputs": [],
      "source": [
        "display_individual_mses(Sample3_mses, title = \"Sample 3 - Log MSE on individual ultimate claims\")"
      ]
    },
    {
      "cell_type": "markdown",
      "metadata": {
        "id": "2SnFmDumJUb0"
      },
      "source": [
        "**For Sample3**, which is a mixture of two underlying patterns, the Chain Ladder method estimated reserves very precisely, but on the other hand the method performed badly with the individual claim predictions. Because CL can only estimate one development pattern, one part of the claims predicted by the Chain Ladder is underestimated, while the other part is overestimated. From the results in the previous section, it seems that NNs manage to detect this difference and thus obtain better predictions."
      ]
    },
    {
      "cell_type": "markdown",
      "metadata": {
        "id": "gCZt8Hx5JUb0"
      },
      "source": [
        "<br>"
      ]
    },
    {
      "cell_type": "markdown",
      "metadata": {
        "id": "_cklInr_JUb0"
      },
      "source": [
        "## 5.4 Sample 4 <a name=\"five-four\"></a>"
      ]
    },
    {
      "cell_type": "markdown",
      "metadata": {
        "id": "ao1dpi-UJUb0"
      },
      "source": [
        "We compute the provisions, the MSEs:"
      ]
    },
    {
      "cell_type": "code",
      "execution_count": null,
      "metadata": {
        "ExecuteTime": {
          "end_time": "2019-10-07T20:32:39.401210Z",
          "start_time": "2019-10-07T20:32:03.340132Z"
        },
        "id": "-sSXWxl3JUb0"
      },
      "outputs": [],
      "source": [
        "Sample4_provisions = {\"Observed\" : compute_provisions(aggregated_to_triangle(aggregate(Sample4_full, [\"Paid\"]))),\n",
        "                      \"CL\" : compute_provisions(aggregated_to_triangle(aggregate(Sample4_cl_extended, [\"Paid\"]))),\n",
        "                      \"GLM\": compute_provisions(aggregated_to_triangle(aggregate(Sample4_glm_extended, [\"Paid\"]))),\n",
        "                      \"NN\" : compute_provisions(aggregated_to_triangle(aggregate(Sample4_nn_extended, [\"Paid\"])))\n",
        "}\n",
        "\n",
        "Sample4_mses = {\n",
        "     \"CL\": np.log(mse_between_ultimates(Sample4_full, Sample4_cl_extended))\n",
        "    , \"GLM\" : np.log(mse_between_ultimates(Sample4_full, Sample4_glm_extended))\n",
        "    , \"NN\" : np.log(mse_between_ultimates(Sample4_full, Sample4_nn_extended))\n",
        "}"
      ]
    },
    {
      "cell_type": "code",
      "execution_count": null,
      "metadata": {
        "ExecuteTime": {
          "end_time": "2019-10-07T20:32:39.606129Z",
          "start_time": "2019-10-07T20:32:39.402126Z"
        },
        "id": "yCSWay3OJUb0"
      },
      "outputs": [],
      "source": [
        "display_provision(Sample4_provisions, model_names\n",
        "                , title = \"Sample 4 - Evolution of the provision depending on the projection method used\")"
      ]
    },
    {
      "cell_type": "code",
      "execution_count": null,
      "metadata": {
        "ExecuteTime": {
          "end_time": "2019-10-07T20:32:39.808086Z",
          "start_time": "2019-10-07T20:32:39.608128Z"
        },
        "scrolled": false,
        "id": "t56aAXlyJUb0"
      },
      "outputs": [],
      "source": [
        "display_individual_mses(Sample4_mses\n",
        "                        , title = \"Sample 4 - Log MSE on individual ultimate claims\")"
      ]
    },
    {
      "cell_type": "markdown",
      "metadata": {
        "id": "h4xQ1gXPJUb1"
      },
      "source": [
        "<br>"
      ]
    },
    {
      "cell_type": "markdown",
      "metadata": {
        "id": "ZVehNktJJUb1"
      },
      "source": [
        "## 5.5 Sample 5 <a name=\"five-three\"></a>"
      ]
    },
    {
      "cell_type": "markdown",
      "metadata": {
        "id": "IWo1QEz9JUb1"
      },
      "source": [
        "We compute the provisions, the MSEs:"
      ]
    },
    {
      "cell_type": "code",
      "execution_count": null,
      "metadata": {
        "ExecuteTime": {
          "end_time": "2019-10-07T20:33:17.710129Z",
          "start_time": "2019-10-07T20:32:39.810121Z"
        },
        "id": "phhd8q8fJUb1"
      },
      "outputs": [],
      "source": [
        "Sample5_provisions = {\"Observed\" : compute_provisions(aggregated_to_triangle(aggregate(Sample5_full, [\"Paid\"]))),\n",
        "                      \"CL\" : compute_provisions(aggregated_to_triangle(aggregate(Sample5_cl_extended, [\"Paid\"]))),\n",
        "                      \"GLM\": compute_provisions(aggregated_to_triangle(aggregate(Sample5_glm_extended, [\"Paid\"]))),\n",
        "                      \"NN\" : compute_provisions(aggregated_to_triangle(aggregate(Sample5_nn_extended, [\"Paid\"])))\n",
        "}\n",
        "Sample5_mses = {\n",
        "     \"CL\": np.log(mse_between_ultimates(Sample5_full, Sample5_cl_extended))\n",
        "    , \"GLM\" : np.log(mse_between_ultimates(Sample5_full, Sample5_glm_extended))\n",
        "    , \"NN\" : np.log(mse_between_ultimates(Sample5_full, Sample5_nn_extended))\n",
        "}"
      ]
    },
    {
      "cell_type": "code",
      "execution_count": null,
      "metadata": {
        "ExecuteTime": {
          "end_time": "2019-10-07T20:33:17.955085Z",
          "start_time": "2019-10-07T20:33:17.712080Z"
        },
        "scrolled": false,
        "id": "Maoc17rlJUb1"
      },
      "outputs": [],
      "source": [
        "display_provision(Sample5_provisions, model_names\n",
        "                  , title = \"Sample 5 - Evolution of the provision depending on the projection method used\")"
      ]
    },
    {
      "cell_type": "code",
      "execution_count": null,
      "metadata": {
        "ExecuteTime": {
          "end_time": "2019-10-07T20:33:18.178089Z",
          "start_time": "2019-10-07T20:33:17.958088Z"
        },
        "id": "uXZQ-91PJUb1"
      },
      "outputs": [],
      "source": [
        "display_individual_mses(Sample5_mses, title = \"Sample 5 - Log MSE on individual ultimate claims\")"
      ]
    },
    {
      "cell_type": "markdown",
      "metadata": {
        "id": "-NPsbJ-rJUb2"
      },
      "source": [
        "Finally, **in Samples 4 and 5**, Chain Ladder significantly overestimated the provisions as expected.  NN methods give closer predictions, again because they can make the correct segmentation between the claims with a different underlying development pattern. "
      ]
    },
    {
      "cell_type": "markdown",
      "metadata": {
        "id": "FPw9uAaGJUb2"
      },
      "source": [
        "\n",
        "<br> <br>\n",
        "<br> <br>\n"
      ]
    },
    {
      "cell_type": "markdown",
      "metadata": {
        "id": "YU--q0xNJUb2"
      },
      "source": [
        "# Chapter 6 - Conclusion <a name=\"six\"></a>"
      ]
    },
    {
      "cell_type": "markdown",
      "metadata": {
        "id": "e-Zpb2_nJUb2"
      },
      "source": [
        "Our main conclusions after analysing NN methods in comparison with the commonly used Chain Ladder method are the following: \n",
        "\n",
        "* For a business line with a constant development over the different accident years, **Chain Ladder is still a very simple and intuitive method, which obtains a good estimate of the total provisions**. In this case, **NNs do not always give better results in the overall sense** but **outperforms the CL method in terms of the error on individual ultimate amounts**.\n",
        "\n",
        "* In case a business line is not homogeneous in the sense that the development trend is different for individual claims or changing over time, **Neural Networks have the ability to differentiate claims with statistically different underlying patterns**. Moreover on the overall level of provisions, the **NNs are also able to outperform the CL because the underlying assumptions of the CL are not met** (it assumes a stable development over time). \n"
      ]
    },
    {
      "cell_type": "code",
      "source": [],
      "metadata": {
        "id": "mBQU7BCxXMWs"
      },
      "execution_count": null,
      "outputs": []
    }
  ],
  "metadata": {
    "celltoolbar": "Slideshow",
    "kernelspec": {
      "display_name": "venv_py_individual_claims",
      "language": "python",
      "name": "venv_py_individual_claims"
    },
    "language_info": {
      "codemirror_mode": {
        "name": "ipython",
        "version": 3
      },
      "file_extension": ".py",
      "mimetype": "text/x-python",
      "name": "python",
      "nbconvert_exporter": "python",
      "pygments_lexer": "ipython3",
      "version": "3.7.4"
    },
    "colab": {
      "provenance": [],
      "collapsed_sections": [
        "Bxn-vWUIJUbF",
        "sZlAH4UrJUbH",
        "jr6iJ5VfJUbI",
        "INyEzPxKJUbK",
        "e_VTtOqhJUbL",
        "IIsmWpMPJUbN",
        "gnCD1p8lJUbO",
        "4Oq_ef3aJUbR",
        "tSvQfV41JUbR",
        "xaAinbyvJUbS",
        "VzJW9aBMJUbT",
        "U4QpjPDmJUbW",
        "PVahcbEmJUbW",
        "bZah5egyJUbX",
        "pvK_g50yJUbZ",
        "8jPKYmmWJUbc",
        "rRyGqFIlJUbd",
        "X7T_j_kXJUbd",
        "6ey5nzM2JUbe",
        "hIX62-zlJUbe",
        "jPCyxag4JUbi",
        "TCX2SqZIJUbi",
        "wks9lAi9JUbj",
        "bTd0P_hDJUbj",
        "rqT5_2oTJUbo",
        "ckxlEdqCJUbp",
        "PNQUnnQKJUbt",
        "dBOQtQxQJUbu",
        "SdJRzKeUJUby",
        "QjTIBC6iJUby",
        "znPo2KcaJUbz",
        "_cklInr_JUb0",
        "ZVehNktJJUb1"
      ],
      "toc_visible": true
    }
  },
  "nbformat": 4,
  "nbformat_minor": 0
}